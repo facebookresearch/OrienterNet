{
  "metadata": {
    "bento_stylesheets": {
      "bento/extensions/flow/main.css": true,
      "bento/extensions/kernel_selector/main.css": true,
      "bento/extensions/kernel_ui/main.css": true,
      "bento/extensions/new_kernel/main.css": true,
      "bento/extensions/system_usage/main.css": true,
      "bento/extensions/theme/main.css": true
    },
    "kernelspec": {
      "display_name": "maploc (local)",
      "language": "python",
      "name": "maploc_local",
      "metadata": {
        "is_prebuilt": false,
        "kernel_name": "maploc_local"
      }
    },
    "language_info": {
      "codemirror_mode": {
        "name": "ipython",
        "version": 3
      },
      "file_extension": ".py",
      "mimetype": "text/x-python",
      "name": "python",
      "nbconvert_exporter": "python",
      "pygments_lexer": "ipython3"
    },
    "last_server_session_id": "7bfd42f3-0744-4f5b-96d9-69edd74a4bbf",
    "last_kernel_id": "c01d353a-814e-479f-8a92-08c1ed7d4e11",
    "last_base_url": "https://devvm1417.cln0.facebook.com:8090/",
    "last_msg_id": "1a112bab-367ab112cb6dd8faae5e6dd3_136",
    "outputWidgetContext": {}
  },
  "nbformat": 4,
  "nbformat_minor": 2,
  "cells": [
    {
      "cell_type": "code",
      "metadata": {
        "collapsed": false,
        "originalKey": "e41d5bfe-5366-4694-8a24-71f4fab415fa",
        "code_folding": [],
        "hidden_ranges": [],
        "requestMsgId": "e41d5bfe-5366-4694-8a24-71f4fab415fa",
        "executionStartTime": 1639160860640,
        "executionStopTime": 1639160866907
      },
      "source": [
        "%load_ext autoreload\n",
        "%autoreload 2\n",
        "import torch\n",
        "import yaml\n",
        "import sys\n",
        "from omegaconf import OmegaConf\n",
        "import matplotlib.pyplot as plt\n",
        "import matplotlib as mpl\n",
        "import numpy as np\n",
        "from pathlib import Path\n",
        "sys.path.append('fbsource/surreal/')\n",
        "from maploc.data.loader_mapillary import MapillaryDataModule\n",
        "from maploc.train import GenericModule\n",
        "from maploc.utils.viz_2d import plot_images, plot_keypoints, features_to_RGB, save_plot, add_text\n",
        "from maploc.utils.viz_localization import likelihood_overlay, plot_pose, plot_dense_rotations\n",
        "from maploc.osm.viz import Colormap, plot_nodes\n",
        "from maploc.data.collate import collate\n",
        "from maploc.utils.geo import BoundaryBox, Projection\n",
        "torch.set_grad_enabled(False);\n",
        "plt.rcParams.update({'figure.max_open_warning': 0})"
      ],
      "execution_count": 1,
      "outputs": []
    },
    {
      "cell_type": "code",
      "metadata": {
        "originalKey": "a86806af-27b6-4288-8c48-d73017252e81",
        "showInput": true,
        "customInput": null,
        "collapsed": false,
        "requestMsgId": "a86806af-27b6-4288-8c48-d73017252e81",
        "executionStartTime": 1639160867081,
        "executionStopTime": 1639160883592,
        "code_folding": [],
        "hidden_ranges": []
      },
      "source": [
        "ckpt = 'manifold://psarlin/tree/maploc/experiments/{}/last.ckpt'\n",
        "# exper = \"bev1-osm2-mly12-n100_vgg16-vgg13_bs9-resize256_norm-d8-nrot64\"\n",
        "exper = \"bev1-osm2-mly12-n100_vgg16-vgg13-plane_bs9-resize256_norm-d8-nrot64\"\n",
        "cfg = {}\n",
        "cfg = {'model': {\"num_rotations\": 128}}\n",
        "\n",
        "path = ckpt.format(exper)\n",
        "print(path)\n",
        "model = GenericModule.load_from_checkpoint(path, strict=True, find_best=True, cfg=cfg)\n",
        "model.eval();"
      ],
      "execution_count": 2,
      "outputs": []
    },
    {
      "cell_type": "code",
      "metadata": {
        "originalKey": "23c82505-d001-4f73-b610-f40165f46ec8",
        "showInput": true,
        "customInput": null,
        "code_folding": [],
        "hidden_ranges": [],
        "collapsed": false,
        "requestMsgId": "23c82505-d001-4f73-b610-f40165f46ec8",
        "executionStartTime": 1639160883738,
        "executionStopTime": 1639160884409
      },
      "source": [
        "conf = OmegaConf.load('fbsource/fbcode/scripts/psarlin/maploc/conf/data_mapillary.yaml')\n",
        "conf = OmegaConf.merge(conf, OmegaConf.create(yaml.full_load(\"\"\"\n",
        "local_dir: \"./data/aria_dumps/\"\n",
        "dump_dir: ${.local_dir}\n",
        "scenes:\n",
        "    - reloc_seattle_downtown\n",
        "    # - reloc_detroit_greektown\n",
        "    # - reloc_detroit_gcp\n",
        "tiles_filename: tiles.pkl\n",
        "max_init_error: 0\n",
        "init_from_gps: true\n",
        "return_gps: true\n",
        "val: {batch_size: 1, num_workers: 1}\n",
        "train: ${.val}\n",
        "random: false\n",
        "augmentation: {rot90: false, flip: false}\n",
        "\"\"\")))\n",
        "OmegaConf.resolve(conf)\n",
        "datamodule = MapillaryDataModule(conf)\n",
        "datamodule.prepare_data()\n",
        "datamodule.setup()\n",
        "dataset = datamodule.dataset(\"val\")\n",
        "colormap = Colormap()\n",
        "name2idx = dict(zip(dataset.names, range(len(dataset.names))))\n",
        "is_gt_absolute = False"
      ],
      "execution_count": 3,
      "outputs": []
    },
    {
      "cell_type": "code",
      "metadata": {
        "originalKey": "8162f323-1226-4fec-b2e7-68146eb2fd02",
        "showInput": true,
        "customInput": null,
        "code_folding": [],
        "hidden_ranges": [],
        "collapsed": false,
        "requestMsgId": "8162f323-1226-4fec-b2e7-68146eb2fd02",
        "executionStartTime": 1639175514406,
        "executionStopTime": 1639175514773
      },
      "source": [
        "scene = dataset.cfg.scenes[0]\n",
        "seq_key = list(dataset.dumps[scene])[1]\n",
        "frames = [(sq, n) for sc, sq, n in dataset.names if sc == scene and sq == seq_key]\n",
        "print(len(frames))\n",
        "timestamps = np.array([dataset.dumps[scene][sq][\"views\"][n][\"capture_time\"] for sq, n in frames])\n",
        "plot_images([dataset[name2idx[(scene,)+frames[0]]][\"image\"].permute(1, 2, 0)])"
      ],
      "execution_count": null,
      "outputs": []
    },
    {
      "cell_type": "markdown",
      "metadata": {
        "originalKey": "d774f430-4709-4c47-bc0f-81d4f1e3cf2b",
        "showInput": false,
        "customInput": null,
        "code_folding": [],
        "hidden_ranges": []
      },
      "source": [
        "# Parse MDC LeeLoo output"
      ],
      "attachments": {}
    },
    {
      "cell_type": "code",
      "metadata": {
        "originalKey": "02ae0232-c2a8-452c-951d-a87b0142fc02",
        "showInput": true,
        "customInput": null,
        "code_folding": [],
        "hidden_ranges": [],
        "collapsed": false,
        "requestMsgId": "02ae0232-c2a8-452c-951d-a87b0142fc02",
        "executionStartTime": 1639175517843,
        "executionStopTime": 1639175524473
      },
      "source": [
        "import json\n",
        "import gaia\n",
        "from kapture.io.csv import rigs_from_file\n",
        "import quaternion\n",
        "from maploc.mapillary.processing import decompose_rotmat\n",
        "from maploc.data.aria import get_gaia_gt_id\n",
        "\n",
        "gaia_id = int(seq_key)\n",
        "gt_id = get_gaia_gt_id(gaia_id)\n",
        "aria_dir = Path(\"/home/psarlin/local/aria\", str(gaia_id)).absolute()\n",
        "\n",
        "gt_path = aria_dir / \"gt.mdc\"\n",
        "if not gt_path.exists():\n",
        "    gaia.download_file(gt_id, output_dir=aria_dir, destination_file_name=gt_path.stem)\n",
        "with open(gt_path) as fd:\n",
        "    gt_dict = json.load(fd)\n",
        "\n",
        "kapture_path = aria_dir / f\"kapture/{gaia_id}/sensors\"\n",
        "sensor_id = f\"{gaia_id}_RGB\"\n",
        "rigs = rigs_from_file(kapture_path / \"rigs.txt\", [sensor_id])\n",
        "T_rgb2rig = rigs[str(gaia_id), sensor_id].inverse()\n",
        "\n",
        "def match_timestamps(ts_rgb, ts_kf):\n",
        "    idx = np.searchsorted(ts_rgb, ts_kf)\n",
        "    idx = np.minimum(idx, len(ts_rgb)-1)\n",
        "    prev = np.maximum(idx-1, 0)\n",
        "    idx_kf2rgb = np.where(np.abs(ts_rgb[idx] - ts_kf) < np.abs(ts_rgb[prev] - ts_kf), idx, prev)\n",
        "    print(\"Max timestamp error\", np.abs(ts_kf - ts_rgb[idx_kf2rgb]).max()/1e6)\n",
        "    return idx_kf2rgb\n",
        "\n",
        "compactse3d = {p[\"center_capture_time_us\"]: p[\"anchored_pose_type\"][\"world_anchored_pose\"] for p in gt_dict[\"trajectory\"][\"sampled_poses\"]}\n",
        "ts2pose_rig = {}\n",
        "for p in gt_dict[\"trajectory\"][\"sampled_poses\"]:\n",
        "    ts = p[\"center_capture_time_us\"]\n",
        "    compactse3d = p[\"anchored_pose_type\"][\"world_anchored_pose\"][\"transform_parent_trajpose\"]\n",
        "    q_xyzw, t_rig2w = np.split(compactse3d, [4])\n",
        "    R_rig2w = quaternion.as_rotation_matrix(quaternion.from_float_array(np.r_[q_xyzw[-1], q_xyzw[:3]]))\n",
        "    ts2pose_rig[ts] = (R_rig2w, t_rig2w)\n",
        "\n",
        "timestamps_gt = np.array(list(ts2pose_rig))\n",
        "ts_rgb2gt = dict(zip(timestamps, timestamps_gt[match_timestamps(timestamps_gt, timestamps/1000)]))\n",
        "\n",
        "xy_gt_all = []\n",
        "yaws_gt_all = []\n",
        "for ts in timestamps:\n",
        "    R_rig2w, t_rig2w = ts2pose_rig[ts_rgb2gt[ts]]\n",
        "    R_rgb2w = R_rig2w @ quaternion.as_rotation_matrix(T_rgb2rig.r)\n",
        "    t_rgb2w = R_rig2w @ T_rgb2rig.t[:, 0] + t_rig2w\n",
        "    *_, yaw = decompose_rotmat(R_rgb2w)\n",
        "    xy_gt_all.append(t_rgb2w[:2])\n",
        "    yaws_gt_all.append(yaw)\n",
        "xy_gt_all = np.stack(xy_gt_all)\n",
        "yaws_gt_all = np.stack(yaws_gt_all)"
      ],
      "execution_count": 314,
      "outputs": []
    },
    {
      "cell_type": "markdown",
      "metadata": {
        "originalKey": "c8882d62-9f09-46d7-88b9-104e7383dbbf",
        "showInput": false,
        "customInput": null,
        "code_folding": [],
        "hidden_ranges": []
      },
      "source": [
        "# Subsample for eval"
      ],
      "attachments": {}
    },
    {
      "cell_type": "code",
      "metadata": {
        "originalKey": "442b33aa-aeaf-4428-915a-ddfef8783d66",
        "showInput": true,
        "customInput": null,
        "code_folding": [],
        "hidden_ranges": [],
        "collapsed": false,
        "requestMsgId": "442b33aa-aeaf-4428-915a-ddfef8783d66",
        "executionStartTime": 1639180226589,
        "executionStopTime": 1639180226908
      },
      "source": [
        "idx_select = np.arange(len(timestamps))[::1]#[::len(timestamps)//100]\n",
        "frames_select = [frames[i] for i in idx_select]\n",
        "print(len(frames_select))\n",
        "xy_gt = torch.from_numpy(xy_gt_all[idx_select]).float()\n",
        "yaws_gt = torch.from_numpy(yaws_gt_all[idx_select]).float()"
      ],
      "execution_count": 443,
      "outputs": []
    },
    {
      "cell_type": "code",
      "metadata": {
        "originalKey": "1edc3891-4c72-4e5f-b2a5-70306b19800e",
        "showInput": true,
        "customInput": null,
        "code_folding": [],
        "hidden_ranges": [],
        "collapsed": false,
        "requestMsgId": "1edc3891-4c72-4e5f-b2a5-70306b19800e",
        "executionStartTime": 1639178126342,
        "executionStopTime": 1639178126776
      },
      "source": [
        "plt.scatter(*xy_gt_all.T, c=np.linspace(0, 1, len(xy_gt_all)), cmap=\"jet\")\n",
        "plt.gca().set_aspect(\"equal\")"
      ],
      "execution_count": null,
      "outputs": []
    },
    {
      "cell_type": "code",
      "metadata": {
        "originalKey": "3aa754f3-787d-4fd9-b6e0-014b553a1e21",
        "showInput": true,
        "customInput": null,
        "code_folding": [],
        "hidden_ranges": [],
        "collapsed": false,
        "requestMsgId": "3aa754f3-787d-4fd9-b6e0-014b553a1e21",
        "executionStartTime": 1639180244476,
        "executionStopTime": 1639180498979
      },
      "source": [
        "%%time\n",
        "from maploc.data.sequential import unpack_batches\n",
        "batches = [dataset[name2idx[(scene, sq, n)]] for sq, n in frames_select]\n",
        "preds = [model(collate([b])) for b in batches]\n",
        "uvt_p = [p[\"xyr_max\"][0] for p in preds]\n",
        "logprobs = [p[\"log_probs\"][0] for p in preds]\n",
        "images, canvas, maps, yaws_slam, _, xy_slam, xy_gps = unpack_batches(batches)\n",
        "maps = list(map(colormap.apply, maps))"
      ],
      "execution_count": 444,
      "outputs": []
    },
    {
      "cell_type": "code",
      "metadata": {
        "originalKey": "f91d697b-ee9b-4d1d-a239-b405d132173d",
        "showInput": true,
        "customInput": null,
        "code_folding": [],
        "hidden_ranges": [],
        "collapsed": false,
        "requestMsgId": "f91d697b-ee9b-4d1d-a239-b405d132173d",
        "executionStartTime": 1639180499142,
        "executionStopTime": 1639180499145
      },
      "source": [
        "from maploc.models.sequential import gps_alignment\n",
        "accuracy_gps = torch.stack([b.get(\"accuracy_gps\", torch.tensor(15.)) for b in batches])\n",
        "belief_align_gps, xy_seq_gps, uvt_align_gps, xy_align_gps = gps_alignment(\n",
        "    xy_gps, accuracy_gps, canvas, xy_gt, yaws_gt, num_rotations=512)\n",
        "plot_images([belief_align_gps.max(-1).values, belief_align_gps.max(-1).values.exp()], cmaps=\"jet\")"
      ],
      "execution_count": 445,
      "outputs": []
    },
    {
      "cell_type": "code",
      "metadata": {
        "originalKey": "8ddb6fe4-aad4-4f5a-a0c6-c7b831ba0018",
        "showInput": true,
        "customInput": null,
        "code_folding": [],
        "hidden_ranges": [],
        "collapsed": false,
        "requestMsgId": "8ddb6fe4-aad4-4f5a-a0c6-c7b831ba0018",
        "executionStartTime": 1639179540492,
        "executionStopTime": 1639179704704
      },
      "source": [
        "%%time\n",
        "from maploc.models.sequential import rigid_alignment\n",
        "from maploc.osm.raster import Canvas\n",
        "from maploc.utils.geo import BoundaryBox\n",
        "\n",
        "tile_size = dataset.cfg.crop_size_meters\n",
        "ppm = 1\n",
        "num_rotations = 256\n",
        "xy_init = xy_gps[0].numpy()\n",
        "\n",
        "for _ in range(5):\n",
        "    # print(ppm, num_rotations, tile_size, ppm**2*num_rotations/256*tile_size/64)\n",
        "    canvas_align = Canvas(BoundaryBox(xy_init-tile_size, xy_init+tile_size), ppm)\n",
        "    belief_align, uvt_seq, _, uvt_align_ref = rigid_alignment(logprobs, canvas, xy_gt, yaws_gt, num_rotations, canvas_align, )\n",
        "    xy_align_ref = canvas_align.to_xy(uvt_align_ref[:2])\n",
        "    print(xy_align_ref, uvt_align_ref[-1])\n",
        "    plot_images([belief_align.max(-1).values, belief_align.max(-1).values.exp()], cmaps=\"jet\")\n",
        "\n",
        "    ppm *= 2\n",
        "    num_rotations *= 2\n",
        "    tile_size /= 4\n",
        "    num_rotations = min(num_rotations, 4096)\n",
        "    tile_size = max(tile_size, 1)\n",
        "    xy_init = xy_align_ref"
      ],
      "execution_count": null,
      "outputs": []
    },
    {
      "cell_type": "code",
      "metadata": {
        "originalKey": "bf804e66-701a-4c79-8f84-0f781ba5ec90",
        "showInput": true,
        "customInput": null,
        "code_folding": [],
        "hidden_ranges": [],
        "collapsed": false,
        "requestMsgId": "bf804e66-701a-4c79-8f84-0f781ba5ec90",
        "executionStartTime": 1639180190071,
        "executionStopTime": 1639180192059
      },
      "source": [
        "bounds = (xy_gps.numpy().min(0), xy_gps.numpy().max(0))\n",
        "bbox_total = BoundaryBox(*bounds) + dataset.cfg.crop_size_meters\n",
        "tile_total = dataset.tile_managers[scene].query(bbox_total)\n",
        "map_total = colormap.apply(tile_total.raster)\n",
        "uv_gps = tile_total.to_uv(xy_gps.numpy())\n",
        "uv_seq_gps = tile_total.to_uv(xy_seq_gps.numpy())\n",
        "uv_seq_total = tile_total.to_uv([c.to_xy(uvt[:2].numpy()) for c, uvt in zip(canvas, uvt_seq)])\n",
        "\n",
        "plot_images([map_total])\n",
        "uv_total = tile_total.to_uv([c.to_xy(uvt[:2].numpy()) for c, uvt in zip(canvas, uvt_p)])\n",
        "plt.plot(*uv_total.T, marker='o', ms=4, lw=1, c=\"k\", label=\"single\", alpha=0.5);\n",
        "plt.plot(*uv_gps.T, marker='o', ms=4, lw=1, c=\"blue\", label=\"GPS\");\n",
        "plt.plot(*uv_seq_gps.T, marker='o', ms=4, lw=1, c=\"orange\", label=\"GPS seq\");\n",
        "plt.plot(*uv_seq_total.T, marker='o', ms=4, lw=1, c=\"r\", label=\"sequential\");"
      ],
      "execution_count": null,
      "outputs": []
    },
    {
      "cell_type": "markdown",
      "metadata": {
        "originalKey": "0220bd36-e77e-43ae-9b43-9e64b1c0da44",
        "showInput": false,
        "customInput": null,
        "code_folding": [],
        "hidden_ranges": []
      },
      "source": [
        "# Check pointcloud alignment"
      ],
      "attachments": {}
    },
    {
      "cell_type": "code",
      "metadata": {
        "originalKey": "d5bd919e-6667-4d55-b26b-b1c56df4f75d",
        "showInput": true,
        "customInput": null
      },
      "source": [
        "from pathlib import Path\n",
        "from livemaps.mapping.sparse_map import create_map_context_from_filesystem\n",
        "sparse_map, _, _, _ = create_map_context_from_filesystem(\n",
        "    mdc_prefix=str(aria_dir / f\"gaia:{gaia_id}/reconstruction/result\"),\n",
        "    sparse_map=True, pose_graph=False, image_reader=False, descriptor_db=False,\n",
        ")\n",
        "all_p3d = np.stack([sparse_map.get_point_in_world(i) for i in sparse_map.track_ids()])"
      ],
      "execution_count": null,
      "outputs": []
    },
    {
      "cell_type": "code",
      "metadata": {
        "originalKey": "129b462b-cfb7-4be2-b5f8-4b11c2a9c564",
        "showInput": true,
        "customInput": null,
        "code_folding": [],
        "hidden_ranges": [],
        "collapsed": false,
        "requestMsgId": "129b462b-cfb7-4be2-b5f8-4b11c2a9c564",
        "executionStartTime": 1639179740974,
        "executionStopTime": 1639179741305
      },
      "source": [
        "from maploc.models.utils import rotmat2d, deg2rad\n",
        "p3d_xy = (torch.from_numpy(all_p3d[:, :2]) - xy_slam[0]) @ rotmat2d(deg2rad(yaws_slam[0] - uvt_seq[0][2])).T + canvas[0].to_xy(uvt_seq[0][:2]).float()\n",
        "p3d_uv = tile_total.to_uv(p3d_xy)"
      ],
      "execution_count": 416,
      "outputs": []
    },
    {
      "cell_type": "code",
      "metadata": {
        "originalKey": "cc4ef1df-95f3-4bc3-85c0-a6a3b7e234ae",
        "showInput": true,
        "customInput": null,
        "collapsed": false,
        "requestMsgId": "cc4ef1df-95f3-4bc3-85c0-a6a3b7e234ae",
        "executionStartTime": 1639180155248,
        "executionStopTime": 1639180158970,
        "code_folding": [],
        "hidden_ranges": []
      },
      "source": [
        "plot_images([map_total], dpi=200)\n",
        "plt.scatter(*p3d_uv[tile_total.bbox.contains(p3d_xy.numpy())].T, c=\"r\", s=0.2, alpha=0.5)\n",
        "p = 30\n",
        "c = uv_seq_total[len(uv_seq_total)//2-15]\n",
        "plt.ylim([c[1]+p, c[1]-p])\n",
        "plt.xlim([c[0]-p, c[0]+p]);"
      ],
      "execution_count": 436,
      "outputs": []
    },
    {
      "cell_type": "code",
      "metadata": {
        "originalKey": "6013582c-759f-446b-9a57-569e11609dea",
        "showInput": true,
        "customInput": null,
        "collapsed": false,
        "requestMsgId": "6013582c-759f-446b-9a57-569e11609dea",
        "executionStartTime": 1639178048772,
        "executionStopTime": 1639178052518,
        "code_folding": [],
        "hidden_ranges": []
      },
      "source": [
        ""
      ],
      "execution_count": 373,
      "outputs": []
    }
  ]
}
