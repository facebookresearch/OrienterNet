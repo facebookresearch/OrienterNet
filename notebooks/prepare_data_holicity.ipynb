{
  "metadata": {
    "bento_stylesheets": {
      "bento/extensions/flow/main.css": true,
      "bento/extensions/kernel_selector/main.css": true,
      "bento/extensions/kernel_ui/main.css": true,
      "bento/extensions/new_kernel/main.css": true,
      "bento/extensions/system_usage/main.css": true,
      "bento/extensions/theme/main.css": true
    },
    "kernelspec": {
      "display_name": "maploc (local)",
      "language": "python",
      "name": "maploc_local",
      "metadata": {
        "is_prebuilt": false,
        "kernel_name": "maploc_local"
      }
    },
    "language_info": {
      "codemirror_mode": {
        "name": "ipython",
        "version": 3
      },
      "file_extension": ".py",
      "mimetype": "text/x-python",
      "name": "python",
      "nbconvert_exporter": "python",
      "pygments_lexer": "ipython3"
    },
    "last_server_session_id": "3cabf4fa-b374-4c75-a8e1-72c124fac837",
    "last_kernel_id": "c6159a1f-3f7a-4562-9e43-44ded61c3ab6",
    "last_base_url": "https://devvm1417.cln0.facebook.com:8090/",
    "last_msg_id": "780af091-33b299ff64e58db44dc7f1fa_33652",
    "outputWidgetContext": {}
  },
  "nbformat": 4,
  "nbformat_minor": 2,
  "cells": [
    {
      "cell_type": "code",
      "metadata": {
        "collapsed": false,
        "originalKey": "569d9125-22f9-44c4-855c-02e820b256d0",
        "code_folding": [],
        "hidden_ranges": [],
        "requestMsgId": "569d9125-22f9-44c4-855c-02e820b256d0",
        "executionStartTime": 1634527335979,
        "executionStopTime": 1634527335987
      },
      "source": [
        "%load_ext autoreload\n",
        "%autoreload 2\n",
        "\n",
        "import sys\n",
        "from pathlib import Path\n",
        "import numpy as np\n",
        "import cv2\n",
        "import matplotlib as mpl\n",
        "import matplotlib.pyplot as plt\n",
        "from tqdm import tqdm\n",
        "\n",
        "sys.path.append('fbsource/fbcode/surreal/')\n",
        "from maploc.data.holicity import Projection as ProjectionHolicity, prepare_views\n",
        "from maploc.utils.geo import Projection\n",
        "from maploc.osm.tiling import prepare_tiles, plot_locations\n",
        "from maploc.osm.parser import match_to_group, Patterns, Groups\n",
        "from maploc.utils.viz_2d import plot_images, plot_keypoints, add_text, save_plot\n",
        "from maploc.utils.geometry import Pose\n",
        "from maploc.utils.geo import BoundaryBox\n",
        "\n",
        "root = Path('buckets/llp_datasets/holicity/')\n",
        "root = Path('./data/holicity_v2')"
      ],
      "execution_count": 1,
      "outputs": []
    },
    {
      "cell_type": "code",
      "metadata": {
        "originalKey": "22904872-3caa-4aad-b919-f2a7a7d2805e",
        "showInput": true,
        "customInput": null,
        "code_folding": [],
        "hidden_ranges": [],
        "collapsed": false,
        "requestMsgId": "22904872-3caa-4aad-b919-f2a7a7d2805e",
        "executionStartTime": 1634527335989,
        "executionStopTime": 1634527487664
      },
      "source": [
        "proj = Projection(\"epsg:27700\")\n",
        "dump = prepare_views(root, proj)"
      ],
      "execution_count": 2,
      "outputs": []
    },
    {
      "cell_type": "code",
      "metadata": {
        "originalKey": "f6891e1a-f30e-41a7-98ba-1f1ad34caa84",
        "showInput": true,
        "customInput": null,
        "code_folding": [],
        "hidden_ranges": [],
        "collapsed": false,
        "requestMsgId": "f6891e1a-f30e-41a7-98ba-1f1ad34caa84",
        "executionStartTime": 1634533497822,
        "executionStopTime": 1634533497825
      },
      "source": [
        "tile_radius = 96\n",
        "ppm = 2\n",
        "out_dir = Path('./data/holicity_v2_dump')\n",
        "out_dir.mkdir(exist_ok=True, parents=True)\n",
        "osm_path = Path(\"./data/osm/greater-london-latest-cut.osm\")\n",
        "osm, tiling = prepare_tiles(dump[\"views\"], proj, out_dir, tile_radius, ppm, viz=True, skip_write=False, osm_path=osm_path)\n",
        "\n",
        "from maploc.utils.io import write_json\n",
        "dump_path = out_dir / \"dump.json\"\n",
        "dump_path.parent.mkdir(parents=True, exist_ok=True)\n",
        "write_json(dump_path, {**dump, **tiling})"
      ],
      "execution_count": 69,
      "outputs": []
    },
    {
      "cell_type": "code",
      "metadata": {
        "originalKey": "0b09b560-45de-4d13-ad80-80d7240124cc",
        "showInput": true,
        "customInput": null,
        "collapsed": false,
        "requestMsgId": "0b09b560-45de-4d13-ad80-80d7240124cc",
        "executionStartTime": 1634532214213,
        "executionStopTime": 1634532229951,
        "code_folding": [],
        "hidden_ranges": []
      },
      "source": [
        "from maploc.osm.analysis import plot_osm_histograms\n",
        "plot_osm_histograms(osm, fontsize=3.5, dpi=200)"
      ],
      "execution_count": null,
      "outputs": []
    },
    {
      "cell_type": "code",
      "metadata": {
        "originalKey": "7e5ebf74-2604-4cd4-8e5e-95c86d2e5bde",
        "showInput": true,
        "customInput": null,
        "code_folding": [],
        "hidden_ranges": [],
        "collapsed": false,
        "requestMsgId": "7e5ebf74-2604-4cd4-8e5e-95c86d2e5bde",
        "executionStartTime": 1634564345079,
        "executionStopTime": 1634564347185
      },
      "source": [
        "from maploc.osm.analysis import plot_sankey_hierarchy\n",
        "plot_sankey_hierarchy(osm);"
      ],
      "execution_count": null,
      "outputs": []
    },
    {
      "cell_type": "markdown",
      "metadata": {
        "originalKey": "8c677b97-64e3-45bf-92b1-128b1218fc3e",
        "showInput": false,
        "customInput": null,
        "code_folding": [],
        "hidden_ranges": [],
        "collapsed": false,
        "requestMsgId": "8c677b97-64e3-45bf-92b1-128b1218fc3e",
        "executionStartTime": 1634536835027,
        "executionStopTime": 1634536835049
      },
      "source": [
        "# Create data split"
      ],
      "attachments": {}
    },
    {
      "cell_type": "code",
      "metadata": {
        "originalKey": "c37ec719-a59f-42ff-9455-f84505808f69",
        "showInput": true,
        "customInput": null,
        "code_folding": [],
        "hidden_ranges": [],
        "collapsed": false,
        "requestMsgId": "c37ec719-a59f-42ff-9455-f84505808f69",
        "executionStartTime": 1634567116624,
        "executionStopTime": 1634567118690
      },
      "source": [
        "import matplotlib.pyplot as plt\n",
        "import matplotlib as mpl\n",
        "from  maploc.utils.geo import BoundaryBox\n",
        "from maploc.utils.io import write_json\n",
        "import json\n",
        "\n",
        "margin = 96*2\n",
        "\n",
        "# read dump file\n",
        "root = Path('./data/holicity_v2_dump/')\n",
        "with open(root / 'dump.json', 'r') as fp:\n",
        "    dump = json.load(fp)\n",
        "names = list(dump[\"views\"])\n",
        "locations = np.array([dump[\"views\"][n][\"t_c2w\"][:2] for n in names])\n",
        "bbox_all = BoundaryBox(locations.min(0), locations.max(0))\n",
        "\n",
        "med = np.percentile(locations, 70, 0)\n",
        "size = 220\n",
        "bbox_val = BoundaryBox(med-size, med+size)\n",
        "is_val = bbox_val.contains(locations)\n",
        "split = {\n",
        "    'train': [names[i] for i in np.where(~is_val)[0]],\n",
        "    'val': [names[i] for i in np.where(is_val)[0]],\n",
        "}\n",
        "print(is_val.mean(), len(split['train']), len(split['val']))\n",
        "write_json(root / f'splits_{size}m.json', split)\n",
        "\n",
        "def draw_bbox(min_, max_, color):\n",
        "    plt.gca().add_patch(\n",
        "        mpl.patches.Rectangle(\n",
        "            min_, *(max_ - min_), lw=1, ec=color, fc=\"none\"\n",
        "        )\n",
        "    )\n",
        "plt.scatter(*locations.T, s=0.1)\n",
        "draw_bbox(bbox_all.min_, bbox_all.max_, 'r')\n",
        "draw_bbox(bbox_all.min_ - margin, bbox_all.max_ + margin, 'k')\n",
        "draw_bbox(bbox_val.min_, bbox_val.max_, 'g')\n",
        "plt.gca().set_aspect(\"equal\")\n",
        "plt.scatter(*med, s=10, color='red')"
      ],
      "execution_count": 123,
      "outputs": []
    },
    {
      "cell_type": "markdown",
      "metadata": {
        "originalKey": "5c10f06e-1a6d-47db-ad8e-0a69fabdd58a",
        "showInput": false,
        "customInput": null,
        "code_folding": [],
        "hidden_ranges": []
      },
      "source": [
        "# Check projections"
      ],
      "attachments": {}
    },
    {
      "cell_type": "code",
      "metadata": {
        "originalKey": "77f62629-a8f8-401d-96f6-6afe761351ac",
        "showInput": true,
        "customInput": null,
        "code_folding": [],
        "hidden_ranges": [],
        "collapsed": false,
        "requestMsgId": "77f62629-a8f8-401d-96f6-6afe761351ac",
        "executionStartTime": 1634302386917,
        "executionStopTime": 1634389601159
      },
      "source": [
        "names = list(views.keys())\n",
        "name1, name2 = np.random.RandomState(0).choice(names, 2)\n",
        "xy1 = np.array(views[name1][\"t_c2w\"])[:2]\n",
        "xy2 = np.array(views[name2][\"t_c2w\"])[:2]\n",
        "geo1 = np.array(views[name1][\"gps\"])\n",
        "geo2 = np.array(views[name2][\"gps\"])\n",
        "d = np.linalg.norm(xy1 - xy2)\n",
        "d2 = np.linalg.norm(proj2.project(geo1) - proj2.project(geo2))\n",
        "print(d, d2)\n",
        ""
      ],
      "execution_count": null,
      "outputs": []
    },
    {
      "cell_type": "code",
      "metadata": {
        "originalKey": "179bd43e-cda7-4473-9593-926a9548c92c",
        "showInput": true,
        "customInput": null,
        "code_folding": [],
        "hidden_ranges": [],
        "collapsed": false,
        "requestMsgId": "179bd43e-cda7-4473-9593-926a9548c92c",
        "executionStartTime": 1634302619117,
        "executionStopTime": 1634389601166
      },
      "source": [
        "names = list(views.keys())\n",
        "name1, name2 = np.random.RandomState(0).choice(names, 2)\n",
        "xy1 = np.array(views[name1][\"t_c2w\"])[:2]\n",
        "geo1 = np.array(views[name1][\"gps\"])\n",
        "geo2 = geo1 + np.array([1e-3, 1e-3])\n",
        "xy2 = proj.project(geo2)\n",
        "\n",
        "d = np.linalg.norm(xy1 - xy2)\n",
        "d2 = np.linalg.norm(proj2.project(geo1) - proj2.project(geo2))\n",
        "print(d, d2)\n",
        ""
      ],
      "execution_count": null,
      "outputs": []
    }
  ]
}
