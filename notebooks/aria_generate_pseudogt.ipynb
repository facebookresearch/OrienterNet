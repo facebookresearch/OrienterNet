{
  "metadata": {
    "dataExplorerConfig": {},
    "bento_stylesheets": {
      "bento/extensions/flow/main.css": true,
      "bento/extensions/kernel_selector/main.css": true,
      "bento/extensions/kernel_ui/main.css": true,
      "bento/extensions/new_kernel/main.css": true,
      "bento/extensions/system_usage/main.css": true,
      "bento/extensions/theme/main.css": true
    },
    "kernelspec": {
      "display_name": "maploc (local)",
      "language": "python",
      "name": "maploc_local",
      "metadata": {
        "is_prebuilt": false,
        "kernel_name": "maploc_local",
        "cinder_runtime": false
      }
    },
    "language_info": {
      "codemirror_mode": {
        "name": "ipython",
        "version": 3
      },
      "file_extension": ".py",
      "mimetype": "text/x-python",
      "name": "python",
      "nbconvert_exporter": "python",
      "pygments_lexer": "ipython3"
    },
    "last_server_session_id": "ebd633ba-d6ca-421f-bbb1-72498db05c2d",
    "last_kernel_id": "0673b154-ae1a-4f10-bf85-cb449071dbeb",
    "last_base_url": "https://0499.od.fbinfra.net:443/",
    "last_msg_id": "9bb3cbe4-613065a5048f125f5a423324_325",
    "outputWidgetContext": {}
  },
  "nbformat": 4,
  "nbformat_minor": 2,
  "cells": [
    {
      "cell_type": "code",
      "metadata": {
        "collapsed": false,
        "originalKey": "33c695b9-6bd6-48c3-b661-99847e0ba02b",
        "requestMsgId": "33c695b9-6bd6-48c3-b661-99847e0ba02b",
        "executionStartTime": 1657275685980,
        "executionStopTime": 1657275691137,
        "code_folding": [],
        "hidden_ranges": [],
        "customOutput": null
      },
      "source": [
        "%load_ext autoreload\n",
        "%autoreload 2\n",
        "\n",
        "import torch\n",
        "import yaml\n",
        "import sys\n",
        "from omegaconf import OmegaConf\n",
        "import matplotlib.pyplot as plt\n",
        "import matplotlib as mpl\n",
        "import numpy as np\n",
        "from tqdm import tqdm\n",
        "from pathlib import Path\n",
        "import os.path as osp\n",
        "import fsspec\n",
        "import json\n",
        "sys.path.append('fbsource/fbcode/surreal/')\n",
        "from maploc.utils.viz_2d import plot_images, plot_keypoints, features_to_RGB, save_plot, add_text\n",
        "from maploc.osm.viz import Colormap, plot_nodes\n",
        "from maploc.data.torch import collate\n",
        "from maploc.utils.geo import BoundaryBox, Projection\n",
        "from maploc.utils.io import write_json\n",
        "from maploc.osm.tiling_v2 import TileManager\n",
        "\n",
        "colormap = Colormap()\n",
        "torch.set_grad_enabled(False);\n",
        "plt.rcParams.update({'figure.max_open_warning': 0})\n",
        "\n",
        "from maploc.data.aria import compute_geoalignment, datasets, FILENAME_GEOALIGN_GPS, FILENAME_GEOALIGN_MAPLOC"
      ],
      "execution_count": 1,
      "outputs": []
    },
    {
      "cell_type": "markdown",
      "metadata": {
        "originalKey": "3ad6a930-3d13-4e9f-82cc-ade46bf171a0",
        "showInput": false,
        "customInput": null,
        "code_folding": [],
        "hidden_ranges": []
      },
      "source": [
        "# Initial alignment with GPS only"
      ],
      "attachments": {}
    },
    {
      "cell_type": "markdown",
      "metadata": {
        "originalKey": "fc441d14-fd7c-48a1-95b7-ea2a74c1bda7",
        "showInput": false,
        "customInput": null,
        "code_folding": [],
        "hidden_ranges": []
      },
      "source": [
        "The alignment is automatically written to `output_dir/$FILENAME_GEOALIGN_GPS`. This part does not require a GPU."
      ],
      "attachments": {}
    },
    {
      "cell_type": "code",
      "metadata": {
        "originalKey": "09b546d8-64a3-4abc-9d8a-2dee0365ccbc",
        "showInput": true,
        "customInput": null,
        "code_folding": [],
        "hidden_ranges": [],
        "collapsed": false,
        "requestMsgId": "09b546d8-64a3-4abc-9d8a-2dee0365ccbc",
        "customOutput": null,
        "executionStartTime": 1657231571106,
        "executionStopTime": 1657231710881
      },
      "source": [
        "scene = \"reloc_seattle_downtown\"\n",
        "scene = \"reloc_seattle_pike\"\n",
        "scene = \"reloc_seattle_westlake\"\n",
        "scene = \"reloc_detroit_greektown\"\n",
        "scene = \"reloc_detroit_gcp\"\n",
        "scene = \"reloc_detroit_cp\"\n",
        "\n",
        "output_dir = Path(\"/home/psarlin/local/data/aria_dumps_v2/\", scene)\n",
        "tmp_dir = Path(\"/home/psarlin/local/aria\")\n",
        "tag = datasets[scene][\"tag\"]\n",
        "print(scene, tag)\n",
        "\n",
        "output_dir.mkdir(parents=True, exist_ok=True)\n",
        "Rt_slam2geo, projection, all_lla_gps, all_xy_gps, all_xy_gt_align, all_indices  = compute_geoalignment(output_dir/FILENAME_GEOALIGN_GPS, tmp_dir, tag=tag, visualize=True)\n",
        "\n",
        "acc = all_lla_gps[:, -1]\n",
        "plt.figure(dpi=200)\n",
        "plt.scatter(*all_xy_gps.T, c=all_indices, cmap=\"rainbow\", s=1, linewidth=0)\n",
        "plt.gca().set_aspect(\"equal\")\n",
        "plt.title(\"Raw GPS measurements\")\n",
        "plt.figure(dpi=200)\n",
        "plt.scatter(*all_xy_gps.T, c=np.clip(acc / np.percentile(acc, 95), 0, 1), cmap=\"jet\", s=1)\n",
        "plt.gca().set_aspect(\"equal\")\n",
        "plt.title(\"Raw GPS measurements with accuracy\")\n",
        "plt.figure(dpi=200)\n",
        "plt.scatter(*all_xy_gps[acc > 15].T, color=\"red\", linewidth=0, s=1, label=\"accuracy>15m\")\n",
        "plt.scatter(*all_xy_gps[acc < 15].T, color=\"blue\", linewidth=0, s=1, label=\"accuracy<15m\")\n",
        "plt.legend()\n",
        "plt.gca().set_aspect(\"equal\")\n",
        "plt.title(\"Raw GPS measurements\")\n",
        "\n",
        "bbox_total = BoundaryBox(*np.percentile(all_xy_gt_align, [0, 100], 0))\n",
        "tiler = TileManager.from_bbox(output_dir, projection, bbox_total + 256, 128, 2)\n",
        "tile_total = tiler.query(bbox_total + 64)\n",
        "map_total = Colormap().apply(tile_total.raster)\n",
        "\n",
        "plot_images([map_total], dpi=200)\n",
        "plt.plot(*tile_total.to_uv(all_xy_gt_align).T, c='k', lw=0.5);\n",
        "plt.scatter(*tile_total.to_uv(all_xy_gps).T, c='r', s=1, linewidth=0);"
      ],
      "execution_count": 4,
      "outputs": []
    },
    {
      "cell_type": "code",
      "metadata": {
        "originalKey": "479d5e98-3cf2-43fe-90af-cfc65c41fe49",
        "showInput": true,
        "customInput": null,
        "collapsed": false,
        "requestMsgId": "479d5e98-3cf2-43fe-90af-cfc65c41fe49",
        "customOutput": null,
        "executionStartTime": 1657231846854,
        "executionStopTime": 1657231847409,
        "code_folding": [],
        "hidden_ranges": []
      },
      "source": [
        "plot_images([map_total], dpi=200)\n",
        "plt.plot(*tile_total.to_uv(all_xy_gt_align).T, c='k', lw=0.5);\n",
        "# plt.scatter(*tile_total.to_uv(all_xy_gps).T, c='k', s=2);\n",
        "c = tile_total.to_uv(all_xy_gt_align[1200])  # change this index\n",
        "p = 150\n",
        "plt.ylim([c[1]+p, c[1]-p])\n",
        "plt.xlim([c[0]-p, c[0]+p]);"
      ],
      "execution_count": null,
      "outputs": []
    },
    {
      "cell_type": "markdown",
      "metadata": {
        "originalKey": "99bf8e3d-e3e5-42ca-8f3d-a30c4555fdde",
        "showInput": false,
        "customInput": null,
        "code_folding": [],
        "hidden_ranges": []
      },
      "source": [
        "# Refine with predictions"
      ],
      "attachments": {}
    },
    {
      "cell_type": "markdown",
      "metadata": {
        "originalKey": "361681f8-1413-4e8b-a81b-e28b33d124b4",
        "showInput": false,
        "customInput": null,
        "code_folding": [],
        "hidden_ranges": [],
        "collapsed": false,
        "requestMsgId": "361681f8-1413-4e8b-a81b-e28b33d124b4",
        "customOutput": null,
        "executionStartTime": 1657276082775,
        "executionStopTime": 1657276082974
      },
      "source": [
        "This requires a GPU."
      ],
      "attachments": {}
    },
    {
      "cell_type": "code",
      "metadata": {
        "originalKey": "1be5ddf4-72e2-463a-ace3-c9f0f96e99e2",
        "showInput": true,
        "customInput": null,
        "collapsed": false,
        "requestMsgId": "1be5ddf4-72e2-463a-ace3-c9f0f96e99e2",
        "customOutput": null,
        "executionStartTime": 1657152389715,
        "executionStopTime": 1657154056412,
        "code_folding": [],
        "hidden_ranges": []
      },
      "source": [
        "from maploc.module import GenericModule\n",
        "cfg = {'model': {\"num_rotations\": 256, \"apply_map_prior\": False}}\n",
        "exper = \"bev1-osm2-mly13-n100_res101-vgg16_depth-bins33-nonorm_bs9-resize512_d8-nrot64-normvalid-prior-rep\"\n",
        "model = GenericModule.load_for_evaluation(exper, cfg)"
      ],
      "execution_count": null,
      "outputs": []
    },
    {
      "cell_type": "code",
      "metadata": {
        "originalKey": "43ce4d9a-1351-4276-8ffb-53fc52a83179",
        "showInput": true,
        "customInput": null,
        "collapsed": false,
        "requestMsgId": "43ce4d9a-1351-4276-8ffb-53fc52a83179",
        "customOutput": null,
        "executionStartTime": 1657181664499,
        "executionStopTime": 1657181674670,
        "code_folding": [],
        "hidden_ranges": []
      },
      "source": [
        "scene = \"reloc_seattle_downtown\"\n",
        "# scene = \"reloc_seattle_pike\"\n",
        "scene = \"reloc_detroit_greektown\"\n",
        "# scene = \"reloc_detroit_gcp\"\n",
        "scene = \"reloc_seattle_westlake\"\n",
        "\n",
        "from maploc.data.mapillary import MapillaryDataModule\n",
        "from maploc.models.sequential import RigidAligner, GPSAligner\n",
        "\n",
        "# create the dataloader\n",
        "conf = OmegaConf.load('fbsource/fbcode/surreal/maploc/conf/data/mapillary_v4.yaml')\n",
        "conf = OmegaConf.merge(conf, OmegaConf.create(yaml.full_load(\"\"\"\n",
        "local_dir: \"./data/aria_dumps_v2/\"\n",
        "dump_dir: manifold://psarlin/tree/maploc/data/aria_v2\n",
        "scenes: []\n",
        "tiles_filename: tiles.pkl\n",
        "max_init_error: 0\n",
        "init_from_gps: false\n",
        "return_gps: true\n",
        "loading:\n",
        "    val: {batch_size: 1, num_workers: 0}\n",
        "    train: ${.val}\n",
        "random: false\n",
        "augmentation: {rot90: false, flip: false}\n",
        "filter_for: null\n",
        "split: null\n",
        "resize_image: 512\n",
        "\"\"\")))\n",
        "conf[\"scenes\"] = [scene]\n",
        "OmegaConf.resolve(conf)\n",
        "datamodule = MapillaryDataModule(conf)\n",
        "datamodule.prepare_data()\n",
        "datamodule.setup()\n",
        "dataset, chunk2idx = datamodule.sequence_dataset(\"val\", dict(split_cam=False, max_length=1e9, min_length=1, max_inter_dist=20))\n",
        "chunks = list(chunk2idx)\n",
        "\n",
        "# alignment objects\n",
        "aligner = RigidAligner(track_priors=False, num_rotations=512)\n",
        "aligner_gps = GPSAligner(track_priors=False, num_rotations=512)\n",
        "\n",
        "# run over all images\n",
        "all_xy_gt = []\n",
        "all_yaw_gt = []\n",
        "for i in tqdm(range(len(dataset))):\n",
        "    data = dataset[i]\n",
        "    data = model.transfer_batch_to_device(data, model.device, i)\n",
        "    pred = model(collate([data]))\n",
        "\n",
        "    # mask = torch.zeros(data[\"map\"].shape[-2:], dtype=torch.bool)\n",
        "    # mask[5:-5, 5:-5] = True\n",
        "    # pred[\"log_probs\"].masked_fill_(~mask[None, :, :, None], -np.inf)\n",
        "    canvas = data[\"canvas\"]\n",
        "    xy, yaw = canvas.to_xy(data[\"xy\"].double()), data[\"roll_pitch_yaw\"][-1].double()\n",
        "    aligner.update(pred[\"log_probs\"][0], canvas, xy, yaw)\n",
        "    aligner_gps.update(canvas.to_xy(data[\"xy_gps\"].double()), data[\"accuracy_gps\"], canvas, xy, yaw)\n",
        "    all_xy_gt.append(xy)\n",
        "    all_yaw_gt.append(yaw)\n",
        "aligner.compute()\n",
        "aligner_gps.compute()\n",
        "\n",
        "# transform the trajectories\n",
        "all_xy_gt = torch.stack(all_xy_gt)\n",
        "all_yaw_gt = torch.stack(all_yaw_gt)\n",
        "all_xy_seq, all_yaw_seq = aligner.transform(all_xy_gt, all_yaw_gt)\n",
        "all_xy_gps_align, all_yaw_gps_align = aligner_gps.transform(all_xy_gt, all_yaw_gt)\n",
        "\n",
        "# visualizations\n",
        "plot_images([aligner.belief.max(-1).values.cpu(), aligner_gps.belief.max(-1).values.cpu()], cmaps=\"jet\")\n",
        "print(f\"diff: {torch.norm(aligner.Rt_slam2geo[1]).item():.2f}m, {np.rad2deg(torch.atan2(*aligner.Rt_slam2geo[0][[1, 0], [0, 0]]).item()):.2f}deg\")\n",
        "\n",
        "# histogram of pose changes\n",
        "plt.figure()\n",
        "plt.hist(np.linalg.norm(all_xy_gt.cpu()-all_xy_seq.cpu(), axis=-1), bins=20);\n",
        "\n",
        "bbox_total = BoundaryBox(*np.percentile(all_xy_gt.cpu(), [0, 100], 0))\n",
        "tile_total = dataset.tile_managers[dataset.cfg.scenes[0]].query(bbox_total + 20)\n",
        "map_total = Colormap().apply(tile_total.raster)\n",
        "plot_images([map_total], dpi=200)\n",
        "plt.scatter(*tile_total.to_uv(all_xy_gt.cpu()).T, c=\"g\", linewidth=0, s=1);\n",
        "plt.scatter(*tile_total.to_uv(all_xy_seq.cpu()).T, c=\"r\", linewidth=0, s=1);\n",
        "plt.scatter(*tile_total.to_uv(all_xy_gps_align.cpu()).T, c=\"b\", linewidth=0, s=1);\n",
        "\n",
        "plot_images([map_total], dpi=200)\n",
        "for idx in chunk2idx.values():\n",
        "    plt.plot(*tile_total.to_uv(all_xy_seq[idx].cpu()).T, c=\"r\", linewidth=0.5, label=\"seq fusion\");\n",
        "for idx in chunk2idx.values():\n",
        "    plt.plot(*tile_total.to_uv(all_xy_gt[idx].cpu()).T, c=\"k\", linewidth=0.5, label=\"GPS fit\");\n",
        "plt.gca().autoscale(enable=False)\n",
        "xy_gps = dataset.tile_managers[scene].projection.project(dataset.data[\"gps_position\"][dataset.data[\"gps_accuracy\"]<100].numpy())\n",
        "plt.scatter(*tile_total.to_uv(xy_gps).T, c=\"k\", linewidth=0, s=2, label=\"GPS raw\")\n",
        "handles, labels = plt.gca().get_legend_handles_labels()\n",
        "by_label = dict(zip(labels, handles))\n",
        "plt.legend(by_label.values(), by_label.keys());\n",
        "plt.title(dataset.cfg.scenes[0]);\n",
        "\n",
        "# export and write to manifold to perform a second processing of the data\n",
        "with fsspec.open(osp.join(dataset.cfg.dump_dir, scene, FILENAME_GEOALIGN_GPS), \"r\") as fp:\n",
        "    geoalignment_gps  = json.load(fp)\n",
        "Rt_gt2geo_gps = (np.array(geoalignment_gps[\"R_gt2geo\"]), np.array(geoalignment_gps[\"t_gt2geo\"]))\n",
        "Rt_geo2geo_align = (aligner.Rt_slam2geo[0].cpu().numpy(), aligner.Rt_slam2geo[1].cpu().numpy())\n",
        "# compose the initial GPS alignment and the additional refinement\n",
        "Rt_gt2geo_refined = (\n",
        "    Rt_geo2geo_align[0] @ Rt_gt2geo_gps[0],\n",
        "    Rt_geo2geo_align[1] + Rt_geo2geo_align[0] @ Rt_gt2geo_gps[1],\n",
        ")\n",
        "\n",
        "output = {\n",
        "    \"projection\": dataset.tile_managers[scene].projection.epsg,\n",
        "    \"R_gt2geo\": Rt_gt2geo_refined[0].tolist(),\n",
        "    \"t_gt2geo\": Rt_gt2geo_refined[1].tolist(),\n",
        "}\n",
        "geoalignment_path = Path(dataset.cfg.local_dir, scene, FILENAME_GEOALIGN_MAPLOC)\n",
        "write_json(geoalignment_path, output)\n",
        "!manifold put --overwrite {geoalignment_path} {dataset.cfg.dump_dir.replace(\"manifold://\", \"\")}/{scene}/{geoalignment_path.name}"
      ],
      "execution_count": null,
      "outputs": []
    },
    {
      "cell_type": "code",
      "metadata": {
        "originalKey": "651cf3e8-54a1-409a-a367-98556868d05e",
        "showInput": true,
        "customInput": null,
        "collapsed": false,
        "requestMsgId": "651cf3e8-54a1-409a-a367-98556868d05e",
        "customOutput": null,
        "executionStartTime": 1657181676788,
        "executionStopTime": 1657182030428,
        "code_folding": [],
        "hidden_ranges": []
      },
      "source": [
        ""
      ],
      "execution_count": 148,
      "outputs": []
    },
    {
      "cell_type": "code",
      "metadata": {
        "originalKey": "41835068-7da4-4e1b-bb5f-a88f863e6856",
        "showInput": true,
        "customInput": null,
        "collapsed": false,
        "requestMsgId": "41835068-7da4-4e1b-bb5f-a88f863e6856",
        "customOutput": null,
        "executionStartTime": 1657155773972,
        "executionStopTime": 1657156157103,
        "code_folding": [],
        "hidden_ranges": []
      },
      "source": [
        ""
      ],
      "execution_count": 145,
      "outputs": []
    },
    {
      "cell_type": "code",
      "metadata": {
        "originalKey": "be930ecb-d25f-4fe7-b9b1-2dcca5f0b156",
        "showInput": true,
        "customInput": null,
        "code_folding": [],
        "hidden_ranges": [],
        "collapsed": false,
        "requestMsgId": "be930ecb-d25f-4fe7-b9b1-2dcca5f0b156",
        "customOutput": null,
        "executionStartTime": 1657154988896,
        "executionStopTime": 1657155608020
      },
      "source": [
        ""
      ],
      "execution_count": 138,
      "outputs": []
    },
    {
      "cell_type": "code",
      "metadata": {
        "originalKey": "c7ee09f8-6b2f-415c-a109-bab0317a374c",
        "showInput": true,
        "customInput": null,
        "collapsed": false,
        "requestMsgId": "c7ee09f8-6b2f-415c-a109-bab0317a374c",
        "customOutput": null,
        "executionStartTime": 1657154747330,
        "executionStopTime": 1657154748002,
        "code_folding": [],
        "hidden_ranges": []
      },
      "source": [
        ""
      ],
      "execution_count": 134,
      "outputs": []
    },
    {
      "cell_type": "code",
      "metadata": {
        "originalKey": "d496fa3c-f9b3-416b-a69e-2bf21ae76448",
        "showInput": true,
        "customInput": null,
        "code_folding": [],
        "hidden_ranges": [],
        "collapsed": false,
        "requestMsgId": "d496fa3c-f9b3-416b-a69e-2bf21ae76448",
        "customOutput": null,
        "executionStartTime": 1657154305600,
        "executionStopTime": 1657154306127
      },
      "source": [
        ""
      ],
      "execution_count": 115,
      "outputs": []
    }
  ]
}
