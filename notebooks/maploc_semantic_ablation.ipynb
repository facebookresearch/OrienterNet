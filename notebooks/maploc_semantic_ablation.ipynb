{
  "metadata": {
    "bento_stylesheets": {
      "bento/extensions/flow/main.css": true,
      "bento/extensions/kernel_selector/main.css": true,
      "bento/extensions/kernel_ui/main.css": true,
      "bento/extensions/new_kernel/main.css": true,
      "bento/extensions/system_usage/main.css": true,
      "bento/extensions/theme/main.css": true
    },
    "kernelspec": {
      "display_name": "maploc (local)",
      "language": "python",
      "name": "maploc_local",
      "metadata": {
        "is_prebuilt": false,
        "kernel_name": "maploc_local"
      }
    },
    "language_info": {
      "codemirror_mode": {
        "name": "ipython",
        "version": 3
      },
      "file_extension": ".py",
      "mimetype": "text/x-python",
      "name": "python",
      "nbconvert_exporter": "python",
      "pygments_lexer": "ipython3"
    },
    "last_server_session_id": "763235e6-1fcf-411a-bb9c-d57431d64eaa",
    "last_kernel_id": "14ed1942-65ef-4c47-b6a0-b5d03349c570",
    "last_base_url": "https://devvm1417.cln0.facebook.com:8090/",
    "last_msg_id": "907dd094-8860551406d9fcfb96353c5e_196",
    "outputWidgetContext": {}
  },
  "nbformat": 4,
  "nbformat_minor": 2,
  "cells": [
    {
      "cell_type": "code",
      "metadata": {
        "collapsed": false,
        "originalKey": "af0e2f6c-2c51-4722-b1a3-e603acd9b802",
        "code_folding": [],
        "hidden_ranges": [],
        "requestMsgId": "af0e2f6c-2c51-4722-b1a3-e603acd9b802",
        "executionStartTime": 1639565435243,
        "executionStopTime": 1639565471635
      },
      "source": [
        "%load_ext autoreload\n",
        "%autoreload 2\n",
        "\n",
        "import torch\n",
        "import yaml\n",
        "import sys\n",
        "from torchmetrics import MetricCollection\n",
        "from omegaconf import OmegaConf\n",
        "import matplotlib.pyplot as plt\n",
        "import matplotlib as mpl\n",
        "import numpy as np\n",
        "from tqdm import tqdm\n",
        "from pathlib import Path\n",
        "from pytorch_lightning import seed_everything\n",
        "sys.path.append('fbsource/fbcode/scripts/psarlin/')\n",
        "from maploc.data.loader_mapillary import MapillaryDataModule\n",
        "from maploc.module import GenericModule, find_best_checkpoint\n",
        "from maploc.utils.viz_2d import plot_images, plot_keypoints, features_to_RGB, save_plot, add_text\n",
        "from maploc.utils.viz_localization import likelihood_overlay, plot_pose, plot_dense_rotations\n",
        "from maploc.osm.viz import Colormap, plot_nodes\n",
        "from maploc.models.metrics import Location2DError, AngleError\n",
        "from maploc.test import evaluate_single_image\n",
        "torch.set_grad_enabled(False);\n",
        "plt.rcParams.update({'figure.max_open_warning': 0})"
      ],
      "execution_count": 1,
      "outputs": []
    },
    {
      "cell_type": "code",
      "metadata": {
        "originalKey": "7b2151d8-1191-41f0-a323-2b977a0aad28",
        "showInput": true,
        "customInput": null,
        "collapsed": false,
        "requestMsgId": "7b2151d8-1191-41f0-a323-2b977a0aad28",
        "executionStartTime": 1639565471686,
        "executionStopTime": 1639565768395,
        "code_folding": [],
        "hidden_ranges": []
      },
      "source": [
        "conf = OmegaConf.load('fbsource/fbcode/scripts/psarlin/maploc/conf/data_mapillary.yaml')\n",
        "conf = OmegaConf.merge(conf, OmegaConf.create(yaml.full_load(\"\"\"\n",
        "local_dir: \"./data/mapillary_dumps_v2/\"\n",
        "# local_dir: \"./devvm1417.cln0.facebook.com/data/mapillary_dumps_v2/\"\n",
        "dump_dir: ${.local_dir}\n",
        "scenes:\n",
        "    - sanfrancisco_soma\n",
        "    - sanfrancisco_hayes\n",
        "    - amsterdam\n",
        "    - berlin\n",
        "    - lemans\n",
        "    - montrouge\n",
        "    - toulouse\n",
        "    - nantes\n",
        "    - vilnius\n",
        "    - avignon\n",
        "    - helsinki\n",
        "    - milan\n",
        "    # - newyork_hoboken\n",
        "    # - metropolis_train\n",
        "# split: None\n",
        "return_gps: true\n",
        "val: {batch_size: 1, num_workers: 3}\n",
        "train: ${.val}\n",
        "random: false\n",
        "augmentation: {rot90: false, flip: false}\n",
        "\"\"\")))\n",
        "if not Path(conf.local_dir).exists():\n",
        "    conf.local_dir = str(Path(\"devvm1417.cln0.facebook.com\", conf.local_dir))\n",
        "    assert Path(conf.local_dir).exists()\n",
        "OmegaConf.resolve(conf)\n",
        "dataset = MapillaryDataModule(conf)\n",
        "dataset.prepare_data()\n",
        "dataset.setup()"
      ],
      "execution_count": 2,
      "outputs": []
    },
    {
      "cell_type": "code",
      "metadata": {
        "originalKey": "70e66b7f-2239-4f37-9671-c3b58667901f",
        "showInput": true,
        "customInput": null,
        "code_folding": [],
        "hidden_ranges": [],
        "collapsed": false,
        "requestMsgId": "70e66b7f-2239-4f37-9671-c3b58667901f",
        "executionStartTime": 1639565768482,
        "executionStopTime": 1639565799758
      },
      "source": [
        "exper = \"bev1-osm2-mly12-n100_vgg16-vgg13-plane_bs9-resize256_norm-d8-nrot64-prior\"\n",
        "# exper = \"bev1-osm2-mly12-n100_vgg16-vgg13-plane_bs9-resize256_norm-d8-nrot64\"\n",
        "\n",
        "root = \"manifold://psarlin/tree/maploc/experiments\"\n",
        "path = f'{root}/{exper}/last.ckpt'\n",
        "print(path)\n",
        "cfg = {}\n",
        "cfg = {'model': {\"num_rotations\": 128}}\n",
        "model = GenericModule.load_from_checkpoint(path, strict=True, find_best=True, cfg=cfg)\n",
        "model.eval()\n",
        "if torch.cuda.is_available():\n",
        "    model = model.cuda(1)\n",
        "exper += '_nrot128'"
      ],
      "execution_count": 3,
      "outputs": []
    },
    {
      "cell_type": "code",
      "metadata": {
        "originalKey": "32c1d552-2636-4d37-89ed-71ad68220763",
        "showInput": true,
        "customInput": null
      },
      "source": [
        "from maploc.osm.parser import Groups\n",
        "thresholds = [1, 2, 5, 10]\n",
        "num = 500\n",
        "\n",
        "results = {}\n",
        "seed_everything(0)\n",
        "results[\"full\"] = evaluate_single_image(\n",
        "    dataset.dataloader(\"val\", shuffle=True), model, thresholds, mask_index=None, num=num)\n",
        "\n",
        "for j, groups in enumerate([Groups.areas, Groups.ways, Groups.nodes]):\n",
        "    for i, label in enumerate(groups):\n",
        "        print(label)\n",
        "        index = (j, i)\n",
        "        seed_everything(0)\n",
        "        results[label] = evaluate_single_image(\n",
        "            dataset.dataloader(\"val\", shuffle=True), model, thresholds, mask_index=index, num=num)\n",
        "\n",
        "plt.figure(dpi=150)\n",
        "met = {k: results[k][2][\"xy_max_error\"][2] for k in results}\n",
        "labels = [\"full\"] + sorted(met.keys() - {\"full\"}, key=lambda x: met[x])\n",
        "plt.bar(np.arange(len(labels))+1, [met[k]/met[\"full\"] for k in labels], label=\"sequential\");\n",
        "# plt.gca().set_yscale('log')\n",
        "plt.gca().set_xticks(np.arange(len(labels))+1)\n",
        "plt.gca().set_xticklabels(labels, fontsize=15, rotation=90)\n",
        "plt.ylabel('Relative drop of accuracy')\n",
        "plt.ylim([0.4, 1.2])\n",
        "\n",
        "for k in results:\n",
        "    print(results[k][2][\"xy_max_error\"], k)"
      ],
      "execution_count": null,
      "outputs": []
    }
  ]
}
