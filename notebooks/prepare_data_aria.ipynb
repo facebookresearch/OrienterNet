{
  "metadata": {
    "bento_stylesheets": {
      "bento/extensions/flow/main.css": true,
      "bento/extensions/kernel_selector/main.css": true,
      "bento/extensions/kernel_ui/main.css": true,
      "bento/extensions/new_kernel/main.css": true,
      "bento/extensions/system_usage/main.css": true,
      "bento/extensions/theme/main.css": true
    },
    "kernelspec": {
      "display_name": "maploc (local)",
      "language": "python",
      "name": "maploc_local",
      "metadata": {
        "is_prebuilt": false,
        "kernel_name": "maploc_local"
      }
    },
    "language_info": {
      "codemirror_mode": {
        "name": "ipython",
        "version": 3
      },
      "file_extension": ".py",
      "mimetype": "text/x-python",
      "name": "python",
      "nbconvert_exporter": "python",
      "pygments_lexer": "ipython3"
    },
    "last_server_session_id": "1e8da7ee-f76a-4b81-b683-d09840274aff",
    "last_kernel_id": "3c8d75a1-587c-461e-98c2-89ef631da1b6",
    "last_base_url": "https://devvm1417.cln0.facebook.com:8090/",
    "last_msg_id": "d61bc0a7-1cec54d820cc8d8284aba2a4_60",
    "outputWidgetContext": {}
  },
  "nbformat": 4,
  "nbformat_minor": 2,
  "cells": [
    {
      "cell_type": "code",
      "metadata": {
        "originalKey": "70c5d64b-ffca-41f5-8262-921444f2c2ca",
        "showInput": true,
        "customInput": null,
        "code_folding": [],
        "hidden_ranges": [],
        "collapsed": false,
        "requestMsgId": "70c5d64b-ffca-41f5-8262-921444f2c2ca",
        "executionStartTime": 1639601879649,
        "executionStopTime": 1639601886395
      },
      "source": [
        "%load_ext autoreload\n",
        "%autoreload 2\n",
        "\n",
        "import sys\n",
        "from pathlib import Path\n",
        "import numpy as np\n",
        "import cv2\n",
        "import matplotlib as mpl\n",
        "import matplotlib.pyplot as plt\n",
        "import subprocess\n",
        "\n",
        "sys.path.append('fbsource/fbcode/scripts/psarlin/')\n",
        "from maploc.utils.viz_2d import plot_images, plot_keypoints, add_text, save_plot\n",
        "from maploc.utils.geo import Projection\n",
        "from maploc.data.aria import main, datasets, query_gaia_ids"
      ],
      "execution_count": 1,
      "outputs": []
    },
    {
      "cell_type": "code",
      "metadata": {
        "originalKey": "5d3e01fc-4b72-48d1-977c-1ab1a0cac2db",
        "showInput": true,
        "customInput": null,
        "code_folding": [],
        "hidden_ranges": []
      },
      "source": [
        "!cd fbsource/fbcode && buck build @mode/opt -c python.package_style=inplace surreal/aria_research_tools:run_dfm2\n",
        "!cd fbsource/fbcode && buck build @mode/opt -c python.package_style=inplace surreal/aria_research_tools:run_aria2kapture"
      ],
      "execution_count": null,
      "outputs": []
    },
    {
      "cell_type": "code",
      "metadata": {
        "originalKey": "374a86f2-830d-4ce2-a509-dbcc9e769689",
        "showInput": true,
        "customInput": null,
        "code_folding": [],
        "hidden_ranges": [],
        "collapsed": false,
        "requestMsgId": "374a86f2-830d-4ce2-a509-dbcc9e769689",
        "executionStartTime": 1639601920593,
        "executionStopTime": 1639601986406
      },
      "source": [
        "# gaia_ids = query_gaia_ids(\"surreal-aria-reloc-seattle-downtown\")\n",
        "# projection = Projection(\"EPSG:32148\")  # seattle area\n",
        "# scene = \"reloc_seattle_downtown\"\n",
        "\n",
        "# gaia_ids = query_gaia_ids(\"surreal-aria-reloc-detroit-greektown\")\n",
        "# projection = Projection(\"EPSG:6498\")  # detroit area\n",
        "# scene = \"reloc_detroit_greektown\"\n",
        "\n",
        "# gaia_ids = query_gaia_ids(\"surreal-aria-reloc-detroit-gcp\")\n",
        "# projection = Projection(\"EPSG:6498\")  # detroit area\n",
        "# scene = \"reloc_detroit_gcp\"\n",
        "\n",
        "gaia_ids = query_gaia_ids(\"surreal-aria-reloc-detroit-cp\")\n",
        "projection = Projection(\"EPSG:6498\")  # detroit area\n",
        "scene = \"reloc_detroit_cp\"\n",
        "\n",
        "output_dir = Path(\"/home/psarlin/local/data/aria_dumps/\", scene)\n",
        "tmp_dir = Path(\"/home/psarlin/local/aria\")\n",
        "output_dump, all_xy, tile_manager = main(output_dir, gaia_ids, projection, tmp_dir)"
      ],
      "execution_count": 2,
      "outputs": []
    },
    {
      "cell_type": "markdown",
      "metadata": {
        "originalKey": "13098220-85be-40a3-8710-7676af74b711",
        "showInput": false,
        "customInput": null,
        "code_folding": [],
        "hidden_ranges": []
      },
      "source": [
        "## Visualizations"
      ],
      "attachments": {}
    },
    {
      "cell_type": "code",
      "metadata": {
        "originalKey": "56a75f20-be6e-44ef-a242-e3903d51a51a",
        "showInput": true,
        "customInput": null,
        "code_folding": [],
        "hidden_ranges": [],
        "collapsed": false,
        "requestMsgId": "56a75f20-be6e-44ef-a242-e3903d51a51a",
        "executionStartTime": 1639416607334,
        "executionStopTime": 1639416607476
      },
      "source": [
        "centers = []\n",
        "for ts in timestamps_rgb:\n",
        "    T_w2rgb = traj[int(ts), sensor_id_rgb]\n",
        "    T_rgb2w = T_w2rgb.inverse()\n",
        "    centers.append(T_rgb2w.t.squeeze(-1))\n",
        "centers = np.array(centers)\n",
        "dists = np.linalg.norm(centers[1:]-centers[:-1], axis=-1)\n",
        "np.sum(dists)"
      ],
      "execution_count": 23,
      "outputs": []
    },
    {
      "cell_type": "code",
      "metadata": {
        "originalKey": "839b97b0-da8c-405d-8de9-b28bbf596831",
        "showInput": true,
        "customInput": null,
        "collapsed": false,
        "requestMsgId": "839b97b0-da8c-405d-8de9-b28bbf596831",
        "executionStartTime": 1639074154314,
        "executionStopTime": 1639074154550,
        "code_folding": [],
        "hidden_ranges": []
      },
      "source": [
        "n = 150\n",
        "plt.figure(dpi=200)\n",
        "from maploc.utils.viz_localization import plot_pose\n",
        "plt.scatter(*xy[:n].T, c=np.linspace(0, 1, len(xy[:n])), cmap=\"jet\", s=1)\n",
        "# [plot_pose(0, uv-.5, y, s=1/3, c=\"g\", w=0.015) for i, (uv, y) in enumerate(zip(xy[:n], yaw[:n]))];\n",
        "uv = (np.sin(np.deg2rad(yaws)), np.cos(np.deg2rad(yaws)))\n",
        "plt.gca().quiver(\n",
        "    *xy[:n].T,\n",
        "    uv[0][:n], uv[1][:n],\n",
        "    scale=1/3,\n",
        "    scale_units=\"xy\",\n",
        "    angles=\"xy\",\n",
        "    color=\"k\",\n",
        "    zorder=1,\n",
        "    alpha=1,\n",
        "    width=0.005\n",
        ")\n",
        "plt.gca().set_aspect(\"equal\")"
      ],
      "execution_count": null,
      "outputs": []
    },
    {
      "cell_type": "code",
      "metadata": {
        "originalKey": "c612d865-6854-44a3-8570-c4e97c5972a9",
        "showInput": true,
        "customInput": null,
        "code_folding": [],
        "hidden_ranges": [],
        "collapsed": false,
        "requestMsgId": "c612d865-6854-44a3-8570-c4e97c5972a9",
        "executionStartTime": 1639074025674,
        "executionStopTime": 1639074034346
      },
      "source": [
        "from maploc.utils.viz_3d import init_figure, plot_camera, plot_points\n",
        "\n",
        "fig = init_figure()\n",
        "# plot_points(fig, p3d)\n",
        "K = np.array([[fx, 0, cx], [0, fy, cy], [0, 0, 1]])\n",
        "\n",
        "xy = []\n",
        "yaws = []\n",
        "for idx in tqdm(range(len(timestamps_rgb_select))):\n",
        "        ts = timestamps_rgb_select[idx]\n",
        "        T_w2rgb = traj[int(ts), sensor_id_rgb]\n",
        "        T_rgb2w = T_w2rgb.inverse()\n",
        "        t_c2w = T_rgb2w.t.squeeze(-1)\n",
        "        R_c2w = quaternion.as_rotation_matrix(T_rgb2w.r)\n",
        "        rpy = decompose_rotmat(R_c2w)\n",
        "        latlon = ts2latlon[ts_rgb2gps[ts]]\n",
        "        plot_camera(fig, R_c2w, t_c2w, K)\n",
        "        yaws.append(rpy[-1])\n",
        "        xy.append(t_c2w[:2])\n",
        "xy = np.array(xy)\n",
        "yaws = np.array(yaws)\n",
        "fig.show()"
      ],
      "execution_count": null,
      "outputs": []
    }
  ]
}
