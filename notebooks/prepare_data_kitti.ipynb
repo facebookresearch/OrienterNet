{
  "metadata": {
    "dataExplorerConfig": {},
    "bento_stylesheets": {
      "bento/extensions/flow/main.css": true,
      "bento/extensions/kernel_selector/main.css": true,
      "bento/extensions/kernel_ui/main.css": true,
      "bento/extensions/new_kernel/main.css": true,
      "bento/extensions/system_usage/main.css": true,
      "bento/extensions/theme/main.css": true
    },
    "kernelspec": {
      "display_name": "maploc (local)",
      "language": "python",
      "name": "maploc_local",
      "metadata": {
        "is_prebuilt": false,
        "kernel_name": "maploc_local",
        "cinder_runtime": false
      }
    },
    "language_info": {
      "codemirror_mode": {
        "name": "ipython",
        "version": 3
      },
      "file_extension": ".py",
      "mimetype": "text/x-python",
      "name": "python",
      "nbconvert_exporter": "python",
      "pygments_lexer": "ipython3"
    },
    "last_server_session_id": "276d69aa-cc6d-4c02-9c5a-fb7e268e165b",
    "last_kernel_id": "9bca4845-2d16-485e-91bf-3a5ee4563d29",
    "last_base_url": "https://0499.od.fbinfra.net:443/",
    "last_msg_id": "633a9508-3145329ed3bd4137d604c790_65",
    "outputWidgetContext": {}
  },
  "nbformat": 4,
  "nbformat_minor": 2,
  "cells": [
    {
      "cell_type": "code",
      "metadata": {
        "originalKey": "44067764-c100-493d-bde8-0268be9cb37e",
        "showInput": true,
        "customInput": null,
        "code_folding": [],
        "hidden_ranges": []
      },
      "source": [
        "%load_ext autoreload\n",
        "%autoreload 2\n",
        "\n",
        "from pathlib import Path\n",
        "from tqdm import tqdm\n",
        "import sys\n",
        "sys.path.append('fbsource/fbcode/surreal/')\n",
        "\n",
        "kitti_root = Path(\"data/kitti\")  # where to install the data"
      ],
      "execution_count": null,
      "outputs": []
    },
    {
      "cell_type": "markdown",
      "metadata": {
        "originalKey": "37f05762-2931-4859-9b59-34e46c3fce22",
        "showInput": false,
        "customInput": null,
        "code_folding": [],
        "hidden_ranges": []
      },
      "source": [
        "# Download the image lists"
      ],
      "attachments": {}
    },
    {
      "cell_type": "code",
      "metadata": {
        "originalKey": "c0b41399-8870-4831-b734-2e1183812a24",
        "showInput": true,
        "customInput": null,
        "code_folding": [],
        "hidden_ranges": []
      },
      "source": [
        "file_lists = [\"test1_files.txt\", \"test2_files.txt\", \"train_files.txt\"]\n",
        "list_urls = [\n",
        "    \"https://raw.githubusercontent.com/shiyujiao/HighlyAccurate/main/dataLoader/{x}\"\n",
        "    for x in file_lists\n",
        "]\n",
        "for url in list_urls:\n",
        "    !curl $(fwdproxy-config curl) $url --output $kitti_root/{Path(url).name}\n",
        "!wc -l {kitti_root}/test2_files.txt\n",
        "!wc -l {kitti_root}/train_files.txt"
      ],
      "execution_count": null,
      "outputs": []
    },
    {
      "cell_type": "code",
      "metadata": {
        "originalKey": "5756c005-f924-451c-8a45-ecdddbed5e75",
        "showInput": true,
        "customInput": null,
        "code_folding": [],
        "hidden_ranges": []
      },
      "source": [
        "seqs = {}\n",
        "for x in file_lists:\n",
        "    with open(kitti_root / x, \"r\") as fid:\n",
        "        info = fid.read()\n",
        "    seqs |= {line.split()[0].split(\"/\")[1][:-len(\"_sync\")] for line in info.split(\"\\n\") if line}\n",
        "dates = {\"_\".join(s.split(\"_\")[:3]) for s in seqs}\n",
        "print(len(seqs), len(dates))\n",
        "\n",
        "for seq in tqdm(seqs):\n",
        "    print(\"working on\", seq)\n",
        "    date = \"_\".join(seq.split(\"_\")[:3])\n",
        "    url = f\"https://s3.eu-central-1.amazonaws.com/avg-kitti/raw_data/{seq}/{seq}_sync.zip\"\n",
        "    out_path = kitti_root / Path(url).name\n",
        "    if (kitti_root / (seq+\"_sync\")).exists():\n",
        "        continue\n",
        "    !curl $(fwdproxy-config curl) $url --output $out_path\n",
        "    !unzip -q $out_path -d $kitti_root\n",
        "    dir_ = kitti_root / date / f\"{seq}_sync\"\n",
        "    !rm -rf $dir_/image_0[0,1,3] $dir_/velodyne_points\n",
        "    out_path.unlink()\n",
        "\n",
        "for date in tqdm(dates):\n",
        "    print(date)\n",
        "    url = f\"https://s3.eu-central-1.amazonaws.com/avg-kitti/raw_data/{date}_calib.zip\"\n",
        "    out_path = kitti_root / Path(url).name\n",
        "    !curl -s $(fwdproxy-config curl) $url --output $out_path\n",
        "    !unzip -q -o $out_path -d $kitti_root\n",
        "    out_path.unlink()"
      ],
      "execution_count": null,
      "outputs": []
    },
    {
      "cell_type": "code",
      "metadata": {
        "collapsed": true,
        "originalKey": "7ff0a615-7152-4585-8b21-6de8d50621dc",
        "code_folding": [],
        "hidden_ranges": []
      },
      "source": [
        "with open(kitti_root / \"test2_files.txt\", \"r\") as fid:\n",
        "    info = fid.read()\n",
        "seqs = {line.split()[0].split(\"/\")[1][:-len(\"_sync\")] for line in info.split(\"\\n\") if line}\n",
        "dates = {\"_\".join(s.split(\"_\")[:3]) for s in seqs}\n",
        "\n",
        "from tqdm import tqdm\n",
        "for seq in tqdm(seqs):\n",
        "    print(seq)\n",
        "    url = f\"https://s3.eu-central-1.amazonaws.com/avg-kitti/raw_data/{seq}/{seq}_sync.zip\"\n",
        "    out_path = kitti_root / Path(url).name\n",
        "    if (kitti_root / (seq+\"_sync\")).exists():\n",
        "        continue\n",
        "    !curl $(fwdproxy-config curl) $url --output $out_path\n",
        "    !unzip -q $out_path -d $kitti_root\n",
        "    out_path.unlink()\n",
        "for date in tqdm(dates):\n",
        "    print(date)\n",
        "    url = f\"https://s3.eu-central-1.amazonaws.com/avg-kitti/raw_data/{date}_calib.zip\"\n",
        "    out_path = kitti_root / Path(url).name\n",
        "    !curl -s $(fwdproxy-config curl) $url --output $out_path\n",
        "    !unzip -q -o $out_path -d $kitti_root\n",
        "    out_path.unlink()"
      ],
      "execution_count": null,
      "outputs": []
    },
    {
      "cell_type": "code",
      "metadata": {
        "originalKey": "f8ff9557-64be-4802-be3e-58bfc8fff488",
        "showInput": true,
        "customInput": null,
        "code_folding": [],
        "hidden_ranges": []
      },
      "source": [
        "from maploc.data.kitti import prepare_osm\n",
        "prepare_osm(kitti_root, seqs)"
      ],
      "execution_count": null,
      "outputs": []
    },
    {
      "cell_type": "code",
      "metadata": {
        "originalKey": "dededfc2-7ea0-4960-8f71-6e593ab79980",
        "showInput": true,
        "customInput": null,
        "code_folding": [],
        "hidden_ranges": []
      },
      "source": [
        "archive = kitti_root.parent / (kitti_root.name +\".tar.gz\")\n",
        "!tar -czf -C {kitti_root.parent} {archive} {kitti_root}\n",
        "!manifold put --overwrite {archive} bucket/tree/maploc/data/{archive.name}"
      ],
      "execution_count": null,
      "outputs": []
    }
  ]
}
