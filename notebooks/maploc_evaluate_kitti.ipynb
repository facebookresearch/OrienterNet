{
  "metadata": {
    "dataExplorerConfig": {},
    "bento_stylesheets": {
      "bento/extensions/flow/main.css": true,
      "bento/extensions/kernel_selector/main.css": true,
      "bento/extensions/kernel_ui/main.css": true,
      "bento/extensions/new_kernel/main.css": true,
      "bento/extensions/system_usage/main.css": true,
      "bento/extensions/theme/main.css": true
    },
    "kernelspec": {
      "display_name": "maploc (local)",
      "language": "python",
      "name": "maploc_local",
      "metadata": {
        "is_prebuilt": false,
        "kernel_name": "maploc_local",
        "cinder_runtime": false
      }
    },
    "language_info": {
      "codemirror_mode": {
        "name": "ipython",
        "version": 3
      },
      "file_extension": ".py",
      "mimetype": "text/x-python",
      "name": "python",
      "nbconvert_exporter": "python",
      "pygments_lexer": "ipython3"
    },
    "last_server_session_id": "e6cdfed1-7c57-4333-8521-4ce272bc9fae",
    "last_kernel_id": "0c648051-40a0-482f-b8f6-113b3fa610f2",
    "last_base_url": "https://0499.od.fbinfra.net:443/",
    "last_msg_id": "ed16e0d6-18c82c91c2cf8fb9dc7deced_28",
    "outputWidgetContext": {}
  },
  "nbformat": 4,
  "nbformat_minor": 2,
  "cells": [
    {
      "cell_type": "code",
      "metadata": {
        "collapsed": false,
        "originalKey": "f81e643b-eb71-4f56-adec-1e8194e351a0",
        "code_folding": [],
        "hidden_ranges": [],
        "requestMsgId": "f81e643b-eb71-4f56-adec-1e8194e351a0",
        "customOutput": null,
        "executionStartTime": 1657278688667,
        "executionStopTime": 1657278688726
      },
      "source": [
        "%load_ext autoreload\n",
        "%autoreload 2\n",
        "\n",
        "from pathlib import Path\n",
        "import torch\n",
        "import yaml\n",
        "import sys\n",
        "from torchmetrics import MetricCollection\n",
        "from omegaconf import OmegaConf\n",
        "import matplotlib.pyplot as plt\n",
        "import matplotlib as mpl\n",
        "import numpy as np\n",
        "from pytorch_lightning import seed_everything\n",
        "from pytorch_lightning.utilities import move_data_to_device\n",
        "sys.path.append('fbsource/fbcode/surreal/')\n",
        "from maploc.data import KittiDataModule\n",
        "from maploc.module import GenericModule\n",
        "from maploc.osm.viz import Colormap, plot_nodes\n",
        "from maploc.test_kitti import evaluate_single_image\n",
        "from maploc.utils.viz_localization import likelihood_overlay, plot_dense_rotations\n",
        "from maploc.osm.viz import plot_nodes\n",
        "from maploc.utils.viz_localization import plot_pose\n",
        "from maploc.utils.viz_2d import plot_images, plot_keypoints, features_to_RGB, save_plot, add_text\n",
        "from maploc.models.hough_voting import expectation_xyr\n",
        "colormap = Colormap()\n",
        "torch.set_grad_enabled(False);\n",
        "plt.rcParams.update({'figure.max_open_warning': 0})\n",
        "\n",
        "from pprint import pprint\n",
        "from maploc import eval_kitti\n",
        "pprint(eval_kitti.experiments)"
      ],
      "execution_count": 3,
      "outputs": []
    },
    {
      "cell_type": "markdown",
      "metadata": {
        "originalKey": "6031c9e9-be03-4406-add5-22d4b6cbd421",
        "showInput": false,
        "customInput": null,
        "code_folding": [],
        "hidden_ranges": []
      },
      "source": [
        "# Run the full evaluation"
      ],
      "attachments": {}
    },
    {
      "cell_type": "markdown",
      "metadata": {
        "originalKey": "a2b998d7-bf07-4ce5-abf8-c8042932fbda",
        "showInput": false,
        "customInput": null,
        "code_folding": [],
        "hidden_ranges": []
      },
      "source": [
        "Single image"
      ],
      "attachments": {}
    },
    {
      "cell_type": "code",
      "metadata": {
        "originalKey": "35bfe14e-c4ed-49c0-a1e5-205dfb579ab4",
        "showInput": true,
        "customInput": null,
        "code_folding": [],
        "hidden_ranges": [],
        "collapsed": false,
        "requestMsgId": "35bfe14e-c4ed-49c0-a1e5-205dfb579ab4",
        "customOutput": null,
        "executionStartTime": 1657280783503,
        "executionStopTime": 1657281022473
      },
      "source": [
        "# manually specify the experiment and a config coverride\n",
        "cfg = {'model': {\"num_rotations\": 256, \"apply_map_prior\": False}}\n",
        "exper = \"bev1-osm2-mly13-n100_res101-vgg19_depth-bins33-nonorm-1to9_bs9-resize512_d8-nrot64-normvalid-prior-rep\"  # best MLY\n",
        "exper = \"bev1-osm2-kitti-5m_res101-vgg19_depth-bins33-nonorm-1to9_bs9-f256_d8-nrot64-normvalid-prior-rep_ft-lr5\"  # best MLY+KITTI\n",
        "\n",
        "exper = \"bev1-osm2-mly13-n100_res101-vgg19_depth-bins33-nonorm-1to9_bs9-resize512_d8-nrot64-normvalid-prior-rep_ckpt\"  # new model to try\n",
        "\n",
        "# or pull a default experiment and override from the eval file\n",
        "exper, cfg = eval_kitti.experiments[\"BEV_MLY\"]\n",
        "\n",
        "# cfg = {**cfg, \"data\": {\"local_dir\": \"data/kitti\"}}  # comment out if you are on ondemand\n",
        "cfg = {**cfg, \"data\": {\"local_dir\": \"data/kitti\", \"max_num_val\": 1000, \"selection_subset_val\": \"random\"}}\n",
        "results = eval_kitti.run(\"val\", exper, cfg, sequential=False)"
      ],
      "execution_count": null,
      "outputs": []
    },
    {
      "cell_type": "markdown",
      "metadata": {
        "originalKey": "d5812f22-2888-458c-8bba-0b7def0fe47c",
        "showInput": false,
        "customInput": null,
        "code_folding": [],
        "hidden_ranges": []
      },
      "source": [
        "Sequential"
      ],
      "attachments": {}
    },
    {
      "cell_type": "code",
      "metadata": {
        "originalKey": "bfc428ef-e97a-4068-9e9c-9c82ef16b58b",
        "showInput": true,
        "customInput": null,
        "code_folding": [],
        "hidden_ranges": [],
        "collapsed": false,
        "requestMsgId": "bfc428ef-e97a-4068-9e9c-9c82ef16b58b",
        "customOutput": null,
        "executionStartTime": 1657277470132,
        "executionStopTime": 1657277608010
      },
      "source": [
        "results = eval_kitti.run(\"test\", exper, cfg, sequential=True)"
      ],
      "execution_count": null,
      "outputs": []
    },
    {
      "cell_type": "markdown",
      "metadata": {
        "originalKey": "a34f5c6c-6519-468a-9128-eb81bc4e5466",
        "showInput": false,
        "customInput": null,
        "code_folding": [],
        "hidden_ranges": []
      },
      "source": [
        "# Visualize a few examples"
      ],
      "attachments": {}
    },
    {
      "cell_type": "code",
      "metadata": {
        "originalKey": "3288bd7d-dfe7-4c93-818a-a68385479325",
        "showInput": true,
        "customInput": null,
        "code_folding": [],
        "hidden_ranges": [],
        "collapsed": false,
        "requestMsgId": "3288bd7d-dfe7-4c93-818a-a68385479325",
        "customOutput": null,
        "executionStartTime": 1657278158611,
        "executionStopTime": 1657278219746
      },
      "source": [
        "def viz_fn(i, model, batch, pred, results):\n",
        "    results.pop(\"xy_expectation_error\")\n",
        "    for k in list(results):\n",
        "        if \"recall\" in k:\n",
        "            results.pop(k)\n",
        "    print(i, {k: np.round(v.cpu().numpy().astype(float), 2).tolist() for k, v in results.items()})\n",
        "    pred = move_data_to_device(pred, \"cpu\")\n",
        "    batch = move_data_to_device(batch, \"cpu\")\n",
        "\n",
        "    image = batch[\"image\"][0].permute(1, 2, 0)\n",
        "    rasters = batch[\"map\"][0]\n",
        "    uv_gt = batch[\"xy\"][0]\n",
        "    yaw_gt = batch[\"roll_pitch_yaw\"][0, -1]\n",
        "\n",
        "    lp_uvt = lp_uv = pred[\"log_probs\"][0]\n",
        "    has_rotation = lp_uvt.ndim == 3\n",
        "    if has_rotation:\n",
        "        lp_uv = lp_uvt.max(-1).values\n",
        "    prob = lp_uv.exp()\n",
        "    feats_map = pred[\"map\"][\"map_features\"][0][0]\n",
        "    feats_map_rgb, = features_to_RGB(feats_map.numpy())\n",
        "\n",
        "    text1 = f'error: {results[\"xy_max_error\"]:.1f}m/{results.get(\"yaw_max_error\", -1):.1f}°'\n",
        "    text1 += f'  lateral/longit: {results[\"directional_error\"][0]:.1f}m/{results[\"directional_error\"][1]:.1f}m'\n",
        "    map_viz = colormap.apply(rasters)\n",
        "    plot_images([image, map_viz, lp_uv, likelihood_overlay(prob.numpy(), map_viz), feats_map_rgb],\n",
        "                titles=[text1, 'map', 'loglikelihood', 'likelihood', 'map features'], dpi=75, cmaps='jet')\n",
        "    colormap.add_colorbar()\n",
        "    plot_nodes(1, rasters[2])\n",
        "    plot_pose([1], uv_gt, yaw_gt, s=1/35, c=\"forestgreen\", w=0.015)\n",
        "    plot_pose([1], pred[\"xy_max\"][0], pred.get(\"yaw_max\", [None])[0], s=1/35, c=\"k\", w=0.015)\n",
        "    plot_dense_rotations(2, lp_uvt.exp(), s=1/15)\n",
        "\n",
        "    if \"features_bev\" not in pred:\n",
        "        return\n",
        "\n",
        "    feats_q = pred[\"features_bev\"][0]\n",
        "    mask_bev = pred[\"valid_bev\"][0]\n",
        "    if \"log_prior\" in pred[\"map\"]:\n",
        "        prior = pred[\"map\"][\"log_prior\"][0][0].sigmoid()\n",
        "    else:\n",
        "        prior = None\n",
        "    norm_q = conf_q = torch.norm(feats_q, dim=0)\n",
        "    if \"bev\" in pred and \"confidence\" in pred[\"bev\"]:\n",
        "        conf_q = pred[\"bev\"][\"confidence\"][0]\n",
        "    conf_q = conf_q.masked_fill(~mask_bev, np.nan)\n",
        "    norm_q = norm_q.masked_fill(~mask_bev, np.nan)\n",
        "\n",
        "    feats_q_rgb, = features_to_RGB(feats_q.numpy(), masks=[mask_bev])\n",
        "    feats_q_rgb = np.concatenate([feats_q_rgb, mask_bev[..., None]], -1)\n",
        "    plot_images([norm_q, conf_q, feats_q_rgb] + ([] if prior is None else [prior]),\n",
        "                titles=[\"BEV feature norm\", \"BEV weight\", \"BEV features\"]+([] if prior is None else ['map prior']), dpi=50, cmaps='jet')\n",
        "\n",
        "exper, cfg = eval_kitti.experiments[\"BEV_MLY\"]\n",
        "cfg = {**cfg, \"data\": {\"local_dir\": \"data/kitti\"}}\n",
        "results = eval_kitti.run(\"test\", exper, cfg, sequential=False, num=5, callback=viz_fn, progress=False)"
      ],
      "execution_count": null,
      "outputs": []
    },
    {
      "cell_type": "markdown",
      "metadata": {
        "originalKey": "c5de5a79-1e10-4e3f-b555-569bdb1f42a7",
        "showInput": false,
        "customInput": null,
        "code_folding": [],
        "hidden_ranges": []
      },
      "source": [
        "# Visualize sequential predictions"
      ],
      "attachments": {}
    },
    {
      "cell_type": "code",
      "metadata": {
        "originalKey": "1a304756-dc4d-4878-9343-b6cd6cc7faad",
        "showInput": true,
        "customInput": null,
        "code_folding": [],
        "hidden_ranges": [],
        "collapsed": false,
        "requestMsgId": "1a304756-dc4d-4878-9343-b6cd6cc7faad",
        "customOutput": null,
        "executionStartTime": 1657278777747,
        "executionStopTime": 1657278852732
      },
      "source": [
        "from maploc.data.sequential import unpack_batches\n",
        "from maploc.models.hough_voting import log_softmax_spatial\n",
        "\n",
        "def viz_fn(i, model, batches, preds, results, aligner):\n",
        "    skip = len(batches) // 16\n",
        "    batches = batches[::skip]\n",
        "    results = results[::skip]\n",
        "    preds = preds[::skip]\n",
        "\n",
        "    batches = [move_data_to_device(b, \"cpu\") for b in batches]\n",
        "    images, canvas, maps, yaws_gt, uv_gt, xy_gt = unpack_batches(batches)\n",
        "    maps = list(map(colormap.apply, maps))\n",
        "    plot_images([aligner.belief.max(-1).values.cpu(), aligner.belief.max(-1).values.exp().cpu()], cmaps=\"jet\", dpi=75)\n",
        "\n",
        "    errors = torch.stack([r[\"xy_max_error\"] for r in results])\n",
        "    errors_seq = torch.stack([r[\"xy_seq_error\"] for r in results])\n",
        "    errors_yaw = torch.stack([r[\"yaw_max_error\"] for r in results])\n",
        "    errors_yaw_seq = torch.stack([r[\"yaw_seq_error\"] for r in results])\n",
        "    print(f\"pos: {errors.mean().item():.2f}m --> {errors_seq.mean().item():.2f}m, yaw: {errors_yaw.mean().item():.1f}° --> {errors_yaw_seq.mean().item():.1f}°\")\n",
        "    # print(aligner.yaw_slam2geo.abs()%360)\n",
        "    \n",
        "    logprobs = torch.stack([p[\"log_probs\"] for p in preds]).cpu()\n",
        "    uvt_p = torch.stack([p[\"xyr_max\"] for p in preds]).cpu()\n",
        "    uv_seq = torch.stack([p[\"xy_seq\"] for p in preds]).cpu()\n",
        "    yaw_seq = torch.stack([p[\"yaw_seq\"] for p in preds]).cpu()\n",
        "\n",
        "    # Viz\n",
        "    plot_images(images, dpi=50)\n",
        "\n",
        "    plot_images([likelihood_overlay(p.max(-1).values.exp().numpy(), m) for m, p in zip(maps, logprobs)], cmaps=\"jet\", dpi=50)\n",
        "    [plot_pose([i], uv, y, s=1/35, c=\"g\", w=0.015) for i, (uv, y) in enumerate(zip(uv_gt, yaws_gt))];\n",
        "    [plot_pose([i], uvt[:2], uvt[2], s=1/35, c=\"k\", w=0.015) for i, uvt in enumerate(uvt_p)];\n",
        "    [plot_pose([i], uv, t, s=1/35, c=\"r\", w=0.015) for i, (uv, t) in enumerate(zip(uv_seq, yaw_seq))];\n",
        "\n",
        "    plot_images([lp.max(-1).values for lp in logprobs], cmaps=\"jet\", titles=[f\"{e:.2f}\" for e in errors], dpi=50)\n",
        "    [plot_dense_rotations(i, lp.exp(), s=1/15) for i, lp in enumerate(logprobs)];\n",
        "\n",
        "    if aligner.priors:\n",
        "        priors = log_softmax_spatial(torch.stack(aligner.priors[::skip]).cumsum(0)).cpu()\n",
        "        plot_images([p.max(-1).values for p in priors], cmaps=\"jet\", titles=[f\"{e:.2f}\" for e in errors_seq])\n",
        "        [plot_dense_rotations(i, p.exp(), s=1/15) for i, p in enumerate(priors)];\n",
        "\n",
        "exper, cfg = eval_kitti.experiments[\"BEV_MLY\"]\n",
        "cfg = {**cfg, \"data\": {\"local_dir\": \"data/kitti\"}}\n",
        "cfg[\"chunking\"] = {\"max_length\": 32}  # see maploc.data.sequential.chunk_sequence_v2 for all parameters\n",
        "results = eval_kitti.run(\"test\", exper, cfg, sequential=True, num=2, callback=viz_fn, progress=False)"
      ],
      "execution_count": null,
      "outputs": []
    }
  ]
}
