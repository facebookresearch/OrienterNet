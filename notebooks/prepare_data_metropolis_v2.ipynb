{
  "metadata": {
    "bento_stylesheets": {
      "bento/extensions/flow/main.css": true,
      "bento/extensions/kernel_selector/main.css": true,
      "bento/extensions/kernel_ui/main.css": true,
      "bento/extensions/new_kernel/main.css": true,
      "bento/extensions/system_usage/main.css": true,
      "bento/extensions/theme/main.css": true
    },
    "kernelspec": {
      "display_name": "maploc (local)",
      "language": "python",
      "name": "maploc_local",
      "metadata": {
        "is_prebuilt": false,
        "kernel_name": "maploc_local"
      }
    },
    "language_info": {
      "codemirror_mode": {
        "name": "ipython",
        "version": 3
      },
      "file_extension": ".py",
      "mimetype": "text/x-python",
      "name": "python",
      "nbconvert_exporter": "python",
      "pygments_lexer": "ipython3"
    },
    "last_server_session_id": "00abee00-d95f-4b4e-8509-5454454449f2",
    "last_kernel_id": "fa4a8398-caf3-4cba-b2ac-659f2038666c",
    "last_base_url": "https://devvm1417.cln0.facebook.com:8090/",
    "last_msg_id": "52b415bb-875dfe3268e7d8b43019c1fe_20",
    "outputWidgetContext": {}
  },
  "nbformat": 4,
  "nbformat_minor": 2,
  "cells": [
    {
      "cell_type": "code",
      "metadata": {
        "originalKey": "7af727d3-85c7-4cbf-b857-b5d76f4d0d71",
        "showInput": true,
        "customInput": null,
        "code_folding": [],
        "hidden_ranges": [],
        "collapsed": false,
        "requestMsgId": "7af727d3-85c7-4cbf-b857-b5d76f4d0d71",
        "executionStartTime": 1638999625975,
        "executionStopTime": 1638999626688
      },
      "source": [
        "%load_ext autoreload\n",
        "%autoreload 2\n",
        "\n",
        "import sys\n",
        "from pathlib import Path\n",
        "import numpy as np\n",
        "import cv2\n",
        "import matplotlib as mpl\n",
        "import matplotlib.pyplot as plt\n",
        "\n",
        "sys.path.append('fbsource/fbcode/scripts/psarlin/')\n",
        "from maploc.utils.geo import Projection, BoundaryBox\n",
        "from maploc.osm.tiling_v2 import TileManager\n",
        "from maploc.utils.viz_2d import plot_images, plot_keypoints, add_text, save_plot\n",
        "\n",
        "sys.path.append('fbsource/fbcode/mapillary/research/metropolis')\n",
        "from metropolis import Metropolis"
      ],
      "execution_count": 3,
      "outputs": []
    },
    {
      "cell_type": "code",
      "metadata": {
        "collapsed": false,
        "originalKey": "2cced0b4-6241-4400-a6f8-b457fc2c0cd2",
        "code_folding": [],
        "hidden_ranges": [],
        "requestMsgId": "2cced0b4-6241-4400-a6f8-b457fc2c0cd2",
        "executionStartTime": 1638999749680,
        "executionStopTime": 1638999924856
      },
      "source": [
        "data_root = Path('./buckets/metropolis')\n",
        "met = Metropolis(\"train\", data_root)"
      ],
      "execution_count": 8,
      "outputs": []
    },
    {
      "cell_type": "code",
      "metadata": {
        "originalKey": "28772b37-3ab2-48b5-857e-cfce2d167eb2",
        "showInput": true,
        "customInput": null,
        "code_folding": [],
        "hidden_ranges": [],
        "collapsed": false,
        "requestMsgId": "28772b37-3ab2-48b5-857e-cfce2d167eb2",
        "executionStartTime": 1638999925028,
        "executionStopTime": 1638999925146
      },
      "source": [
        "is_dummy = np.array([sd_record[\"ego_pose_token\"] == \"dummy_ego_pose\" for sd_record in met.sample_data])\n",
        "len(is_dummy), np.mean(is_dummy), np.where(~is_dummy)[0][0]"
      ],
      "execution_count": 9,
      "outputs": []
    },
    {
      "cell_type": "code",
      "metadata": {
        "originalKey": "e5c6599a-3fa2-4e8b-9506-8f1d035ef92c",
        "showInput": true,
        "customInput": null,
        "collapsed": false,
        "requestMsgId": "e5c6599a-3fa2-4e8b-9506-8f1d035ef92c",
        "executionStartTime": 1638999925222,
        "executionStopTime": 1638999934980
      },
      "source": [
        "sides = {\"CAM_FRONT\", \"CAM_RIGHT\", \"CAM_BACK\", \"CAM_LEFT\"}\n",
        "# sides = {\"CAM_EQUIRECTANGULAR\"}\n",
        "\n",
        "from maploc.mapillary.plane import PlaneModel\n",
        "\n",
        "def read_pcd(sample_record, pcd_key=\"MVS\"):\n",
        "    mvs_token = sample_record[\"data\"][\"MVS\"]\n",
        "    mvs_record = met.get(\"sample_data\", mvs_token)\n",
        "    with np.load(met.get_sample_data_path(mvs_token)) as pcd:\n",
        "        pcd = pcd[\"points\"]\n",
        "    T_w2pcd = pose_from_sample(mvs_record)\n",
        "    pcd_w = T_w2pcd.transform_inverse_many(pcd)\n",
        "    return pcd_w\n",
        "\n",
        "def fit_plane(pcd_w, t_c2w, num_ransac_iters=100, min_height=1, max_height=3):\n",
        "    z = pcd_w[:, -1]\n",
        "    z_cam = t_c2w[-1]\n",
        "    maybe_ground = (z <= (z_cam - min_height)) & (z >= (z_cam - max_height))\n",
        "    xyz_subset = pcd_w[maybe_ground]\n",
        "    if len(xyz_subset) < PlaneModel.min_num_points:\n",
        "        return None\n",
        "    plane = PlaneModel(xyz_subset, thresh=0.1, max_trials=num_ransac_iters)\n",
        "    return plane\n",
        "\n",
        "from pyquaternion import Quaternion\n",
        "from opensfm.pygeometry import Pose\n",
        "\n",
        "def pose_from_sample(data_record):\n",
        "    cs_record = met.get(\"calibrated_sensor\", data_record[\"calibrated_sensor_token\"])\n",
        "    pose_record = met.get(\"ego_pose\", data_record[\"ego_pose_token\"])\n",
        "    q_v2w = pose_record[\"rotation\"]\n",
        "    t_v2w = pose_record[\"translation\"]\n",
        "    q_c2v = cs_record[\"rotation\"]\n",
        "    t_c2v = cs_record[\"translation\"]\n",
        "    T_w2v = Pose(Quaternion(q_v2w).rotation_matrix, t_v2w).inverse()\n",
        "    T_v2c = Pose(Quaternion(q_c2v).rotation_matrix, t_c2v).inverse()\n",
        "    T_w2c = Pose.compose(T_v2c, T_w2v)\n",
        "    return T_w2c\n",
        "\n",
        "def process_sample(sample_record):\n",
        "    tokens = []\n",
        "    for side in sides:\n",
        "        cam_token = sample_record[\"data\"].get(side)\n",
        "        if cam_token is None:\n",
        "            continue\n",
        "        cam_record = met.get(\"sample_data\", cam_token)\n",
        "        if cam_record[\"ego_pose_token\"] == \"dummy_ego_pose\":\n",
        "            continue\n",
        "        tokens.append(cam_token)\n",
        "    return tokens"
      ],
      "execution_count": 10,
      "outputs": []
    },
    {
      "cell_type": "code",
      "metadata": {
        "originalKey": "f8270e87-1864-48dd-826b-e54ebd834689",
        "showInput": true,
        "customInput": null,
        "code_folding": [],
        "hidden_ranges": [],
        "collapsed": false,
        "requestMsgId": "f8270e87-1864-48dd-826b-e54ebd834689",
        "executionStartTime": 1639033830997,
        "executionStopTime": 1639033832598
      },
      "source": [
        "scene2sd2cams = {}\n",
        "for scene in met.scene:\n",
        "    sd_token = scene[\"first_sample_token\"]\n",
        "    sd2cams = {}\n",
        "    while True:\n",
        "        sample_record = met.get(\"sample\", sd_token)\n",
        "        ids = process_sample(sample_record)\n",
        "        if len(ids) > 0:\n",
        "            sd2cams[sd_token] = ids\n",
        "        if sd_token == scene[\"last_sample_token\"]:\n",
        "            break\n",
        "        sd_token = sample_record[\"next_sample\"]\n",
        "    if len(sd2cams):\n",
        "        scene2sd2cams[scene[\"token\"]] = sd2cams\n",
        "\n",
        "lengths = list(map(len, scene2sd2cams.values()))\n",
        "plt.hist(lengths);\n",
        "print(sum(lengths))"
      ],
      "execution_count": 38,
      "outputs": []
    },
    {
      "cell_type": "code",
      "metadata": {
        "originalKey": "cb8bc455-5da0-44dc-a978-bed3b32f853d",
        "showInput": true,
        "customInput": null,
        "code_folding": [],
        "hidden_ranges": [],
        "collapsed": false,
        "requestMsgId": "cb8bc455-5da0-44dc-a978-bed3b32f853d",
        "executionStartTime": 1639033379458,
        "executionStopTime": 1639033379460
      },
      "source": [
        "from tqdm import tqdm\n",
        "\n",
        "sample_tokens = [(sc, sd) for sc, sds in scene2sd2cams.items() for sd in sds]\n",
        "sample2plane = {}\n",
        "cam_heights = []  # only for stats\n",
        "\n",
        "for scene, sd_token in tqdm(sample_tokens):\n",
        "    sample_record = met.get(\"sample\", sd_token)\n",
        "    pcd_w = read_pcd(sample_record)\n",
        "    cam = scene2sd2cams[scene][sd_token][0]\n",
        "    t_c2w = pose_from_sample(met.get(\"sample_data\", cam)).get_origin()\n",
        "    plane = fit_plane(pcd_w, t_c2w)\n",
        "    num_inls = np.sum(plane.inliers)\n",
        "    angle = np.rad2deg(np.arccos(np.abs(plane.normal[-1])))\n",
        "    camera_height = t_c2w[-1] - plane.z(*t_c2w[:2])\n",
        "    if num_inls < 30 or angle > 45 or not (1 <= camera_height <= 3):\n",
        "        print(f\"Maybe wrong fit: #inls={num_inls}, angle={angle:.2f}deg, height={camera_height:.2f}m\")\n",
        "        plane = None\n",
        "    cam_heights.append(camera_height)\n",
        "    sample2plane[sd_token] = plane"
      ],
      "execution_count": null,
      "outputs": []
    },
    {
      "cell_type": "code",
      "metadata": {
        "originalKey": "077934d4-4e25-495d-8282-0be58961608c",
        "showInput": true,
        "customInput": null,
        "code_folding": [],
        "hidden_ranges": [],
        "collapsed": false,
        "requestMsgId": "077934d4-4e25-495d-8282-0be58961608c",
        "executionStartTime": 1638518860652,
        "executionStopTime": 1638518861069
      },
      "source": [
        "cam_heights = np.array(cam_heights)\n",
        "plt.hist(cam_heights[cam_heights<10])"
      ],
      "execution_count": null,
      "outputs": []
    },
    {
      "cell_type": "code",
      "metadata": {
        "originalKey": "1390a6b4-3993-4790-aa86-c847b9959057",
        "showInput": true,
        "customInput": null,
        "collapsed": false,
        "requestMsgId": "1390a6b4-3993-4790-aa86-c847b9959057",
        "executionStartTime": 1639033405234,
        "executionStopTime": 1639033405238
      },
      "source": [
        "from opensfm.geo import TopocentricConverter\n",
        "import json\n",
        "\n",
        "with open(\"./data/gps_dict.json\") as fd:\n",
        "   gps_dict = json.load(fd)\n",
        "gps_dict = {v[\"orig_fname\"]: v for v in gps_dict.values()}\n",
        "\n",
        "reference = met.geo[\"reference\"]\n",
        "reference = TopocentricConverter(reference[\"lat\"], reference[\"lon\"], reference[\"alt\"])\n",
        "\n",
        "def parse_data_record(data_record):\n",
        "    # data_path = met.get_sample_data_path(data_record[\"token\"])\n",
        "    filename = data_record[\"filename\"]\n",
        "    cs_record = met.get(\"calibrated_sensor\", data_record[\"calibrated_sensor_token\"])\n",
        "    sensor_record = met.get(\"sensor\", cs_record[\"sensor_token\"])\n",
        "\n",
        "    timestamp = data_record[\"timestamp\"]\n",
        "    K = np.array(cs_record[\"camera_intrinsic\"])\n",
        "    w, h = (data_record[\"width\"], data_record[\"height\"])\n",
        "    camera_dict = {\n",
        "        \"id\": cs_record[\"sensor_token\"],\n",
        "        \"model\": \"PINHOLE\",\n",
        "        \"width\": w,\n",
        "        \"height\": h,\n",
        "        \"params\": K[[0, 1, 0, 1], [0, 1, 2, 2]],\n",
        "    }\n",
        "\n",
        "    T_w2c = pose_from_sample(data_record)\n",
        "    return filename, camera_dict, timestamp, T_w2c\n",
        "\n",
        "from maploc.mapillary.processing import compute_geo_rotation, decompose_rotmat\n",
        "\n",
        "projection = Projection(\"EPSG:6498\")"
      ],
      "execution_count": 23,
      "outputs": []
    },
    {
      "cell_type": "code",
      "metadata": {
        "originalKey": "8855da74-9af7-43b5-bb9c-58ba47dc52cc",
        "showInput": true,
        "customInput": null,
        "code_folding": [],
        "hidden_ranges": [],
        "collapsed": false,
        "requestMsgId": "8855da74-9af7-43b5-bb9c-58ba47dc52cc",
        "executionStartTime": 1639034964156,
        "executionStopTime": 1639035006510
      },
      "source": [
        "all_latlon = []\n",
        "outputs = {}\n",
        "for scene, sample2cams in scene2sd2cams.items():\n",
        "    views = {}\n",
        "    cameras = {}\n",
        "    for sample_token, cams in sample2cams.items():\n",
        "        plane = sample2plane[sample_token]\n",
        "        if plane is None:\n",
        "            print(f\"Skipping sample {sample_token}\")\n",
        "            continue\n",
        "        gps = (gps_dict[sample_token][\"lat\"], gps_dict[sample_token][\"lon\"])\n",
        "        for cam_token in cams:\n",
        "            cam_record = met.get(\"sample_data\", cam_token)\n",
        "            filename, camera_dict, timestamp, T_w2c = parse_data_record(cam_record)\n",
        "\n",
        "            xyz_orig = T_w2c.get_origin()\n",
        "            lla = reference.to_lla(*xyz_orig)\n",
        "            xy = projection.project(np.array(lla[:2]))\n",
        "            xyz = np.r_[xy, lla[-1]]\n",
        "            R_topo2epsg = compute_geo_rotation(reference, projection, xyz_orig)\n",
        "            R_c2w = R_topo2epsg @ T_w2c.get_R_cam_to_world()\n",
        "            rpy = decompose_rotmat(R_c2w)\n",
        "            local_plane_params = np.r_[\n",
        "                R_topo2epsg @ np.array((plane.a, plane.b, plane.c)),\n",
        "                plane.d + np.dot(xyz_orig, plane.normal),\n",
        "            ]\n",
        "            view = {\n",
        "                \"camera_id\": camera_dict[\"id\"],\n",
        "                \"R_c2w\": R_c2w,\n",
        "                \"roll_pitch_yaw\": rpy,\n",
        "                \"t_c2w\": xyz,\n",
        "                \"latlong\": lla[:2],\n",
        "                \"height\": local_plane_params[-1] / local_plane_params[-2],\n",
        "                \"plane_params\": local_plane_params,\n",
        "                \"capture_time\": timestamp,\n",
        "                \"gps_position\": gps,\n",
        "            }\n",
        "            name = filename.rsplit('.', 1)[0]\n",
        "            views[name] = view\n",
        "            cameras[camera_dict[\"id\"]] = camera_dict\n",
        "            all_latlon.append(lla[:2])\n",
        "\n",
        "    outputs[scene] = {\"views\": views, \"cameras\": cameras}"
      ],
      "execution_count": 97,
      "outputs": []
    },
    {
      "cell_type": "code",
      "metadata": {
        "originalKey": "8097dbb9-9311-47bc-9df8-f87c2ed3e70b",
        "showInput": true,
        "customInput": null,
        "collapsed": false,
        "requestMsgId": "8097dbb9-9311-47bc-9df8-f87c2ed3e70b",
        "executionStartTime": 1639035016879,
        "executionStopTime": 1639035017401
      },
      "source": [
        "plt.scatter(*projection.project(np.array(all_latlon)).T, s=1)\n",
        "plt.gca().set_aspect(\"equal\")"
      ],
      "execution_count": 99,
      "outputs": []
    },
    {
      "cell_type": "code",
      "metadata": {
        "originalKey": "a34f0667-50dc-495f-9d6f-01fd3ded833b",
        "showInput": true,
        "customInput": null,
        "code_folding": [],
        "hidden_ranges": [],
        "collapsed": false,
        "requestMsgId": "a34f0667-50dc-495f-9d6f-01fd3ded833b",
        "executionStartTime": 1639035033023,
        "executionStopTime": 1639035035435
      },
      "source": [
        "from maploc.utils.io import write_json\n",
        "dump_path = Path(\"./data/mapillary_dumps_v2/metropolis_train\")\n",
        "dump_path.mkdir(exist_ok=True)\n",
        "write_json(dump_path / \"outputs_per_sequence.json\", outputs)"
      ],
      "execution_count": 100,
      "outputs": []
    },
    {
      "cell_type": "code",
      "metadata": {
        "originalKey": "b9116c08-d31d-430f-9911-e8151acb32c5",
        "showInput": true,
        "customInput": null,
        "code_folding": [],
        "hidden_ranges": [],
        "collapsed": false,
        "requestMsgId": "b9116c08-d31d-430f-9911-e8151acb32c5",
        "executionStartTime": 1639035038478,
        "executionStopTime": 1639035046215
      },
      "source": [
        "from maploc.mapillary.run import cfg\n",
        "\n",
        "all_xy = projection.project(np.array(all_latlon))\n",
        "bbox_total = BoundaryBox(np.min(all_xy, 0), np.max(all_xy, 0))\n",
        "bbox_tiling = bbox_total + cfg.tiling.margin\n",
        "print(bbox_tiling)\n",
        "tile_manager = TileManager.from_bbox(\n",
        "    dump_path,\n",
        "    projection,\n",
        "    bbox_tiling,\n",
        "    cfg.tiling.tile_size,\n",
        "    cfg.tiling.ppm,\n",
        ")\n",
        "tile_manager.save(dump_path / \"tiles.pkl\")"
      ],
      "execution_count": 101,
      "outputs": []
    },
    {
      "cell_type": "code",
      "metadata": {
        "originalKey": "0c6d05a5-aae6-48de-b287-449bcb6a6159",
        "showInput": true,
        "customInput": null,
        "code_folding": [],
        "hidden_ranges": [],
        "collapsed": false,
        "requestMsgId": "0c6d05a5-aae6-48de-b287-449bcb6a6159",
        "executionStartTime": 1638519661099,
        "executionStopTime": 1638519661753
      },
      "source": [
        "!ln -s ./buckets/metropolis $dump_path/images"
      ],
      "execution_count": 373,
      "outputs": []
    },
    {
      "cell_type": "code",
      "metadata": {
        "originalKey": "7ccc6ba8-e634-4592-8d6d-3577839fa9fb",
        "showInput": true,
        "customInput": null,
        "code_folding": [],
        "hidden_ranges": [],
        "collapsed": false,
        "requestMsgId": "7ccc6ba8-e634-4592-8d6d-3577839fa9fb",
        "executionStartTime": 1638542652244,
        "executionStopTime": 1638546840878
      },
      "source": [
        "!mkdir -p $dump_path/images/sample_data/CAM_FRONT\n",
        "!mkdir -p $dump_path/images/sample_data/CAM_LEFT\n",
        "!mkdir -p $dump_path/images/sample_data/CAM_RIGHT\n",
        "!mkdir -p $dump_path/images/sample_data/CAM_BACK\n",
        "!cp -r ./buckets/metropolis/sample_data/CAM_LEFT/* $dump_path/images/sample_data/CAM_LEFT/\n",
        "!cp -r ./buckets/metropolis/sample_data/CAM_RIGHT/* $dump_path/images/sample_data/CAM_RIGHT/\n",
        "!cp -r ./buckets/metropolis/sample_data/CAM_BACK/* $dump_path/images/sample_data/CAM_BACK/\n",
        "# !manifold getr mapillary_metropolis/tree/sample_data/CAM_FRONT $dump_path/images/sample_data/CAM_FRONT\n",
        "# !manifold getr mapillary_metropolis/tree/sample_data/CAM_LEFT $dump_path/images2/sample_data/CAM_LEFT\n",
        "# !manifold getr mapillary_metropolis/tree/sample_data/CAM_RIGHT $dump_path/images2/sample_data/CAM_RIGHT\n",
        "# !manifold getr mapillary_metropolis/tree/sample_data/CAM_BACK $dump_path/images2/sample_data/CAM_BACK"
      ],
      "execution_count": 485,
      "outputs": []
    }
  ]
}
