{
  "metadata": {
    "bento_stylesheets": {
      "bento/extensions/flow/main.css": true,
      "bento/extensions/kernel_selector/main.css": true,
      "bento/extensions/kernel_ui/main.css": true,
      "bento/extensions/new_kernel/main.css": true,
      "bento/extensions/system_usage/main.css": true,
      "bento/extensions/theme/main.css": true
    },
    "kernelspec": {
      "display_name": "maploc (local)",
      "language": "python",
      "name": "maploc_local",
      "metadata": {
        "is_prebuilt": false,
        "kernel_name": "maploc_local"
      }
    },
    "language_info": {
      "codemirror_mode": {
        "name": "ipython",
        "version": 3
      },
      "file_extension": ".py",
      "mimetype": "text/x-python",
      "name": "python",
      "nbconvert_exporter": "python",
      "pygments_lexer": "ipython3"
    },
    "last_server_session_id": "b664cf4a-3c0e-4cb3-9dfc-c22e33e39b72",
    "last_kernel_id": "8e4281cb-9776-447f-8a62-5fd6fac7dbe7",
    "last_base_url": "https://devvm1417.cln0.facebook.com:8090/",
    "last_msg_id": "6935faac-a96adffb5d76821cf9f26376_451",
    "outputWidgetContext": {}
  },
  "nbformat": 4,
  "nbformat_minor": 2,
  "cells": [
    {
      "cell_type": "code",
      "metadata": {
        "collapsed": false,
        "originalKey": "2cb76fe6-a7f6-4b74-a561-bc7dd980f1b3",
        "code_folding": [],
        "hidden_ranges": [],
        "requestMsgId": "2cb76fe6-a7f6-4b74-a561-bc7dd980f1b3",
        "executionStartTime": 1639690372764,
        "executionStopTime": 1639690372811
      },
      "source": [
        "import surreal.deeplearning.vision.utilities.checkpoint_commands as cmd\n",
        "from surreal.deeplearning.vision.utilities.move import move_to_trash\n",
        "\n",
        "bucket = \"psarlin\"\n",
        "subp = \"tree/maploc/experiments/\"\n",
        "root = bucket + \"/\" + subp\n",
        "trash = \"tree/maploc/trash/\""
      ],
      "execution_count": 2,
      "outputs": []
    },
    {
      "cell_type": "markdown",
      "metadata": {
        "originalKey": "da2d77da-b0c5-4c17-91f5-5057bb04c5ef",
        "showInput": false,
        "customInput": null,
        "code_folding": [],
        "hidden_ranges": []
      },
      "source": [
        "https://www.internalfb.com/intern/wiki/Manifold/APIs_and_References/Manifold_CLI_Cheat_Sheet/"
      ],
      "attachments": {}
    },
    {
      "cell_type": "code",
      "metadata": {
        "originalKey": "bcfc5139-cae7-48bb-a904-943bec930681",
        "showInput": true,
        "customInput": null,
        "code_folding": [],
        "hidden_ranges": [],
        "collapsed": false,
        "requestMsgId": "bcfc5139-cae7-48bb-a904-943bec930681",
        "executionStartTime": 1639691080229,
        "executionStopTime": 1639694049341
      },
      "source": [
        "from pathlib import Path\n",
        "import sys\n",
        "sys.path.append(\"fbsource/fbcode/surreal/\")\n",
        "from maploc.mapillary.run import upload_to_manifold\n",
        "\n",
        "root = Path(\"./data/mapillary_dumps_v2\")\n",
        "scenes = [p.name for p in root.iterdir() if p.is_dir()]\n",
        "remote_root = \"manifold://surreal_mapping/tree/maploc/data/mapillary_v2/\"\n",
        "for scene in scenes:\n",
        "    print(scene)\n",
        "    upload_to_manifold(root, remote_root, scene)"
      ],
      "execution_count": 21,
      "outputs": []
    },
    {
      "cell_type": "code",
      "metadata": {
        "originalKey": "e1d09286-9f30-4aef-8d8f-4a607eba739e",
        "showInput": true,
        "customInput": null,
        "code_folding": [],
        "hidden_ranges": [],
        "collapsed": false,
        "requestMsgId": "e1d09286-9f30-4aef-8d8f-4a607eba739e",
        "executionStartTime": 1639690556555,
        "executionStopTime": 1639690714555
      },
      "source": [
        "import tarfile\n",
        "from pathlib import Path\n",
        "import os.path as osp\n",
        "root = Path(\"./data/mapillary_dumps_v2\")\n",
        "scenes = [p.name for p in root.iterdir() if p.is_dir()]\n",
        "remote_root = \"manifold://surreal_mapping/tree/maploc/data/mapillary_v2/\"\n",
        "for s in scenes:\n",
        "    print(s)\n",
        "    dir_ = root / s\n",
        "    if not (dir_ / \"images.tar.gz\").exists():\n",
        "        print(\"packing images\")\n",
        "        with tarfile.open(dir_ / \"images.tar.gz\", \"w:gz\") as fp:\n",
        "            fp.add(dir_ / \"images\", arcname=\"images\")\n",
        "    files = {f.name for f in dir_.iterdir()} - {\"images\"}\n",
        "    remote_dir = osp.join(remote_root, s)"
      ],
      "execution_count": 16,
      "outputs": []
    },
    {
      "cell_type": "markdown",
      "metadata": {
        "originalKey": "e691a04b-c37f-4d06-bbc1-3939cab231f1",
        "showInput": false,
        "customInput": null,
        "code_folding": [],
        "hidden_ranges": []
      },
      "source": [
        "# List experiments"
      ],
      "attachments": {}
    },
    {
      "cell_type": "code",
      "metadata": {
        "originalKey": "20d2f2ca-b1ca-465a-8b04-ad75e5011376",
        "showInput": true,
        "customInput": null,
        "code_folding": [],
        "hidden_ranges": [],
        "collapsed": false,
        "requestMsgId": "20d2f2ca-b1ca-465a-8b04-ad75e5011376",
        "executionStartTime": 1639449628628,
        "executionStopTime": 1639449628692
      },
      "source": [
        "archive = bucket + \"/tree/maploc/experiments_archive/\""
      ],
      "execution_count": 11,
      "outputs": []
    },
    {
      "cell_type": "code",
      "metadata": {
        "originalKey": "08316d72-f405-41f5-9d0d-311741edfec3",
        "showInput": true,
        "customInput": null,
        "code_folding": [],
        "hidden_ranges": [],
        "collapsed": false,
        "requestMsgId": "08316d72-f405-41f5-9d0d-311741edfec3",
        "executionStartTime": 1639449544878,
        "executionStopTime": 1639449548314
      },
      "source": [
        "!manifold mkdir $archive"
      ],
      "execution_count": 7,
      "outputs": []
    },
    {
      "cell_type": "code",
      "metadata": {
        "originalKey": "3b0bd2a5-b86b-4fa4-9f05-2a72fdbbe2e2",
        "showInput": true,
        "customInput": null,
        "code_folding": [],
        "hidden_ranges": [],
        "collapsed": false,
        "requestMsgId": "3b0bd2a5-b86b-4fa4-9f05-2a72fdbbe2e2",
        "executionStartTime": 1639450662980,
        "executionStopTime": 1639450694157
      },
      "source": [
        "raw = \"\"\"DIR          bev1-mly7-500_vgg16-vgg13_bs18-resize256_norm-d8-nrot32_retry\n",
        "DIR          bev1-mly7-500_vgg16-vgg13_bs18-resize256_norm-d8-nrot32_retry2\n",
        "DIR          bev1-mly7-500_vgg16-vgg13_bs18-resize256_norm-d8-nrot32_retry3\n",
        "DIR          bev1-mly7-500_vgg16-vgg13_bs18-resize256_norm-d8-nrot32_retry4\n",
        "DIR          bev1-mly7-500_vgg16-vgg13_bs18-resize256_norm-d8-nrot32_retry5\n",
        "DIR          bev1-mly7-500_vgg16-vgg13_bs18-resize256_norm-d8-nrot32_retry6\n",
        "DIR          bev1-mly7-500_vgg16-vgg13_bs18-resize256_norm-d8-nrot32_retry7\n",
        "DIR          bev1-mly7-500_vgg16-vgg13_bs18-resize256_norm-d8-nrot32_retry8\"\"\"\n",
        "for s in raw.split('\\n'):\n",
        "    exp = s.split()[1]\n",
        "    print(exp)\n",
        "    # !manifold mv $bucket $subp$exp tree/maploc/experiments_archive/$exp\n",
        "    !manifold ls $bucket/$subp$exp"
      ],
      "execution_count": null,
      "outputs": []
    },
    {
      "cell_type": "code",
      "metadata": {
        "originalKey": "c33a27fe-fc0b-4412-9d13-0a7d7d8ac968",
        "showInput": true,
        "customInput": null,
        "code_folding": [],
        "hidden_ranges": [],
        "collapsed": false,
        "requestMsgId": "c33a27fe-fc0b-4412-9d13-0a7d7d8ac968",
        "executionStartTime": 1639685388997,
        "executionStopTime": 1639685591328
      },
      "source": [
        "raw = \"\"\"DIR          experiments_archivebasic-holicity_resnet18_vgg13-repl_d256_bs32-nosched_resize256_split-220m_aug-map-image_fbl\n",
        "DIR          experiments_archivebasic-holicity_resnet18_vgg13-repl_d256_bs32-nosched_resize256_split-220m_aug-map-image_fbl-2\n",
        "DIR          experiments_archivebasic-hr_resnet18_vgg13_d256_bs32_resize256_v100\n",
        "DIR          experiments_archivebasic_resnet18_vgg13-repl_d256_bs16_resize256_split_aug-map-image_fbl\n",
        "DIR          experiments_archivebasic_resnet18_vgg13-repl_d256_bs32-nosched_resize256_split-80m_aug-map-image_fbl\n",
        "DIR          experiments_archivebasic_resnet18_vgg13-repl_d256_bs32-nosched_resize256_split_aug-map-image_fbl\n",
        "DIR          experiments_archivebasic_resnet18_vgg13-repl_d256_bs32_resize256_split-80m_aug-map-image_fbl\n",
        "DIR          experiments_archivebasic_resnet18_vgg13-repl_d256_bs32_resize256_split_aug-map-image_fbl\n",
        "DIR          experiments_archivebasic_resnet18_vgg13-repl_d256_bs48_resize256_split_aug-map-image_fbl\n",
        "DIR          experiments_archivebasic_resnet18_vgg13_d256_bs16_resize256\n",
        "DIR          experiments_archivebasic_resnet18_vgg13_d256_bs16_resize256_G2\n",
        "DIR          experiments_archivebasic_resnet18_vgg13_d256_bs32_resize25\n",
        "DIR          experiments_archivebasic_resnet18_vgg13_d256_bs32_resize256_v100\n",
        "DIR          experiments_archivebasic_resnet50_vgg16_d256_bs32_resize256_v100\n",
        "DIR          experiments_archivebasic_resnet50_vgg16_d256_bs32_resize256_v100_split\n",
        "DIR          experiments_archivebasic_resnet50_vgg16_d256_bs32_resize256_v100_split_aug-map\n",
        "DIR          experiments_archivebasic_resnet50_vgg16_d256_bs32_resize256_v100_split_aug-map-image_fbl\n",
        "DIR          experiments_archivebasic_resnet50_vgg16_d256_bs32_resize256_v100_split_aug-map_fbl\n",
        "DIR          experiments_archivebasic_resnet50_vgg16_d256_bs32_resize256_v100_split_no-aug\n",
        "DIR          experiments_archivebasic_resnet50_vgg16_d256_bs32_resize256_v100_split_no-aug_fbl\n",
        "DIR          experiments_archivebasic_resnet50_vgg16_d256_bs32_resize256_v100_split_retry\n",
        "DIR          experiments_archivebev1-metropolis-80m_vgg16-vgg13_bs12-resize256_aug-image-map_masked-noconf_rotbug\n",
        "DIR          experiments_archivebev1-metropolis-80m_vgg16-vgg13_bs12-resize256_aug-image-map_masked-norm_rotbug\n",
        "DIR          experiments_archivebev1-metropolis-80m_vgg16-vgg13_bs12-resize256_aug-image-map_masked_rotbug\n",
        "DIR          experiments_archivebev1-metropolis-80m_vgg16-vgg13_bs12-resize256_aug-image_masked_rotbug\n",
        "DIR          experiments_archivebev1-metropolis-80m_vgg16-vgg13_bs18-resize256_aug-image-map_masked-prior_rotbug\n",
        "DIR          experiments_archivebev1-metropolis-80m_vgg16-vgg13_bs18-resize256_aug-image-map_masked_rotbug\n",
        "DIR          experiments_archivebev1-metropolis-80m_vgg16-vgg13_bs18-resize256_aug-image-map_rotbug\n",
        "DIR          experiments_archivebev1-metropolis-80m_vgg16-vgg13_bs18-resize256_aug-image_masked-noconf_rotbug\n",
        "DIR          experiments_archivebev1-metropolis-80m_vgg16-vgg13_bs18-resize256_aug-image_masked-norm_rotbug\n",
        "DIR          experiments_archivebev1-metropolis-80m_vgg16-vgg13_bs18-resize256_aug-image_masked_rotbug\n",
        "DIR          experiments_archivebev1-metropolis-80m_vgg16-vgg13_bs18-resize256_aug-image_rotbug\n",
        "DIR          experiments_archivebev1-metropolis-split500_vgg16-vgg13_bs18-resize256_aug-image_rotbug\n",
        "DIR          experiments_archivebev1-mly1-sfsoma-500_vgg16-vgg13_bs9-resize256_norm-d8-nrot64\n",
        "DIR          experiments_archivebev1-mly1-sfsoma-500_vgg16-vgg13_bs9-resize256_norm-d8-nrot64_noaug\n",
        "DIR          experiments_archivebev1-mly1-sfsoma-500_vgg16-vgg13_bs9-resize256_norm-d8-nrot64_noaug_retry\n",
        "DIR          experiments_archivebev1-mly2-sf-500_vgg16-vgg13_bs9-resize256_norm-d8-nrot64_noaug_retry\n",
        "DIR          experiments_archivebev1-osm2-mly12-n100_vgg16-vgg13_bs6-resize256_attn-2-2-128d-h256_norm-d8-nrot64\n",
        "DIR          experiments_archivebev1-osm2-mly12-n100_vgg16-vgg13_bs6-resize256_attn-2-2-128d_norm-d8-nrot64\n",
        "DIR          experiments_archivebev1-osm2-mly12-n100_vgg16-vgg13_bs6-resize256_attn-2-2-256d_norm-d8-nrot32\n",
        "DIR          experiments_archivebev1-osm2-mly12-n100_vgg16-vgg13_bs9-resize256_norm-d8-nrot64_lr3\n",
        "DIR          experiments_archivebev1-osm2-mly12-n100_vgg16-vgg13_bs9-resize256_norm-d8-nrot64_lr4\n",
        "DIR          experiments_archivebev1-osm2-mly12-n100_vgg16-vgg13_bs9-resize256_norm-d8-nrot64_lr5\"\"\"\n",
        "for s in raw.split('\\n'):\n",
        "    name = s.split()[1]\n",
        "    exp = name.replace(\"experiments_archive\", \"\")\n",
        "    print(exp)\n",
        "    !manifold mv $bucket tree/maploc/$name tree/maploc/experiments_archive/$exp"
      ],
      "execution_count": 9,
      "outputs": []
    },
    {
      "cell_type": "code",
      "metadata": {
        "originalKey": "1d282d8c-2e06-4a57-860a-9f3006a20907",
        "showInput": true,
        "customInput": null,
        "code_folding": [],
        "hidden_ranges": [],
        "collapsed": false,
        "requestMsgId": "1d282d8c-2e06-4a57-860a-9f3006a20907",
        "executionStartTime": 1639450779394,
        "executionStopTime": 1639450782787
      },
      "source": [
        "!manifold ls $root"
      ],
      "execution_count": null,
      "outputs": []
    },
    {
      "cell_type": "markdown",
      "metadata": {
        "originalKey": "1326da2c-d593-4de7-9422-9ebbacd0eda6",
        "showInput": false,
        "customInput": null,
        "code_folding": [],
        "hidden_ranges": []
      },
      "source": [
        "# Delete experiments"
      ],
      "attachments": {}
    },
    {
      "cell_type": "code",
      "metadata": {
        "originalKey": "752f9107-06ab-457b-a468-2e89080bb8a9",
        "showInput": true,
        "customInput": null,
        "code_folding": [],
        "hidden_ranges": [],
        "collapsed": false,
        "requestMsgId": "752f9107-06ab-457b-a468-2e89080bb8a9",
        "executionStartTime": 1633966077091,
        "executionStopTime": 1633966079394
      },
      "source": [
        "exps = !manifold ls $root test\n",
        "exps = [e.split()[1] for e in exps]\n",
        "exps"
      ],
      "execution_count": 49,
      "outputs": []
    },
    {
      "cell_type": "code",
      "metadata": {
        "originalKey": "40e8f2ea-e33b-48ce-84f9-83d8bf66dd64",
        "showInput": true,
        "customInput": null,
        "code_folding": [],
        "hidden_ranges": [],
        "collapsed": false,
        "requestMsgId": "40e8f2ea-e33b-48ce-84f9-83d8bf66dd64",
        "executionStartTime": 1639450733084,
        "executionStopTime": 1639450733095
      },
      "source": [
        "exps = ['test_pickle/version_0', \n",
        "'basic_resnet50_vgg16_d256_bs32_resize256_v100_split_aug-map/version_0', \n",
        "'basic_resnet50_vgg16_d256_bs32_resize256_v100_split/version_0', \n",
        "'basic_resnet50_vgg16_d256_bs32_resize256_v100/version_0', \n",
        "'basic-hr_resnet18_vgg13_d256_bs32_resize256_v100/version_0', \n",
        "'basic_resnet18_vgg13_d256_bs16_resize256_G2/version_0',\n",
        "'basic_bs4_overfit-1/version_0',\n",
        "'basic_bs4_overfit-1/version_1',\n",
        "'basic_bs4_overfit-1/version_2',\n",
        "]\n",
        "exps = ['basic_resnet50_vgg16_d256_bs32_resize256_v100_split_no-aug_fbl/version_0']\n",
        "exps = [\"basic_bs4_overfit-1_seeded\"]\n",
        "exps = [\n",
        "    \"bev1-metropolis-80m_vgg16-vgg13_bs18-resize256_aug-image-map_masked\",\n",
        "    \"bev1-metropolis-80m_vgg16-vgg13_bs18-resize256_aug-image-map_masked-noconf/version_0\",\n",
        "    \"bev1-metropolis-80m_vgg16-vgg13_bs18-resize256_aug-image-map_masked-noconf/version_1\",\n",
        "    \"bev1-metropolis-80m_vgg16-vgg13_bs18-resize256_aug-image-map_masked-norm\",\n",
        "    \"bev1-metropolis-80m_vgg16-vgg13_bs12-resize256_aug-image-map_masked\",\n",
        "    \"bev1-metropolis-80m_vgg16-vgg13_bs10-resize256_aug-image-map_masked\",\n",
        "    \"bev1-metropolis-80m_vgg16-vgg13_bs12-resize256_aug-image-map_masked-norm\",\n",
        "]\n",
        "exps = [\n",
        "    \"bev1-metropolis-80m_vgg16-vgg13_bs18-resize256_aug-image-map_masked-prior\",\n",
        "    \"bev1-metropolis-80m_vgg16-vgg13_bs18-resize256_aug-image-map_masked-prior_retry\"\n",
        "]\n",
        "exps = [\n",
        "    \"bev1-metropolis-80m_vgg16-vgg13_bs18-resize256_aug-image-map_masked-prior_retry2/version_0\",\n",
        "    \"bev1-metropolis-80m_vgg16-vgg13_bs18-resize256_aug-image-map_masked-prior_retry3/version_0\",\n",
        "    \"bev1-metropolis-80m_vgg16-vgg13_bs18-resize256_aug-image-map_masked-prior_retry3/version_1\",\n",
        "]\n",
        "exps = [\n",
        "    \"bev1-metropolis-80m_vgg16-vgg13_bs18-resize256_aug-image-map_masked-prior_retry2\",\n",
        "    \"bev1-metropolis-80m_vgg16-vgg13_bs18-resize256_aug-image-map_masked-prior_retry3\"\n",
        "]\n",
        "exps = '''DIR          test_bev_overfit_gpu1_bs2_fix-nonorm_seeded5\n",
        "DIR          test_bev_overfit_gpu1_bs2_fix2-nonorm-nobn-fixloss_seeded6\n",
        "DIR          test_bev_overfit_gpu1_bs2_fix2-nonorm-nobn_seeded6\n",
        "DIR          test_bev_overfit_gpu1_bs2_fix2-nonorm_seeded5\n",
        "DIR          test_bev_overfit_gpu1_bs2_fix2-nonorm_seeded6\n",
        "DIR          test_bev_overfit_gpu1_bs2_fix_seeded5\n",
        "DIR          test_bev_overfit_gpu1_bs2_fixall_retry\n",
        "DIR          test_bev_overfit_gpu1_bs3_fixall\n",
        "DIR          test_bev_overfit_gpu2_bs12_out16-latent128\n",
        "DIR          test_bev_overfit_gpu2_bs2_fix_seeded\n",
        "DIR          test_bev_overfit_gpu2_bs2_fix_seeded2\n",
        "DIR          test_bev_overfit_gpu2_bs2_fix_seeded3\n",
        "DIR          test_bev_overfit_gpu2_bs2_fix_seeded4\n",
        "DIR          test_bev_overfit_gpu2_bs2_fix_seeded5\n",
        "DIR          test_bev_overfit_gpu2_bs4\n",
        "DIR          test_bev_overfit_gpu2_bs4_fix\n",
        "DIR          test_bev_overfit_gpu2_bs4_fixall\n",
        "DIR          test_bev_overfit_gpu2_bs6_dim16\n",
        "DIR          test_bev_overfit_gpu2_bs6_fixall\n",
        "DIR          test_bev_overfit_gpu2_bs6_fixall_2\n",
        "DIR          test_bev_overfit_gpu2_bs6_fixall_3\n",
        "DIR          test_bev_overfit_gpu2_bs6_fixall_retry\n",
        "DIR          test_bev_overfit_gpu2_bs6_fixall_retry2\n",
        "DIR          test_bev_overfit_gpu2_bs6_out16-latent128'''\n",
        "exps = \"\"\"DIR          test_8d_3gpu_bs18\n",
        "DIR          test_8d_3gpu_bs18_nrot16\n",
        "DIR          test_8d_3gpu_bs30\n",
        "DIR          test_8d_3gpu_bs32_nrot16\n",
        "DIR          test_bev_cpu\n",
        "DIR          test_bev_gpu2\n",
        "DIR          test_bev_gpu2_bs4\n",
        "DIR          test_bev_gpu3_bs9\"\"\"\n",
        "exps = \"\"\"DIR          test_overfit_mapillary_sfhayes_fix_bs12-b50_retry\n",
        "DIR          test_overfit_mapillary_sfhayes_fix_bs12-b50_retry2\n",
        "DIR          test_overfit_mapillary_sfsoma\n",
        "DIR          test_overfit_mapillary_sfsoma_fix\n",
        "DIR          test_overfit_mapillary_sfsoma_fix_bs3_retry\n",
        "DIR          test_overfit_mapillary_sfsoma_fix_bs6\n",
        "DIR          test_overfit_mapillary_sfsoma_fix_bs6_retry\n",
        "DIR          test_overfit_metropolis_bs6\"\"\"\n",
        "exps = \"\"\"DIR          basic_bs16_overfit-1\n",
        "DIR          basic_bs16_overfit-1_seeded\n",
        "DIR          basic_bs4_overfit-1\n",
        "DIR          basic_bs8_overfit-1_seeded\"\"\"\n",
        "exps = \"\"\"DIR          bev1-mly7-500_vgg16-vgg13_bs18-resize256_norm-d8-nrot32_retry\n",
        "DIR          bev1-mly7-500_vgg16-vgg13_bs18-resize256_norm-d8-nrot32_retry2\n",
        "DIR          bev1-mly7-500_vgg16-vgg13_bs18-resize256_norm-d8-nrot32_retry3\n",
        "DIR          bev1-mly7-500_vgg16-vgg13_bs18-resize256_norm-d8-nrot32_retry4\n",
        "DIR          bev1-mly7-500_vgg16-vgg13_bs18-resize256_norm-d8-nrot32_retry5\n",
        "DIR          bev1-mly7-500_vgg16-vgg13_bs18-resize256_norm-d8-nrot32_retry6\n",
        "DIR          bev1-mly7-500_vgg16-vgg13_bs18-resize256_norm-d8-nrot32_retry7\n",
        "DIR          bev1-mly7-500_vgg16-vgg13_bs18-resize256_norm-d8-nrot32_retry8\"\"\"\n",
        "exps = [s.split()[1] for s in exps.split('\\n')]\n",
        "# exps = [\n",
        "#     \"bev1-metropolis-80m_vgg16-vgg13_bs18-resize256_masked-norm_d8-nrot64\",\n",
        "#     \"bev1-metropolis-80m_vgg16-vgg13_bs18-resize256_masked_d8-nrot64\",\n",
        "#     \"bev1-metropolis-80m_vgg16-vgg13_bs15-resize256_masked-norm_d8-nrot64\",\n",
        "#     \"bev1-metropolis-80m_vgg16-vgg13_bs12-resize256_masked-norm_d8-nrot64\",\n",
        "#     \"bev1-metropolis-80m_vgg16-vgg13_bs12-resize256_masked_d8-nrot64\",\n",
        "# ]\n",
        "# exps = [\n",
        "#     \"basic-rotation-mly7-n80_rn18-vgg13_b32-resize256_d256\",\n",
        "#     \"basic-rotation-mly7-fix-n80_rn18-vgg13_b32-resize256_d256\",\n",
        "#     \"basic-rotation-mly7-fix-n80_rn18-vgg13_b16-resize256_d256\",\n",
        "#     \"basic-rotation-mly7-fix-n80_rn18-vgg13_b9-resize256_d128_nrot64\",\n",
        "#     \"basic-rotation-mly7-fix-n80_rn18-vgg13_b9-resize256_d128_nrot32\",\n",
        "#     \"basic-rotation-mly7-fix-n80_rn18-vgg13_b9-resize256_d64_nrot64\",\n",
        "# ]\n",
        "# exps = [\"bev1-mly12-n100_vgg16-vgg13_bs6-resize256_attn-2-2-256d_norm-d8-nrot64\"]\n",
        "# exps = [\"bev1-osm2-mly12-n100_vgg16-vgg13_bs6-resize256_attn-fix-2-2-128d_norm-d8-nrot64_test-device-stats\"]"
      ],
      "execution_count": 36,
      "outputs": []
    },
    {
      "cell_type": "code",
      "metadata": {
        "originalKey": "2361cdfb-6491-4b3b-ae7c-6caf7a151141",
        "showInput": true,
        "customInput": null,
        "code_folding": [],
        "hidden_ranges": [],
        "collapsed": false,
        "requestMsgId": "2361cdfb-6491-4b3b-ae7c-6caf7a151141",
        "executionStartTime": 1639450735968,
        "executionStopTime": 1639450749625
      },
      "source": [
        "move_to_trash([root+e for e in exps], trash_path=trash, test=False)"
      ],
      "execution_count": null,
      "outputs": []
    },
    {
      "cell_type": "markdown",
      "metadata": {
        "originalKey": "b6e61617-4be9-4eec-bbf6-ee1c961fa50d",
        "showInput": false,
        "customInput": null,
        "code_folding": [],
        "hidden_ranges": []
      },
      "source": [
        "# Rename experiments"
      ],
      "attachments": {}
    },
    {
      "cell_type": "code",
      "metadata": {
        "originalKey": "6018d77e-407b-4712-8091-5003a9675096",
        "showInput": true,
        "customInput": null,
        "code_folding": [],
        "hidden_ranges": [],
        "collapsed": false,
        "requestMsgId": "6018d77e-407b-4712-8091-5003a9675096",
        "executionStartTime": 1635513173957,
        "executionStopTime": 1635513178096
      },
      "source": [
        "inp = \"bev1-metropolis-80m_vgg16-vgg13_bs18-resize256_aug-image-map_masked_retry2\"\n",
        "out = \"bev1-metropolis-80m_vgg16-vgg13_bs18-resize256_aug-image-map_masked\"\n",
        "!manifold mv $bucket $subp$inp $subp$out"
      ],
      "execution_count": 11,
      "outputs": []
    },
    {
      "cell_type": "code",
      "metadata": {
        "originalKey": "d91f39b9-6e52-4225-9e9c-020d57221f3f",
        "showInput": true,
        "customInput": null,
        "code_folding": [],
        "hidden_ranges": [],
        "collapsed": false,
        "requestMsgId": "d91f39b9-6e52-4225-9e9c-020d57221f3f",
        "executionStartTime": 1635531904951,
        "executionStopTime": 1635531952396
      },
      "source": [
        "raw = \"\"\"DIR          bev1-metropolis-80m_vgg16-vgg13_bs12-resize256_aug-image-map_masked\n",
        "DIR          bev1-metropolis-80m_vgg16-vgg13_bs12-resize256_aug-image-map_masked-noconf\n",
        "DIR          bev1-metropolis-80m_vgg16-vgg13_bs12-resize256_aug-image-map_masked-norm\n",
        "DIR          bev1-metropolis-80m_vgg16-vgg13_bs12-resize256_aug-image_masked\n",
        "DIR          bev1-metropolis-80m_vgg16-vgg13_bs18-resize256_aug-image\n",
        "DIR          bev1-metropolis-80m_vgg16-vgg13_bs18-resize256_aug-image-map\n",
        "DIR          bev1-metropolis-80m_vgg16-vgg13_bs18-resize256_aug-image-map_masked\n",
        "DIR          bev1-metropolis-80m_vgg16-vgg13_bs18-resize256_aug-image-map_masked-prior\n",
        "DIR          bev1-metropolis-80m_vgg16-vgg13_bs18-resize256_aug-image_masked\n",
        "DIR          bev1-metropolis-80m_vgg16-vgg13_bs18-resize256_aug-image_masked-noconf\n",
        "DIR          bev1-metropolis-80m_vgg16-vgg13_bs18-resize256_aug-image_masked-norm\n",
        "DIR          bev1-metropolis-split500_vgg16-vgg13_bs18-resize256_aug-image\"\"\"\n",
        "for s in raw.split('\\n'):\n",
        "    exp = s.split()[1]\n",
        "    exp2 = exp + '_rotbug'\n",
        "    print(exp, exp2)\n",
        "    !manifold mv $bucket $subp$exp $subp$exp2"
      ],
      "execution_count": 38,
      "outputs": []
    }
  ]
}
