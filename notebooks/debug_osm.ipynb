{
  "metadata": {
    "bento_stylesheets": {
      "bento/extensions/flow/main.css": true,
      "bento/extensions/kernel_selector/main.css": true,
      "bento/extensions/kernel_ui/main.css": true,
      "bento/extensions/new_kernel/main.css": true,
      "bento/extensions/system_usage/main.css": true,
      "bento/extensions/theme/main.css": true
    },
    "kernelspec": {
      "display_name": "maploc (local)",
      "language": "python",
      "name": "maploc_local",
      "metadata": {
        "is_prebuilt": false,
        "kernel_name": "maploc_local"
      }
    },
    "language_info": {
      "codemirror_mode": {
        "name": "ipython",
        "version": 3
      },
      "file_extension": ".py",
      "mimetype": "text/x-python",
      "name": "python",
      "nbconvert_exporter": "python",
      "pygments_lexer": "ipython3"
    },
    "last_server_session_id": "ae16e331-4853-4f0b-a441-03636f356d19",
    "last_kernel_id": "55f1bfca-cdf0-4866-a7b6-7418cec73d0b",
    "last_base_url": "https://devvm1417.cln0.facebook.com:8090/",
    "last_msg_id": "e5fb205e-1941ebe604b3a6e8400a8c78_58",
    "outputWidgetContext": {}
  },
  "nbformat": 4,
  "nbformat_minor": 2,
  "cells": [
    {
      "cell_type": "markdown",
      "metadata": {
        "originalKey": "99b3c84e-43ff-4d8a-9a2e-0ac8885b8109",
        "showInput": false,
        "customInput": null,
        "code_folding": [],
        "hidden_ranges": [],
        "collapsed": false,
        "requestMsgId": "99b3c84e-43ff-4d8a-9a2e-0ac8885b8109",
        "executionStartTime": 1639600068634,
        "executionStopTime": 1639600069018
      },
      "source": [
        "A collection of code snippets to investigate OSM data, find missind labels, plot the distribution of classes."
      ],
      "attachments": {}
    },
    {
      "cell_type": "code",
      "metadata": {
        "originalKey": "41f8e455-90a9-49d2-b263-71cad3082fdf",
        "showInput": true,
        "customInput": null,
        "code_folding": [],
        "hidden_ranges": [],
        "collapsed": false,
        "requestMsgId": "41f8e455-90a9-49d2-b263-71cad3082fdf",
        "executionStartTime": 1637919756444,
        "executionStopTime": 1637919756652
      },
      "source": [
        "%load_ext autoreload\n",
        "%autoreload 2\n",
        "\n",
        "from pathlib import Path\n",
        "import torch\n",
        "import yaml\n",
        "import sys\n",
        "from torchmetrics import MetricCollection\n",
        "from omegaconf import OmegaConf\n",
        "import matplotlib.pyplot as plt\n",
        "import matplotlib as mpl\n",
        "import numpy as np\n",
        "from pytorch_lightning import seed_everything\n",
        "sys.path.append('fbsource/fbcode/scripts/psarlin/')\n",
        "\n",
        "from maploc.data.loader import MapLocDataModule\n",
        "from maploc.data.loader_mapillary import MapillaryDataModule\n",
        "from maploc.train import GenericModule\n",
        "from maploc.utils.viz_2d import plot_images, plot_keypoints, features_to_RGB, save_plot, add_text\n",
        "from maploc.utils.viz_localization import likelihood_overlay, plot_pose, plot_dense_rotations\n",
        "from maploc.utils.geo import Projection, BoundaryBox\n",
        "from maploc.osm.download import get_osm\n",
        "from maploc.osm.index import MapIndex\n",
        "from maploc.osm.parser import group_elements, Groups\n",
        "from maploc.osm.raster import Canvas, render_raster_map, render_raster_masks\n",
        "from maploc.osm.reader import OSMData\n",
        "from maploc.osm.data import MapData\n",
        "from maploc.osm.tiling_v2 import TileManager\n",
        "from maploc.osm.viz import Colormap, plot_nodes\n",
        "torch.set_grad_enabled(False);\n",
        "plt.rcParams.update({'figure.max_open_warning': 0})"
      ],
      "execution_count": 30,
      "outputs": []
    },
    {
      "cell_type": "markdown",
      "metadata": {
        "originalKey": "9e0ef584-331d-4fd2-b9ac-5f0194d0c36b",
        "showInput": false,
        "customInput": null,
        "code_folding": [],
        "hidden_ranges": []
      },
      "source": [
        "# Analyze the missing labels"
      ],
      "attachments": {}
    },
    {
      "cell_type": "code",
      "metadata": {
        "collapsed": false,
        "originalKey": "d8e20988-52a3-489c-86df-37c5ff6b4ac6",
        "code_folding": [],
        "hidden_ranges": [],
        "requestMsgId": "d8e20988-52a3-489c-86df-37c5ff6b4ac6",
        "executionStartTime": 1637879787646,
        "executionStopTime": 1637879846453
      },
      "source": [
        "manager = TileManager.load(\"./data/mapillary_dumps_v2/nantes/tiles.pkl\")\n",
        "path = Path(\"/data/users/psarlin/data/osm/nantes.osm\")\n",
        "projection = Projection(\"EPSG:2154\")\n",
        "bbox = manager.bbox\n",
        "\n",
        "bbox_osm = projection.unproject(bbox)\n",
        "if path.is_file():\n",
        "    osm = OSMData.from_file(path)\n",
        "    if osm.box is not None:\n",
        "        assert osm.box.contains(bbox_osm)\n",
        "else:\n",
        "    path = path / f\"{bbox_osm}.json\"\n",
        "    osm = OSMData.from_dict(get_osm(bbox_osm, path))\n",
        "\n",
        "osm.add_xy_to_nodes(projection)\n",
        "data = MapData.from_osm(osm)\n",
        "index = MapIndex(data)\n",
        "nodes = osm.nodes.values()\n",
        "ways = osm.ways.values()\n",
        "\n",
        "from maploc.osm.analysis import plot_osm_histograms\n",
        "plot_osm_histograms(osm, fontsize=4, dpi=200)"
      ],
      "execution_count": 114,
      "outputs": []
    },
    {
      "cell_type": "code",
      "metadata": {
        "originalKey": "38508ddd-5a22-4efa-a3ef-7b2a2bac94d7",
        "showInput": true,
        "customInput": null,
        "code_folding": [],
        "hidden_ranges": [],
        "collapsed": false,
        "requestMsgId": "38508ddd-5a22-4efa-a3ef-7b2a2bac94d7",
        "executionStartTime": 1637918628814,
        "executionStopTime": 1637918781486
      },
      "source": [
        "from maploc.mapillary.run import locations\n",
        "from maploc.osm.index import OSMIndex\n",
        "scenes = [\"sanfrancisco_soma\", \"sanfrancisco_hayes\"]\n",
        "scenes = set(locations) - {\"sanfrancisco_soma_test\"}\n",
        "scenes = [\"amsterdam\"]\n",
        "print(len(scenes), scenes)\n",
        "all_nodes = []\n",
        "all_ways = []\n",
        "for scene in scenes:\n",
        "    loc = locations[scene]\n",
        "    osm = OSMData.from_file(loc[\"osm_path\"])\n",
        "    projection = Projection(loc[\"epsg\"])\n",
        "    osm.add_xy_to_nodes(projection)\n",
        "    index = OSMIndex(osm)\n",
        "    nodes, ways = index.query(projection.project(loc[\"bbox\"]))\n",
        "    all_nodes.extend(nodes)\n",
        "    all_ways.extend(ways)"
      ],
      "execution_count": 15,
      "outputs": []
    },
    {
      "cell_type": "code",
      "metadata": {
        "originalKey": "d1d35dd6-02a8-40b7-9be8-5b79ceb9a345",
        "showInput": true,
        "customInput": null,
        "collapsed": false,
        "requestMsgId": "d1d35dd6-02a8-40b7-9be8-5b79ceb9a345",
        "executionStartTime": 1637918856154,
        "executionStopTime": 1637918856250,
        "code_folding": [],
        "hidden_ranges": []
      },
      "source": [
        "from maploc.osm.parser import filter_node, parse_node, match_to_group, Patterns, filter_way, parse_way, filter_area, parse_area\n",
        "from collections import Counter\n",
        "from pprint import pprint\n",
        "\n",
        "def filter_unlabeled(elems, parse_fn, i):\n",
        "    no_label = []\n",
        "    no_group = Counter()\n",
        "    for node in elems:\n",
        "        label = parse_fn(node.tags)\n",
        "        if label is None:\n",
        "            if len(node.tags) > 0:\n",
        "                no_label.append(node.tags)\n",
        "            continue\n",
        "        if i == 0:  # node\n",
        "            group = match_to_group(label, Patterns.nodes)\n",
        "            if group is None:\n",
        "                group = match_to_group(label, Patterns.ways)\n",
        "        elif i == 1: # way\n",
        "            group = match_to_group(label, Patterns.ways)\n",
        "            if group is None:\n",
        "                group = match_to_group(label, Patterns.nodes)\n",
        "        else:\n",
        "            group = match_to_group(label, Patterns.areas)\n",
        "            if group is None:\n",
        "                group = match_to_group(label, Patterns.ways)\n",
        "            if group is None:\n",
        "                group = match_to_group(label, Patterns.nodes)\n",
        "        if group is None:\n",
        "            no_group[label] += 1\n",
        "    return no_label, no_group"
      ],
      "execution_count": 22,
      "outputs": []
    },
    {
      "cell_type": "code",
      "metadata": {
        "originalKey": "9493a732-73b0-4b1f-82c6-2ab4fa980678",
        "showInput": true,
        "customInput": null,
        "code_folding": [],
        "hidden_ranges": [],
        "collapsed": false,
        "requestMsgId": "9493a732-73b0-4b1f-82c6-2ab4fa980678",
        "executionStartTime": 1637884905105,
        "executionStopTime": 1637884909831
      },
      "source": [
        "no_label, no_group = filter_unlabeled(filter(filter_node, all_nodes), parse_node, 0)\n",
        "common = sorted(((k, c) for k, c in no_group.items() if c >= 10), key=lambda x: x[1], reverse=True)[:100]\n",
        "pprint(common)"
      ],
      "execution_count": null,
      "outputs": []
    },
    {
      "cell_type": "code",
      "metadata": {
        "originalKey": "aabe3e62-5bcd-4b30-ba71-f9d1f6a770e0",
        "showInput": true,
        "customInput": null,
        "code_folding": [],
        "hidden_ranges": [],
        "collapsed": false,
        "requestMsgId": "aabe3e62-5bcd-4b30-ba71-f9d1f6a770e0",
        "executionStartTime": 1637885008814,
        "executionStopTime": 1637885009206
      },
      "source": [
        "Counter([str(n) for n in no_label if \"addr:housenumber\" not in n]).most_common(50)"
      ],
      "execution_count": null,
      "outputs": []
    },
    {
      "cell_type": "code",
      "metadata": {
        "originalKey": "f0ed8c0b-3125-4fff-9850-06f8aa8126de",
        "showInput": true,
        "customInput": null,
        "code_folding": [],
        "hidden_ranges": [],
        "collapsed": false,
        "requestMsgId": "f0ed8c0b-3125-4fff-9850-06f8aa8126de",
        "executionStartTime": 1637886183908,
        "executionStopTime": 1637886186085
      },
      "source": [
        "no_label, no_group = filter_unlabeled(filter(filter_way, all_ways), parse_way, 1)\n",
        "common = sorted(((k, c) for k, c in no_group.items() if c >= 10), key=lambda x: x[1], reverse=True)[:100]\n",
        "pprint(common)"
      ],
      "execution_count": 255,
      "outputs": []
    },
    {
      "cell_type": "code",
      "metadata": {
        "originalKey": "fc66f9fb-9866-441e-8248-4883563741d8",
        "showInput": true,
        "customInput": null,
        "collapsed": false,
        "requestMsgId": "fc66f9fb-9866-441e-8248-4883563741d8",
        "executionStartTime": 1637886189494,
        "executionStopTime": 1637886189709
      },
      "source": [
        "Counter([str(n) for n in no_label if \"addr:housenumber\" not in n]).most_common(50)"
      ],
      "execution_count": null,
      "outputs": []
    },
    {
      "cell_type": "code",
      "metadata": {
        "originalKey": "95d73880-5cd0-471e-9a9e-2b5b170670e2",
        "showInput": true,
        "customInput": null,
        "code_folding": [],
        "hidden_ranges": [],
        "collapsed": false,
        "requestMsgId": "95d73880-5cd0-471e-9a9e-2b5b170670e2",
        "executionStartTime": 1637886343315,
        "executionStopTime": 1637886345130
      },
      "source": [
        "no_label, no_group = filter_unlabeled(filter(filter_area, all_ways), parse_area, 2)\n",
        "common = sorted(((k, c) for k, c in no_group.items() if c >= 5), key=lambda x: x[1], reverse=True)\n",
        "pprint(common)"
      ],
      "execution_count": 258,
      "outputs": []
    },
    {
      "cell_type": "code",
      "metadata": {
        "originalKey": "4f67c4cb-b8a7-40df-ac28-db9c53b4be33",
        "showInput": true,
        "customInput": null,
        "code_folding": [],
        "hidden_ranges": [],
        "collapsed": false,
        "requestMsgId": "4f67c4cb-b8a7-40df-ac28-db9c53b4be33",
        "executionStartTime": 1637886822774,
        "executionStopTime": 1637886824049
      },
      "source": [
        "[parse_area(area.tags) for area in filter(filter_area, all_ways) if area.tags.get(\"natural\")==\"water\"]"
      ],
      "execution_count": 273,
      "outputs": []
    },
    {
      "cell_type": "code",
      "metadata": {
        "originalKey": "f938c853-569c-449e-99eb-7066e572d4f0",
        "showInput": true,
        "customInput": null,
        "code_folding": [],
        "hidden_ranges": [],
        "collapsed": false,
        "requestMsgId": "f938c853-569c-449e-99eb-7066e572d4f0",
        "executionStartTime": 1637886804062,
        "executionStopTime": 1637886805368
      },
      "source": [
        "[area.tags for area in filter(filter_area, all_ways) if area.tags.get(\"natural\")==\"water\"]"
      ],
      "execution_count": 270,
      "outputs": []
    },
    {
      "cell_type": "code",
      "metadata": {
        "originalKey": "a48dbf16-f0c1-473a-ae48-fe46908d8246",
        "showInput": true,
        "customInput": null,
        "collapsed": false,
        "requestMsgId": "a48dbf16-f0c1-473a-ae48-fe46908d8246",
        "executionStartTime": 1637885845445,
        "executionStopTime": 1637885845701
      },
      "source": [
        "Counter([str(n) for n in no_label if \"addr:housenumber\" not in n]).most_common(50)"
      ],
      "execution_count": null,
      "outputs": []
    },
    {
      "cell_type": "code",
      "metadata": {
        "originalKey": "c4f348ae-ecbd-4fbf-a419-3591ac7c9981",
        "showInput": true,
        "customInput": null,
        "code_folding": [],
        "hidden_ranges": [],
        "collapsed": false,
        "requestMsgId": "c4f348ae-ecbd-4fbf-a419-3591ac7c9981",
        "executionStartTime": 1637880337715,
        "executionStopTime": 1637880340781
      },
      "source": [
        "from maploc.osm.analysis import plot_sankey_hierarchy\n",
        "\n",
        "fig = plot_sankey_hierarchy(osm)\n",
        "fig.write_html('./data/nantes_hierarchy.html')"
      ],
      "execution_count": null,
      "outputs": []
    },
    {
      "cell_type": "code",
      "metadata": {
        "originalKey": "ee63b913-2e62-400a-9234-6c5d6f589a5a",
        "showInput": true,
        "customInput": null,
        "code_folding": [],
        "hidden_ranges": [],
        "collapsed": false,
        "requestMsgId": "ee63b913-2e62-400a-9234-6c5d6f589a5a",
        "executionStartTime": 1637878712738,
        "executionStopTime": 1637878715718
      },
      "source": [
        "from maploc.osm.viz import Colormap, plot_nodes\n",
        "colormap = Colormap()\n",
        "\n",
        "c = bbox.center+[100, -100]\n",
        "box = BoundaryBox(c-64, c+64)\n",
        "nodes, lines, areas = index.query(box)\n",
        "print(len(nodes), len(lines), len(areas))\n",
        "canvas = Canvas(box, 4)\n",
        "masks = render_raster_masks(nodes, lines, areas, canvas)\n",
        "raster = render_raster_map(masks)\n",
        "map_viz = colormap.apply(raster)\n",
        "plot_images([map_viz], dpi=200)\n",
        "plot_nodes(0, raster[2])"
      ],
      "execution_count": null,
      "outputs": []
    },
    {
      "cell_type": "code",
      "metadata": {
        "originalKey": "3475e19b-dc6c-4cea-8426-4e35738d2c1b",
        "showInput": true,
        "customInput": null,
        "code_folding": [],
        "hidden_ranges": [],
        "collapsed": false,
        "requestMsgId": "3475e19b-dc6c-4cea-8426-4e35738d2c1b",
        "executionStartTime": 1637872562468,
        "executionStopTime": 1637872568019
      },
      "source": [
        "from maploc.osm.parser import match_to_group, parse_area, Patterns\n",
        "c = 0\n",
        "for rel in osm.relations.values():\n",
        "    if rel.tags.get(\"type\") == \"multipolygon\":\n",
        "        label = parse_area(rel.tags)\n",
        "        if label is None:\n",
        "            print(label, rel.tags)\n",
        "            continue\n",
        "        group = match_to_group(label, Patterns.areas)\n",
        "        if group is None:\n",
        "            # print(\"No area group\", label)\n",
        "            group = match_to_group(label, Patterns.ways)\n",
        "        if group is None:            \n",
        "            print(\"No area or way group\", label)\n",
        "            continue\n",
        "        # print(group)\n",
        "        ret = multipolygon_from_relation(rel)\n",
        "        if ret is None:\n",
        "            continue\n",
        "        if group == \"building\":\n",
        "            continue\n",
        "        inners, outers = ret\n",
        "        xy = np.stack([n.xy for way in inners + outers for n in way])\n",
        "        box = BoundaryBox(xy.min(0), xy.max(0)) + 20\n",
        "        canvas = Canvas(box, ppm=2)\n",
        "        canvas.draw_multipolygon([[n.xy for n in way] for way in inners+outers])\n",
        "        plot_images([canvas.raster], titles=[group])\n",
        "        c+=1\n",
        "        if c > 100:\n",
        "            break"
      ],
      "execution_count": null,
      "outputs": []
    }
  ]
}
