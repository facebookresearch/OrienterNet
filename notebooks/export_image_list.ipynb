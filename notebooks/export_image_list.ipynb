{
  "metadata": {
    "dataExplorerConfig": {},
    "bento_stylesheets": {
      "bento/extensions/flow/main.css": true,
      "bento/extensions/kernel_selector/main.css": true,
      "bento/extensions/kernel_ui/main.css": true,
      "bento/extensions/new_kernel/main.css": true,
      "bento/extensions/system_usage/main.css": true,
      "bento/extensions/theme/main.css": true
    },
    "kernelspec": {
      "display_name": "maploc (local)",
      "language": "python",
      "name": "maploc_local",
      "metadata": {
        "is_prebuilt": false,
        "kernel_name": "maploc_local",
        "cinder_runtime": false
      }
    },
    "language_info": {
      "codemirror_mode": {
        "name": "ipython",
        "version": 3
      },
      "file_extension": ".py",
      "mimetype": "text/x-python",
      "name": "python",
      "nbconvert_exporter": "python",
      "pygments_lexer": "ipython3"
    },
    "last_server_session_id": "69b3c2ca-4700-478d-8a35-797d531b6dca",
    "last_kernel_id": "eaeefa24-0452-4a6e-b04a-646b1598300d",
    "last_base_url": "https://devvm5192.lla0.facebook.com:8090/",
    "last_msg_id": "af178f92-ce5321fdf1d418b34cb6819d_3075",
    "outputWidgetContext": {}
  },
  "nbformat": 4,
  "nbformat_minor": 2,
  "cells": [
    {
      "cell_type": "code",
      "metadata": {
        "collapsed": false,
        "originalKey": "065a28a8-aa84-44e6-a27c-e89ea37f6c92",
        "code_folding": [],
        "hidden_ranges": [],
        "requestMsgId": "065a28a8-aa84-44e6-a27c-e89ea37f6c92",
        "customOutput": null,
        "executionStartTime": 1657395674828,
        "executionStopTime": 1657395677183
      },
      "source": [
        "%load_ext autoreload\n",
        "%autoreload 2\n",
        "\n",
        "from pathlib import Path\n",
        "import sys\n",
        "import matplotlib.pyplot as plt\n",
        "import matplotlib as mpl\n",
        "import numpy as np\n",
        "sys.path.append('fbsource/fbcode/surreal/')\n",
        "from maploc.data import MapillaryDataModule\n",
        "from maploc.utils.viz_2d import plot_images, features_to_RGB, save_plot, add_text\n",
        "from maploc.utils.io import read_image\n",
        "plt.rcParams.update({'figure.max_open_warning': 0})"
      ],
      "execution_count": 6,
      "outputs": []
    },
    {
      "cell_type": "code",
      "metadata": {
        "originalKey": "753996c3-4a41-4f16-8c29-2dd9eb4440fe",
        "showInput": true,
        "customInput": null,
        "code_folding": [],
        "hidden_ranges": [],
        "collapsed": false,
        "requestMsgId": "753996c3-4a41-4f16-8c29-2dd9eb4440fe",
        "customOutput": null,
        "executionStartTime": 1657395229541,
        "executionStopTime": 1657395248819
      },
      "source": [
        "from mapillary.data_migration.tools.query_mapillary import run_query, sql_string_set, sql_int_set\n",
        "timeout = 300\n",
        "\n",
        "query = \"\"\"\n",
        "SHOW COLUMNS FROM mly_chunks_xdb_export\n",
        "\"\"\"\n",
        "query = \"\"\"\n",
        "SHOW COLUMNS FROM mly_images_xdb_export_signal_converted\n",
        "\"\"\"\n",
        "results = run_query(query, timeout)\n",
        "results"
      ],
      "execution_count": null,
      "outputs": []
    },
    {
      "cell_type": "code",
      "metadata": {
        "originalKey": "0870c880-47ba-40db-884f-01cf3ef31691",
        "showInput": true,
        "customInput": null,
        "code_folding": [],
        "hidden_ranges": [],
        "collapsed": false,
        "requestMsgId": "0870c880-47ba-40db-884f-01cf3ef31691",
        "customOutput": null,
        "executionStartTime": 1657401876836,
        "executionStopTime": 1657401876955
      },
      "source": [
        "import math\n",
        "from tqdm import tqdm\n",
        "from mapillary.data_migration.tools.query_mapillary import run_query, sql_string_set, sql_int_set\n",
        "timeout = 300\n",
        "\n",
        "def get_image_key2fbid(image_keys):\n",
        "    q = f\"\"\"\n",
        "    SELECT image_key, fbid\n",
        "    FROM mly_images_xdb_export_signal_converted AS image\n",
        "    WHERE\n",
        "        image.image_key in {sql_string_set(image_keys)}\n",
        "    GROUP BY image_key, fbid\n",
        "    \"\"\"\n",
        "    ret = run_query(q, timeout)\n",
        "    return {d[\"image_key\"]: d[\"fbid\"] for d in ret}\n",
        "\n",
        "def get_image_key2fbid_chunked(image_keys, chunk_size=25000):\n",
        "    out = {}\n",
        "    num_chunks = math.ceil(len(image_keys)/chunk_size)\n",
        "    for i in tqdm(range(num_chunks)):\n",
        "        out.update(get_image_key2fbid(image_keys[i*chunk_size:(i+1)*chunk_size]))\n",
        "    assert len(image_keys) == len(out), (len(image_keys), len(out))\n",
        "    return out"
      ],
      "execution_count": 138,
      "outputs": []
    },
    {
      "cell_type": "code",
      "metadata": {
        "originalKey": "d17977e9-5350-4e26-a879-96689624d1b4",
        "showInput": true,
        "customInput": null,
        "code_folding": [],
        "hidden_ranges": [],
        "collapsed": false,
        "requestMsgId": "d17977e9-5350-4e26-a879-96689624d1b4",
        "customOutput": null,
        "executionStartTime": 1657402808109,
        "executionStopTime": 1657402808256
      },
      "source": [
        "def strip_camera_suffix(s):\n",
        "    return s.rsplit(\"_\", 1)[0]"
      ],
      "execution_count": 158,
      "outputs": []
    },
    {
      "cell_type": "code",
      "metadata": {
        "originalKey": "5276d350-ff02-47a2-958b-591e673b85ae",
        "showInput": true,
        "customInput": null,
        "code_folding": [],
        "hidden_ranges": [],
        "collapsed": false,
        "requestMsgId": "5276d350-ff02-47a2-958b-591e673b85ae",
        "customOutput": null,
        "executionStartTime": 1657399176490,
        "executionStopTime": 1657399216724
      },
      "source": [
        "import json\n",
        "locations = [\"sanfrancisco_soma\", \"sanfrancisco_hayes\", \"amsterdam\", \"berlin\", \"lemans\", \"montrouge\", \"toulouse\", \"nantes\", \"vilnius\", \"avignon\", \"helsinki\", \"milan\", \"paris\", \"brussels\"]\n",
        "dumps = {}\n",
        "for scene in locations:\n",
        "    with open(f\"data/mapillary_dumps_v4/{scene}/outputs_per_sequence.json\", \"r\") as fid:\n",
        "        dumps[scene] = json.load(fid)\n",
        "\n",
        "all_image_keys = list({\n",
        "    strip_camera_suffix(k)\n",
        "    for dump in dumps.values()\n",
        "    for seq, per_seq in dump.items()\n",
        "    for k in per_seq[\"views\"]\n",
        "})\n",
        "\n",
        "key2fbid = get_image_key2fbid_chunked(all_image_keys)"
      ],
      "execution_count": 95,
      "outputs": []
    },
    {
      "cell_type": "code",
      "metadata": {
        "originalKey": "d9d6c1a6-4946-435c-b124-ba7fd100242f",
        "showInput": true,
        "customInput": null,
        "code_folding": [],
        "hidden_ranges": [],
        "collapsed": false,
        "requestMsgId": "d9d6c1a6-4946-435c-b124-ba7fd100242f",
        "customOutput": null,
        "executionStartTime": 1657402980493,
        "executionStopTime": 1657402982651
      },
      "source": [
        "import json\n",
        "split_path = Path(\"data/mapillary_dumps_v4/splits_mly14_from-v2.json\")\n",
        "with open(split_path, \"r\") as fid:\n",
        "    splits = json.load(fid)\n",
        "\n",
        "from collections import defaultdict\n",
        "scene_to_sequences = defaultdict(set)\n",
        "scene_to_image_id_keys = {}\n",
        "\n",
        "for split_name in [\"val\", \"train\"]:\n",
        "    print(f\"Working on {split_name}\")\n",
        "    scene_to_image_keys = defaultdict(list)\n",
        "    for scene, seq, key in splits[split_name]:\n",
        "        scene_to_image_keys[scene].append(key)\n",
        "        scene_to_sequences[scene].add(seq)\n",
        "    scene_to_image_id_keys[split_name] = {}\n",
        "    for scene, image_keys in scene_to_image_keys.items():\n",
        "        print(scene, len(image_keys))\n",
        "        ids_keys = [(key2fbid[strip_camera_suffix(k)], k) for k in image_keys]\n",
        "        scene_to_image_id_keys[split_name][scene] = ids_keys"
      ],
      "execution_count": 161,
      "outputs": []
    },
    {
      "cell_type": "code",
      "metadata": {
        "originalKey": "573f37bf-5192-4d1f-9523-aa75f20e33b7",
        "showInput": true,
        "customInput": null,
        "code_folding": [],
        "hidden_ranges": [],
        "collapsed": false,
        "requestMsgId": "573f37bf-5192-4d1f-9523-aa75f20e33b7",
        "customOutput": null,
        "executionStartTime": 1657403317171,
        "executionStopTime": 1657403326202
      },
      "source": [
        "from maploc.utils.io import write_json\n",
        "bbox_path = Path(\"data/mapillary_dumps_v4/bboxes.json\")\n",
        "with open(bbox_path, \"r\") as fid:\n",
        "    bbox_dict = json.load(fid)\n",
        "\n",
        "output = {}\n",
        "for scene in scene_to_sequences:\n",
        "    image_id_to_pano_offset = {\n",
        "        key2fbid[strip_camera_suffix(k)]: view.get(\"panorama_offset\", None)\n",
        "        for seq, per_seq in dumps[scene].items()\n",
        "        for k, view in per_seq[\"views\"].items()\n",
        "    }\n",
        "    output[scene] = {\n",
        "        \"sequences\": list(scene_to_sequences[scene]),\n",
        "        \"splits\": {\n",
        "            \"val\": scene_to_image_id_keys[\"val\"][scene],\n",
        "            \"train\": scene_to_image_id_keys[\"train\"][scene],\n",
        "        },\n",
        "        \"id_to_pano_offset\": image_id_to_pano_offset,\n",
        "        \"bbox_total_latlon\": bbox_dict[scene][\"total_latlon\"],\n",
        "        \"bbox_val_local\": bbox_dict[scene][\"val_local\"],\n",
        "        \"epsg\": bbox_dict[scene][\"epsg\"],\n",
        "    }\n",
        "write_json(Path(\"data/mapillary_dumps_v4/all_fbids.json\"), output)"
      ],
      "execution_count": 192,
      "outputs": []
    },
    {
      "cell_type": "code",
      "metadata": {
        "originalKey": "628bcb05-e934-4d65-b16f-8a4b17d6388d",
        "showInput": true,
        "customInput": null,
        "code_folding": [],
        "hidden_ranges": [],
        "collapsed": false,
        "requestMsgId": "628bcb05-e934-4d65-b16f-8a4b17d6388d",
        "customOutput": null,
        "executionStartTime": 1657403366111,
        "executionStopTime": 1657403367212
      },
      "source": [
        "!du -hs \"data/mapillary_dumps_v4/all_fbids.json\""
      ],
      "execution_count": 194,
      "outputs": []
    },
    {
      "cell_type": "markdown",
      "metadata": {
        "originalKey": "44628b9c-8dbd-43f7-84cc-54a75f66ce0f",
        "showInput": false,
        "customInput": null,
        "code_folding": [],
        "hidden_ranges": []
      },
      "source": [
        "# Check by querying the MLY API"
      ],
      "attachments": {}
    },
    {
      "cell_type": "code",
      "metadata": {
        "originalKey": "75f4c00b-bf1b-4d47-b7e1-9ae954430f42",
        "showInput": true,
        "customInput": null,
        "code_folding": [],
        "hidden_ranges": [],
        "collapsed": false,
        "requestMsgId": "75f4c00b-bf1b-4d47-b7e1-9ae954430f42",
        "customOutput": null,
        "executionStartTime": 1657404072593,
        "executionStopTime": 1657404072752
      },
      "source": [
        "image_id, key = output[\"paris\"][\"splits\"][\"val\"][100]"
      ],
      "execution_count": 208,
      "outputs": []
    },
    {
      "cell_type": "code",
      "metadata": {
        "originalKey": "2bd1917b-6fad-4adf-80a0-049e0f12d64d",
        "showInput": true,
        "customInput": null,
        "code_folding": [],
        "hidden_ranges": [],
        "collapsed": false,
        "requestMsgId": "2bd1917b-6fad-4adf-80a0-049e0f12d64d",
        "customOutput": null,
        "executionStartTime": 1657404074217,
        "executionStopTime": 1657404074965
      },
      "source": [
        "import requests\n",
        "from libfb.py.certpathpicker.cert_path_picker import get_client_credential_paths\n",
        "FWDPROXY_PORT = 8082\n",
        "FWDPROXY_HOSTNAME = \"https://fwdproxy\"\n",
        "FB_CA_BUNDLE = \"/var/facebook/rootcanal/ca.pem\"\n",
        "\n",
        "def get_request(url, params):\n",
        "    thrift_cert, thrift_key = get_client_credential_paths()\n",
        "    fwdproxy_url = f\"{FWDPROXY_HOSTNAME}:{FWDPROXY_PORT}\"\n",
        "    proxies = {\"http\": fwdproxy_url, \"https\": fwdproxy_url}\n",
        "    client_cert = (thrift_cert, thrift_key)\n",
        "    response = requests.get(\n",
        "        url, params=params, proxies=proxies, verify=FB_CA_BUNDLE, cert=client_cert\n",
        "    )\n",
        "    return response.json()\n",
        "\n",
        "token = \"TOKEN\"\n",
        "url = \"https://graph.mapillary.com/{}\"\n",
        "params = {\n",
        "    \"access_token\": token,\n",
        "    \"fields\": \"id,camera_parameters,camera_type,captured_at,compass_angle,geometry,computed_compass_angle,computed_geometry,computed_rotation,thumb_2048_url,thumb_original_url,sequence,sfm_cluster\",\n",
        "}\n",
        "\n",
        "ret = get_request(url.format(image_id), params)\n",
        "print(ret)\n",
        "sequence_id = ret[\"sequence\"]\n",
        "ret[\"thumb_2048_url\"]"
      ],
      "execution_count": 209,
      "outputs": []
    },
    {
      "cell_type": "code",
      "metadata": {
        "originalKey": "98f90532-37bf-42a5-8856-1460d37190ad",
        "showInput": true,
        "customInput": null,
        "code_folding": [],
        "hidden_ranges": [],
        "collapsed": false,
        "requestMsgId": "98f90532-37bf-42a5-8856-1460d37190ad",
        "customOutput": null,
        "executionStartTime": 1657404080194,
        "executionStopTime": 1657404080620
      },
      "source": [
        "plot_images([read_image(f\"data/mapillary_dumps_v4/paris/images/{key}.jpg\")])"
      ],
      "execution_count": null,
      "outputs": []
    },
    {
      "cell_type": "code",
      "metadata": {
        "originalKey": "43615ee3-f8ce-4c82-a4b8-aca2852f3c93",
        "showInput": true,
        "customInput": null,
        "code_folding": [],
        "hidden_ranges": [],
        "collapsed": false,
        "requestMsgId": "43615ee3-f8ce-4c82-a4b8-aca2852f3c93",
        "customOutput": null,
        "executionStartTime": 1657225630703,
        "executionStopTime": 1657225638162
      },
      "source": [
        "url = \"https://graph.mapillary.com/images\"\n",
        "params = {\n",
        "    \"access_token\": token,\n",
        "    \"sequence_ids\": sequence_id,\n",
        "    \"fields\": \"id\",\n",
        "}\n",
        "ret = get_request(url.format(image_id), params)\n",
        "image_ids_in_sequence = [d[\"id\"] for d in ret[\"data\"]]\n",
        "print(image_ids_in_sequence)"
      ],
      "execution_count": null,
      "outputs": []
    }
  ]
}
