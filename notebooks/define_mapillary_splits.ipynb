{
  "metadata": {
    "bento_stylesheets": {
      "bento/extensions/flow/main.css": true,
      "bento/extensions/kernel_selector/main.css": true,
      "bento/extensions/kernel_ui/main.css": true,
      "bento/extensions/new_kernel/main.css": true,
      "bento/extensions/system_usage/main.css": true,
      "bento/extensions/theme/main.css": true
    },
    "kernelspec": {
      "display_name": "maploc (local)",
      "language": "python",
      "name": "maploc_local",
      "metadata": {
        "is_prebuilt": false,
        "kernel_name": "maploc_local"
      }
    },
    "language_info": {
      "codemirror_mode": {
        "name": "ipython",
        "version": 3
      },
      "file_extension": ".py",
      "mimetype": "text/x-python",
      "name": "python",
      "nbconvert_exporter": "python",
      "pygments_lexer": "ipython3"
    },
    "last_server_session_id": "6717ab06-1f43-42e4-bfde-9bf1a7f42f2e",
    "last_kernel_id": "8ec0fae8-679d-420e-88ec-047280c4d8ac",
    "last_base_url": "https://devvm1417.cln0.facebook.com:8090/",
    "last_msg_id": "ec999c19-dd99b8c5fa6acd2cb8ab94ac_108",
    "outputWidgetContext": {}
  },
  "nbformat": 4,
  "nbformat_minor": 2,
  "cells": [
    {
      "cell_type": "markdown",
      "metadata": {
        "originalKey": "aee58323-60d3-417e-8c3e-522f75b60153",
        "showInput": true,
        "customInput": null,
        "code_folding": [],
        "hidden_ranges": []
      },
      "source": [
        "Split Mapillary data into training and validation areas."
      ],
      "attachments": {}
    },
    {
      "cell_type": "code",
      "metadata": {
        "collapsed": false,
        "originalKey": "d5700bfc-06ef-4140-8d0a-03b800eb783d",
        "code_folding": [],
        "hidden_ranges": [],
        "requestMsgId": "d5700bfc-06ef-4140-8d0a-03b800eb783d",
        "executionStartTime": 1639593358142,
        "executionStopTime": 1639593360294
      },
      "source": [
        "%load_ext autoreload\n",
        "%autoreload 2\n",
        "from pathlib import Path\n",
        "import numpy as np\n",
        "import matplotlib.pyplot as plt\n",
        "import matplotlib as mpl\n",
        "import json\n",
        "import sys\n",
        "sys.path.append('fbsource/fbcode/surreal/')\n",
        "from maploc.utils.geo import BoundaryBox\n",
        "from maploc.osm.tiling_v2 import TileManager"
      ],
      "execution_count": 3,
      "outputs": []
    },
    {
      "cell_type": "code",
      "metadata": {
        "originalKey": "67f74b0e-9bec-42f7-a509-c487bce96376",
        "showInput": true,
        "customInput": null,
        "code_folding": [],
        "hidden_ranges": [],
        "collapsed": false,
        "requestMsgId": "67f74b0e-9bec-42f7-a509-c487bce96376",
        "executionStartTime": 1637621664406,
        "executionStopTime": 1637621664741
      },
      "source": [
        "ls data/mapillary_dumps_v2"
      ],
      "execution_count": 2,
      "outputs": []
    },
    {
      "cell_type": "code",
      "metadata": {
        "originalKey": "517519f9-fc3a-4850-affe-2dc9fb027b7e",
        "showInput": true,
        "customInput": null,
        "code_folding": [],
        "hidden_ranges": [],
        "collapsed": false,
        "requestMsgId": "517519f9-fc3a-4850-affe-2dc9fb027b7e",
        "executionStartTime": 1639593361771,
        "executionStopTime": 1639593396210
      },
      "source": [
        "dump_root = Path(\"data/mapillary_dumps_v2\")\n",
        "# locations = [\"sanfrancisco_soma\", \"sanfrancisco_hayes\", \"amsterdam\", \"berlin\", \"lemans\", \"montrouge\", \"toulouse\", \"nantes\"]\n",
        "locations = [\"sanfrancisco_soma\", \"sanfrancisco_hayes\", \"amsterdam\", \"berlin\", \"lemans\", \"montrouge\", \"toulouse\", \"nantes\", \"vilnius\", \"avignon\", \"helsinki\", \"milan\"]\n",
        "tilers = {}\n",
        "dumps = {}\n",
        "for loc in locations:\n",
        "    tilers[loc] = TileManager.load(dump_root / loc / \"tiles.pkl\")\n",
        "    with open(dump_root / loc / \"outputs_per_sequence.json\", \"r\") as fp:\n",
        "        dumps[loc] = json.load(fp)"
      ],
      "execution_count": 4,
      "outputs": []
    },
    {
      "cell_type": "code",
      "metadata": {
        "originalKey": "84876edf-4a72-4420-8939-2b7fcb9821b3",
        "showInput": true,
        "customInput": null,
        "collapsed": false,
        "requestMsgId": "84876edf-4a72-4420-8939-2b7fcb9821b3",
        "executionStartTime": 1639593396394,
        "executionStopTime": 1639593399450,
        "code_folding": [],
        "hidden_ranges": []
      },
      "source": [
        "size = 80\n",
        "margin = 10\n",
        "target = 100\n",
        "max_train = 50000\n",
        "\n",
        "splits = {\n",
        "    \"train\": [],\n",
        "    \"val\": [],\n",
        "}\n",
        "for loc in locations:\n",
        "    views = {(loc, seq, n): v for seq, vs in dumps[loc].items() for n, v in vs[\"views\"].items()}\n",
        "    names = list(views.keys())\n",
        "    pos = np.array([views[n][\"t_c2w\"][:2] for n in names])\n",
        "    center = np.median(pos, 0)\n",
        "\n",
        "    bbox = BoundaryBox(center - size, center + size)\n",
        "    mask = bbox.contains(pos)\n",
        "    dist = np.abs(pos[mask] - center).max(-1)\n",
        "    thresh = np.sort(dist)[target]\n",
        "\n",
        "    bbox2 = BoundaryBox(center - thresh, center + thresh)\n",
        "    val = [names[i] for i in np.where(bbox2.contains(pos))[0]]\n",
        "    train = [names[i] for i in np.where(~(bbox2+margin).contains(pos))[0]]\n",
        "    if len(train) > max_train:\n",
        "        idxs = np.random.RandomState(0).choice(len(train), max_train)\n",
        "        train = [train[i] for i in idxs]\n",
        "\n",
        "    splits[\"train\"].extend(train)\n",
        "    splits[\"val\"].extend(val)\n",
        "    print(loc, len(val), len(train), thresh)\n",
        "len(splits[\"val\"]), len(splits[\"train\"])"
      ],
      "execution_count": 5,
      "outputs": []
    },
    {
      "cell_type": "code",
      "metadata": {
        "originalKey": "13aa2a90-44d5-412c-ad69-8fea47236ce8",
        "showInput": true,
        "customInput": null,
        "code_folding": [],
        "hidden_ranges": [],
        "collapsed": false,
        "requestMsgId": "13aa2a90-44d5-412c-ad69-8fea47236ce8",
        "executionStartTime": 1639593532269,
        "executionStopTime": 1639593546421
      },
      "source": [
        "for scene in locations:\n",
        "    loc_train, loc_val = [np.stack([dumps[sc][se][\"views\"][n][\"t_c2w\"][:2] for sc, se, n in splits[split] if sc == scene]) for split in [\"train\", \"val\"]]\n",
        "\n",
        "    plt.figure(dpi=150, figsize=(10, 4))\n",
        "    plt.subplot(121)\n",
        "    plt.scatter(*loc_train.T, c=\"blue\", s=1);\n",
        "    plt.scatter(*loc_val.T, c=\"r\", s=1);\n",
        "    plt.gca().set_aspect(\"equal\")\n",
        "    plt.ylabel(scene)\n",
        "\n",
        "    plt.subplot(122)\n",
        "    dist = np.linalg.norm(loc_val[None] - loc_train[:, None], axis=-1)\n",
        "    plt.hist(dist.min(0), bins=20);\n",
        "    print(scene, np.median(dist.min(0)), dist.min(0).min())"
      ],
      "execution_count": 7,
      "outputs": []
    },
    {
      "cell_type": "code",
      "metadata": {
        "originalKey": "f5966343-d4c7-4cc4-995d-9546eae57aed",
        "showInput": true,
        "customInput": null,
        "code_folding": [],
        "hidden_ranges": [],
        "collapsed": false,
        "requestMsgId": "f5966343-d4c7-4cc4-995d-9546eae57aed",
        "executionStartTime": 1637622061925,
        "executionStopTime": 1637622065869
      },
      "source": [
        "from maploc.utils.io import write_json\n",
        "split_path = dump_root / \"splits_mly12_100each.json\"\n",
        "write_json(split_path, splits)"
      ],
      "execution_count": 20,
      "outputs": []
    },
    {
      "cell_type": "code",
      "metadata": {
        "originalKey": "474b8f52-23fb-4b28-93a9-ab83d4d93caf",
        "showInput": true,
        "customInput": null,
        "collapsed": false,
        "requestMsgId": "474b8f52-23fb-4b28-93a9-ab83d4d93caf",
        "executionStartTime": 1637622070433,
        "executionStopTime": 1637622084463,
        "code_folding": [],
        "hidden_ranges": []
      },
      "source": [
        "!manifold put $split_path psarlin/tree/maploc/data/mapillary_v2/splits_mly12_100each.json"
      ],
      "execution_count": 21,
      "outputs": []
    }
  ]
}
