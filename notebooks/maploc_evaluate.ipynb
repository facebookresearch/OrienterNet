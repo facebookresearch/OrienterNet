{
  "metadata": {
    "bento_stylesheets": {
      "bento/extensions/flow/main.css": true,
      "bento/extensions/kernel_selector/main.css": true,
      "bento/extensions/kernel_ui/main.css": true,
      "bento/extensions/new_kernel/main.css": true,
      "bento/extensions/system_usage/main.css": true,
      "bento/extensions/theme/main.css": true
    },
    "kernelspec": {
      "display_name": "maploc (local)",
      "language": "python",
      "name": "maploc_local",
      "metadata": {
        "is_prebuilt": false,
        "kernel_name": "maploc_local"
      }
    },
    "language_info": {
      "codemirror_mode": {
        "name": "ipython",
        "version": 3
      },
      "file_extension": ".py",
      "mimetype": "text/x-python",
      "name": "python",
      "nbconvert_exporter": "python",
      "pygments_lexer": "ipython3"
    },
    "last_server_session_id": "3082c8d2-4cc5-4747-96ac-a4b1f3ee11c3",
    "last_kernel_id": "5c164949-1d0b-460d-8eaf-801526dca750",
    "last_base_url": "https://devvm1417.cln0.facebook.com:8090/",
    "last_msg_id": "adf39ce8-7d6967a9fa6223ec7b127d99_17",
    "outputWidgetContext": {}
  },
  "nbformat": 4,
  "nbformat_minor": 2,
  "cells": [
    {
      "cell_type": "code",
      "metadata": {
        "collapsed": false,
        "originalKey": "df7f9a23-c2c1-4bce-8cce-8c41ed35525a",
        "code_folding": [],
        "hidden_ranges": [],
        "requestMsgId": "df7f9a23-c2c1-4bce-8cce-8c41ed35525a",
        "executionStartTime": 1639595002752,
        "executionStopTime": 1639595007784
      },
      "source": [
        "%load_ext autoreload\n",
        "%autoreload 2\n",
        "\n",
        "import torch\n",
        "import yaml\n",
        "import sys\n",
        "from omegaconf import OmegaConf\n",
        "import matplotlib.pyplot as plt\n",
        "import matplotlib as mpl\n",
        "import numpy as np\n",
        "from pathlib import Path\n",
        "from pytorch_lightning import seed_everything\n",
        "sys.path.append('fbsource/fbcode/scripts/psarlin/')\n",
        "from maploc.data.loader_mapillary import MapillaryDataModule\n",
        "from maploc.module import GenericModule, find_best_checkpoint\n",
        "from maploc.test import evaluate_single_image, evaluate_sequential\n",
        "torch.set_grad_enabled(False);"
      ],
      "execution_count": 1,
      "outputs": []
    },
    {
      "cell_type": "markdown",
      "metadata": {
        "originalKey": "1b518242-1b6b-4cb4-bda6-54cd81eb470b",
        "showInput": false,
        "customInput": null,
        "code_folding": [],
        "hidden_ranges": [],
        "collapsed": false,
        "requestMsgId": "1b518242-1b6b-4cb4-bda6-54cd81eb470b",
        "executionStartTime": 1639598599157,
        "executionStopTime": 1639598599966
      },
      "source": [
        "## Setup dataset"
      ],
      "attachments": {}
    },
    {
      "cell_type": "code",
      "metadata": {
        "originalKey": "91a55b96-1082-47d7-a23e-d2293b8a0f15",
        "showInput": true,
        "customInput": null,
        "code_folding": [],
        "hidden_ranges": [],
        "collapsed": false,
        "requestMsgId": "91a55b96-1082-47d7-a23e-d2293b8a0f15",
        "executionStartTime": 1639595007934,
        "executionStopTime": 1639595082609
      },
      "source": [
        "conf = OmegaConf.load('fbsource/fbcode/scripts/psarlin/maploc/conf/data_mapillary.yaml')\n",
        "conf = OmegaConf.merge(conf, OmegaConf.create(yaml.full_load(\"\"\"\n",
        "local_dir: \"./data/mapillary_dumps_v2/\"\n",
        "# local_dir: \"./devvm1417.cln0.facebook.com/data/mapillary_dumps_v2/\"\n",
        "dump_dir: ${.local_dir}\n",
        "scenes:\n",
        "    - sanfrancisco_soma\n",
        "    - sanfrancisco_hayes\n",
        "    - amsterdam\n",
        "    - berlin\n",
        "    - lemans\n",
        "    - montrouge\n",
        "    - toulouse\n",
        "    - nantes\n",
        "    - vilnius\n",
        "    - avignon\n",
        "    - helsinki\n",
        "    - milan\n",
        "    # - newyork_hoboken\n",
        "    # - metropolis_train\n",
        "# split: None\n",
        "return_gps: true\n",
        "val: {batch_size: 1, num_workers: 3}\n",
        "train: ${.val}\n",
        "random: false\n",
        "augmentation: {rot90: false, flip: false}\n",
        "\"\"\")))\n",
        "if not Path(conf.local_dir).exists():\n",
        "    conf.local_dir = str(Path(\"devvm1417.cln0.facebook.com\", conf.local_dir))\n",
        "    assert Path(conf.local_dir).exists()\n",
        "OmegaConf.resolve(conf)\n",
        "dataset = MapillaryDataModule(conf)\n",
        "dataset.prepare_data()\n",
        "dataset.setup()\n",
        "scenes = \"mply12\" if len(dataset.cfg.scenes) == 12 else \"-\".join(dataset.cfg.scenes)\n",
        "results = {}"
      ],
      "execution_count": null,
      "outputs": []
    },
    {
      "cell_type": "markdown",
      "metadata": {
        "originalKey": "646506d4-3d38-4e9b-9702-78d7dd8c6110",
        "showInput": false,
        "customInput": null,
        "code_folding": [],
        "hidden_ranges": []
      },
      "source": [
        "## Setup model"
      ],
      "attachments": {}
    },
    {
      "cell_type": "code",
      "metadata": {
        "originalKey": "0fbddb5e-68ca-4749-b7a1-c7a4d6f07a29",
        "showInput": true,
        "customInput": null,
        "code_folding": [],
        "hidden_ranges": [],
        "collapsed": false,
        "requestMsgId": "0fbddb5e-68ca-4749-b7a1-c7a4d6f07a29",
        "executionStopTime": 1639553202581,
        "executionStartTime": 1639553162603
      },
      "source": [
        "# exper = \"basic-rotation-osm2-mly12-n100_rn18-vgg13_b9-resize256_d64_nrot32\"\n",
        "exper = \"bev1-osm2-mly12-n100_vgg16-vgg13_bs9-resize256_norm-d8-nrot64\"\n",
        "# exper = \"bev1-osm2-mly12-n100_vgg16-vgg13_bs10-resize256_attn-fix-2-2-128d_norm-d8-nrot64\"\n",
        "# exper = \"bev1-osm2-mly12-n100_vgg16-vgg13_bs6-resize256_attn-fix-2-2-128d_norm-d8-nrot64\"\n",
        "exper = \"bev1-osm2-mly12-n100_vgg16-vgg13-plane_bs9-resize256_norm-d8-nrot64\"\n",
        "exper = \"bev1-osm2-mly12-n100_vgg16-vgg13-plane_bs9-resize256_norm-d8-nrot64-prior\"\n",
        "\n",
        "root = \"manifold://psarlin/tree/maploc/experiments\"\n",
        "path = f'{root}/{exper}/last.ckpt'\n",
        "# path = find_best_checkpoint(f'{root}/{exper}')\n",
        "print(path)\n",
        "cfg = {}\n",
        "cfg = {'model': {\"num_rotations\": 128}}\n",
        "model = GenericModule.load_from_checkpoint(path, strict=True, find_best=True, cfg=cfg)\n",
        "model.eval()\n",
        "if torch.cuda.is_available():\n",
        "    model = model.cuda()\n",
        "exper += '_nrot128'"
      ],
      "execution_count": 3,
      "outputs": []
    },
    {
      "cell_type": "markdown",
      "metadata": {
        "originalKey": "3e2db7ef-4ab6-4292-9c8e-5a780e241e67",
        "showInput": false,
        "customInput": null,
        "code_folding": [],
        "hidden_ranges": []
      },
      "source": [
        "# Eval loop"
      ],
      "attachments": {}
    },
    {
      "cell_type": "code",
      "metadata": {
        "originalKey": "3f0d8321-1e15-48fb-98f8-a5656be7196f",
        "showInput": true,
        "customInput": null,
        "collapsed": false,
        "requestMsgId": "3f0d8321-1e15-48fb-98f8-a5656be7196f",
        "executionStartTime": 1639556564934,
        "executionStopTime": 1639557038432,
        "code_folding": [],
        "hidden_ranges": []
      },
      "source": [
        "thresholds = [1, 2, 5, 10]\n",
        "seed_everything(0)\n",
        "results[exper] = ret = evaluate_single_image(\n",
        "    dataset.dataloader(\"val\", shuffle=True), model, thresholds, fuse=\"rand\", num=3000)  # 5k NYC\n",
        "errors, recalls, aucs = ret\n",
        "# errors, recalls, recalls_per_index, aucs, aucs_per_index = evaluate_sequential(\n",
        "#     dataset.dataset(\"val\"), model, thresholds, num=75, max_length=100, min_length=1, max_dist=15, joint=True)\n",
        "# results[exper+\"_seq\"] = ret = (errors, recalls, aucs)\n",
        "\n",
        "print(scenes, exper)\n",
        "col_size = max(map(len, aucs))\n",
        "s = ' '*(col_size+1) + ' '.join(f'{t:>5}' for t in thresholds)\n",
        "for k, auc in aucs.items():\n",
        "    s += f'\\n{k:>{col_size}} '\n",
        "    s += ' '.join(f'{v:>5.2f}' for v in auc)\n",
        "print(s)\n",
        "\n",
        "plt.figure(dpi=150, figsize=(10, 4))\n",
        "plt.subplot(121)\n",
        "plt.plot(*recalls[\"xy_max_error\"], label=\"argmax\", c=\"k\")\n",
        "plt.plot(*recalls[\"xy_gps_error\"], label=\"gps\", c=\"b\")\n",
        "if \"xy_prior_error\" in recalls:\n",
        "    plt.plot(*recalls[\"xy_prior_error\"], label=\"rand\", c=\"r\")\n",
        "plt.plot(*recalls[\"xy_fused_error\"], label=\"fused\", c=\"g\")\n",
        "plt.xlim([0, 15]);\n",
        "plt.xlabel(\"Position error [m]\")\n",
        "plt.ylabel(\"Recall\")\n",
        "plt.legend();\n",
        "\n",
        "plt.subplot(122)\n",
        "plt.plot(*recalls[\"yaw_max_error\"], label=\"argmax\", c=\"k\")\n",
        "plt.plot(*recalls[\"yaw_fused_error\"], label=\"fused\", c=\"g\")\n",
        "plt.xlim([0, 10]);\n",
        "plt.xlabel(\"Orientation error [deg]\");"
      ],
      "execution_count": 8,
      "outputs": []
    },
    {
      "cell_type": "markdown",
      "metadata": {
        "originalKey": "237576a6-920c-42c5-b8d6-baa7bc519dbe",
        "showInput": false,
        "customInput": null,
        "code_folding": [],
        "hidden_ranges": []
      },
      "source": [
        "# Ablation"
      ],
      "attachments": {}
    },
    {
      "cell_type": "code",
      "metadata": {
        "originalKey": "b44527eb-3196-4136-8a9c-7a906373c2fd",
        "showInput": true,
        "customInput": null,
        "code_folding": [],
        "hidden_ranges": []
      },
      "source": [
        "exper_bev = \"bev1-osm2-mly12-n100_vgg16-vgg13-plane_bs9-resize256_norm-d8-nrot64-prior_nrot128\"\n",
        "exper_seq = \"bev1-osm2-mly12-n100_vgg16-vgg13-plane_bs9-resize256_norm-d8-nrot64-prior_nrot128_seq\"\n",
        "exper_nobev = \"basic-rotation-osm2-mly12-n100_rn18-vgg13_b9-resize256_d64_nrot32_nrot128\"\n",
        "\n",
        "lw = 3\n",
        "plt.figure(dpi=150, figsize=(10, 4))\n",
        "plt.subplot(121)\n",
        "plt.plot(*results[exper_bev][1][\"xy_max_error\"], label=\"single image\", c=\"k\", lw=lw)\n",
        "plt.plot(*results[exper_bev][1][\"xy_fused_error\"], label=\"single with prior\", c=\"r\", lw=lw)\n",
        "plt.plot(*results[exper_seq][1][\"xy_seq_error\"], label=\"sequence\", c=\"g\", lw=lw)\n",
        "plt.plot(*results[exper_nobev][1][\"xy_max_error\"], label=\"no geometry\", c=\"b\", lw=lw)\n",
        "plt.plot(*recalls[\"xy_prior_error\"], label=\"prior: gps+N(0, 15)\", c=\"r\", linestyle=\":\", lw=lw)\n",
        "plt.xlim([0, 10]);\n",
        "plt.xlabel(\"Position error [m]\")\n",
        "plt.ylabel(\"Recall\")\n",
        "plt.legend(loc=\"lower center\", ncol=2, bbox_to_anchor=(0.5, 1.));\n",
        "\n",
        "plt.subplot(122)\n",
        "plt.plot(*results[exper_bev][1][\"yaw_max_error\"], c=\"k\", lw=lw)\n",
        "plt.plot(*results[exper_bev][1][\"yaw_fused_error\"], c=\"r\", lw=lw)\n",
        "plt.plot(*results[exper_seq][1][\"yaw_seq_error\"], label=\"sequence\", c=\"g\", lw=lw)\n",
        "plt.plot(*results[exper_nobev][1][\"yaw_fused_error\"], label=\"no geometry\", c=\"b\", lw=lw)\n",
        "plt.xlim([0, 10]);\n",
        "plt.xlabel(\"Orientation error [deg]\");"
      ],
      "execution_count": null,
      "outputs": []
    },
    {
      "cell_type": "code",
      "metadata": {
        "originalKey": "4f334723-b386-40c4-bfe7-5c1630f3a2b9",
        "showInput": true,
        "customInput": null,
        "code_folding": [],
        "hidden_ranges": [],
        "collapsed": false,
        "requestMsgId": "4f334723-b386-40c4-bfe7-5c1630f3a2b9",
        "executionStartTime": 1639511676937,
        "executionStopTime": 1639511678076
      },
      "source": [
        ""
      ],
      "execution_count": 129,
      "outputs": []
    },
    {
      "cell_type": "markdown",
      "metadata": {
        "originalKey": "881bc3cb-f578-4819-8479-7f7de6f20660",
        "showInput": false,
        "customInput": null,
        "code_folding": [],
        "hidden_ranges": []
      },
      "source": [
        "# Sequential eval"
      ],
      "attachments": {}
    },
    {
      "cell_type": "code",
      "metadata": {
        "originalKey": "fbed7b11-13a4-4469-adda-237ce30eaf45",
        "showInput": true,
        "customInput": null
      },
      "source": [
        "exper_seq = \"bev1-osm2-mly12-n100_vgg16-vgg13-plane_bs9-resize256_norm-d8-nrot64-prior_nrot128_seq75\"\n",
        "\n",
        "lw = 3\n",
        "plt.figure(dpi=150, figsize=(10, 4))\n",
        "plt.subplot(121)\n",
        "plt.plot(*results[exper_seq][1][\"xy_max_error\"], label=\"single image\", c=\"g\", lw=lw)\n",
        "plt.plot(*results[exper_seq][1][\"xy_seq_error\"], label=\"sequence\", c=\"g\", lw=lw, linestyle=\"dashed\")\n",
        "plt.plot(*results[exper_seq][1][\"xy_gps_error\"], label=\"gps\", c=\"b\", lw=lw)\n",
        "plt.plot(*results[exper_seq][1][\"xy_gps_seq_error\"], label=\"gps sequence\", c=\"b\", lw=lw, linestyle=\"dashed\")\n",
        "plt.xlim([0, 10]);\n",
        "plt.xlabel(\"Position error [m]\")\n",
        "plt.ylabel(\"Recall\")\n",
        "plt.legend(loc=\"lower center\", ncol=2, bbox_to_anchor=(0.5, 1.));\n",
        "\n",
        "plt.subplot(122)\n",
        "plt.plot(*results[exper_seq][1][\"yaw_max_error\"], c=\"k\", lw=lw)\n",
        "plt.plot(*results[exper_seq][1][\"yaw_seq_error\"], label=\"sequence\", c=\"g\", lw=lw)\n",
        "plt.xlim([0, 10]);\n",
        "plt.xlabel(\"Orientation error [deg]\");"
      ],
      "execution_count": null,
      "outputs": []
    },
    {
      "cell_type": "code",
      "metadata": {
        "originalKey": "082ea7e4-90f0-4ef4-be24-b94b52d91941",
        "showInput": true,
        "customInput": null,
        "code_folding": [],
        "hidden_ranges": [],
        "collapsed": false,
        "requestMsgId": "082ea7e4-90f0-4ef4-be24-b94b52d91941",
        "executionStartTime": 1639512813265,
        "executionStopTime": 1639512814371
      },
      "source": [
        ""
      ],
      "execution_count": 148,
      "outputs": []
    },
    {
      "cell_type": "markdown",
      "metadata": {
        "originalKey": "7c3df78d-55f7-486f-8b28-10cdb32abb4a",
        "showInput": false,
        "customInput": null,
        "code_folding": [],
        "hidden_ranges": []
      },
      "source": [
        "## Model comparison"
      ],
      "attachments": {}
    },
    {
      "cell_type": "code",
      "metadata": {
        "originalKey": "153a06aa-6d99-44b6-9f83-2392acf8fcac",
        "showInput": true,
        "customInput": null,
        "code_folding": [],
        "hidden_ranges": [],
        "collapsed": false,
        "requestMsgId": "153a06aa-6d99-44b6-9f83-2392acf8fcac",
        "executionStartTime": 1639499621823,
        "executionStopTime": 1639499622805
      },
      "source": [
        "exps = {\n",
        "    \"prior rot=64\": (\"bev1-osm2-mly12-n100_vgg16-vgg13-plane_bs9-resize256_norm-d8-nrot64-prior_nrot64\", \"r\"),\n",
        "    \"prior rot=128\": (\"bev1-osm2-mly12-n100_vgg16-vgg13-plane_bs9-resize256_norm-d8-nrot64-prior_nrot128\", \"k\"),\n",
        "    \"prior rot=256\": (\"bev1-osm2-mly12-n100_vgg16-vgg13-plane_bs9-resize256_norm-d8-nrot64-prior_nrot256\", \"g\"),\n",
        "    \"noprior rot=128\": (\"bev1-osm2-mly12-n100_vgg16-vgg13-plane_bs9-resize256_norm-d8-nrot64_nrot128\", \"orange\"),\n",
        "}\n",
        "plt.figure(dpi=150, figsize=(10, 4))\n",
        "plt.subplot(121)\n",
        "plt.plot(*recalls[\"xy_prior_error\"], label=\"gps + N(0, 15)\", c=\"b\")\n",
        "for l, (e, c) in exps.items():\n",
        "    print(e)\n",
        "    plt.plot(*results[e][1][\"xy_max_error\"], label=l, c=c, lw=2)\n",
        "    plt.plot(*results[e][1][\"xy_fused_error\"], c=c, linestyle=\":\", lw=2)\n",
        "plt.xlim([0, 10]);\n",
        "plt.xlabel(\"Position error [m]\")\n",
        "plt.ylabel(\"Recall\")\n",
        "plt.legend();\n",
        "plt.subplot(122)\n",
        "for l, (e, c) in exps.items():\n",
        "    plt.plot(*results[e][1][\"yaw_max_error\"], c=c, lw=2)\n",
        "    plt.plot(*results[e][1][\"yaw_fused_error\"], c=c, linestyle=\":\", lw=2)\n",
        "plt.xlim([0, 10]);\n",
        "plt.xlabel(\"Orientation error [deg]\");"
      ],
      "execution_count": null,
      "outputs": []
    },
    {
      "cell_type": "markdown",
      "metadata": {
        "originalKey": "700ee691-6a8f-42f1-9831-8bab2602591f",
        "showInput": false,
        "customInput": null,
        "code_folding": [],
        "hidden_ranges": []
      },
      "source": [
        "# Sequential ablation"
      ],
      "attachments": {}
    },
    {
      "cell_type": "code",
      "metadata": {
        "originalKey": "e33c0346-d151-46cb-92c6-c0307da53e89",
        "showInput": true,
        "customInput": null,
        "code_folding": [],
        "hidden_ranges": [],
        "collapsed": false,
        "requestMsgId": "e33c0346-d151-46cb-92c6-c0307da53e89",
        "executionStartTime": 1639560822465,
        "executionStopTime": 1639560822470
      },
      "source": [
        "thresholds = [1, 2, 5, 10]\n",
        "dset = dataset.dataset(\"val\")\n",
        "errors, recalls, recalls_per_index, aucs, aucs_per_index = evaluate_sequential(\n",
        "    dset, model, thresholds, num=200, max_length=10, min_length=10, max_dist=15)"
      ],
      "execution_count": 32,
      "outputs": []
    },
    {
      "cell_type": "code",
      "metadata": {
        "originalKey": "a1260b39-0669-4803-8aff-90e05301f4c2",
        "showInput": true,
        "customInput": null
      },
      "source": [
        "def plot_recalls_seq(recalls_seq):\n",
        "    # for i, r in recalls_seq.items():\n",
        "    for i in [0, 1, 3, 7, 11, 15, 23]:\n",
        "        r = recalls_seq[i]\n",
        "        # if i == 0:\n",
        "        #     continue\n",
        "        idx = i + 1\n",
        "        plt.plot(*r, label=f\"length={idx}\", c=mpl.cm.winter(np.log(1+idx)/np.log(max(recalls_seq)+1)), lw=lw)\n",
        "\n",
        "print(scenes, exper)\n",
        "lw = 2\n",
        "plt.figure(dpi=150, figsize=(10, 4))\n",
        "plt.subplot(121)\n",
        "# plt.plot(*recalls[\"xy_gps_error\"], label=\"gps\", c=\"b\", lw=lw)\n",
        "# plt.plot(*recalls[\"xy_max_error\"], label=\"single\", c=\"k\", lw=lw)\n",
        "plot_recalls_seq(recalls_per_index[\"xy_seq_error\"])\n",
        "plt.xlim([0, 10]);\n",
        "plt.xlabel(\"Position error [m]\")\n",
        "plt.ylabel(\"Recall\")\n",
        "plt.gca().minorticks_on()\n",
        "plt.gca().xaxis.set_minor_locator(mpl.ticker.MultipleLocator(1))\n",
        "plt.gca().tick_params(axis='x', which='minor', bottom=True)\n",
        "plt.legend()\n",
        "plt.legend(ncol=1, bbox_to_anchor=(-0.2, 0.5), loc='center right');\n",
        "\n",
        "plt.subplot(122)\n",
        "# plt.plot(*recalls[\"yaw_max_error\"], label=\"single\", c=\"k\", lw=lw)\n",
        "plot_recalls_seq(recalls_per_index[\"yaw_seq_error\"])\n",
        "plt.xlim([0, 10]);\n",
        "plt.xlabel(\"Orientation error [deg]\");"
      ],
      "execution_count": null,
      "outputs": []
    },
    {
      "cell_type": "code",
      "metadata": {
        "originalKey": "9d6d0b92-62c9-43db-8dfa-d57ffb010380",
        "showInput": true,
        "customInput": null,
        "collapsed": false,
        "requestMsgId": "9d6d0b92-62c9-43db-8dfa-d57ffb010380",
        "executionStartTime": 1639560200484,
        "executionStopTime": 1639560201648,
        "code_folding": [],
        "hidden_ranges": []
      },
      "source": [
        ""
      ],
      "execution_count": 31,
      "outputs": []
    },
    {
      "cell_type": "code",
      "metadata": {
        "originalKey": "d08419be-fb6c-4575-bed4-10d98a0d0ffa",
        "showInput": true,
        "customInput": null,
        "collapsed": false,
        "requestMsgId": "d08419be-fb6c-4575-bed4-10d98a0d0ffa",
        "executionStartTime": 1638536614084,
        "executionStopTime": 1638536614377
      },
      "source": [
        "seq_labels = [f\"xy seq {i}\" for i in aucs_per_index[\"xy_seq_error\"]]\n",
        "col_size = max(map(len, list(aucs)+seq_labels))\n",
        "s = ' '*(col_size+1) + ' '.join(f'{t:>5}' for t in thresholds)\n",
        "for k in [\"xy_gps_error\", \"xy_max_error\"]:\n",
        "    s += f'\\n{k:>{col_size}} '\n",
        "    s += ' '.join(f'{v:>5.2f}' for v in aucs[k])\n",
        "for k, auc in zip(seq_labels, aucs_per_index[\"xy_seq_error\"].values()):\n",
        "    s += f'\\n{k:>{col_size}} '\n",
        "    s += ' '.join(f'{v:>5.2f}' for v in auc)\n",
        "print(s)"
      ],
      "execution_count": null,
      "outputs": []
    },
    {
      "cell_type": "code",
      "metadata": {
        "originalKey": "4d9e8276-467c-45f2-9cf3-957e421c402f",
        "showInput": true,
        "customInput": null,
        "collapsed": false,
        "requestMsgId": "4d9e8276-467c-45f2-9cf3-957e421c402f",
        "executionStartTime": 1638558763654,
        "executionStopTime": 1638558765124,
        "code_folding": [],
        "hidden_ranges": []
      },
      "source": [
        "ths = [1, 2, 5]\n",
        "print(scenes, exper)\n",
        "plt.figure(dpi=100, figsize=(12, 4))\n",
        "for i, th in enumerate(ths):\n",
        "    plt.subplot(131+i)\n",
        "    th_index = thresholds.index(th)\n",
        "    values =  [auc[th_index] for auc in aucs_per_index[\"xy_seq_error\"].values()]\n",
        "    lengths = np.array(list(aucs_per_index[\"xy_seq_error\"].keys()))+1\n",
        "    plt.bar(lengths, values, label=\"sequential\");\n",
        "    plt.axhline(y=aucs[\"xy_gps_error\"][th_index], color='r', linestyle='-', zorder=1, label=\"gps\")\n",
        "    plt.axhline(y=aucs[\"xy_max_error\"][th_index], color='k', linestyle='-', zorder=1, label=\"single\")\n",
        "    plt.xlabel('Sequence index')\n",
        "    plt.ylabel(f'AUC @ {th}m')\n",
        "    plt.xticks(lengths);\n",
        "plt.subplot(131)\n",
        "plt.legend(ncol=3, bbox_to_anchor=(0.5, 1.0), loc='lower center');"
      ],
      "execution_count": 292,
      "outputs": []
    },
    {
      "cell_type": "code",
      "metadata": {
        "originalKey": "59a55493-1b66-4291-bd04-ab4b7f48fb8a",
        "showInput": true,
        "customInput": null,
        "collapsed": false,
        "requestMsgId": "59a55493-1b66-4291-bd04-ab4b7f48fb8a",
        "executionStartTime": 1639558042529,
        "executionStopTime": 1639558044400
      },
      "source": [
        "counts = {i: len(r[0])-1 for i, r in recalls_per_index[\"xy_seq_error\"].items()}\n",
        "counts = np.array([counts[i] for i in range(max(counts)+1)])\n",
        "lengths = np.arange(len(counts))+1\n",
        "plt.bar(lengths, counts)\n",
        "plt.xlabel('Sequence index')\n",
        "plt.ylabel('Image count')\n",
        "plt.xticks(lengths);"
      ],
      "execution_count": 12,
      "outputs": []
    }
  ]
}
