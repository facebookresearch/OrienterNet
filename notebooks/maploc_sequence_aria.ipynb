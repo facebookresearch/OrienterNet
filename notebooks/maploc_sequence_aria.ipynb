{
  "metadata": {
    "bento_stylesheets": {
      "bento/extensions/flow/main.css": true,
      "bento/extensions/kernel_selector/main.css": true,
      "bento/extensions/kernel_ui/main.css": true,
      "bento/extensions/new_kernel/main.css": true,
      "bento/extensions/system_usage/main.css": true,
      "bento/extensions/theme/main.css": true
    },
    "kernelspec": {
      "display_name": "maploc (local)",
      "language": "python",
      "name": "maploc_local",
      "metadata": {
        "is_prebuilt": false,
        "kernel_name": "maploc_local"
      }
    },
    "language_info": {
      "codemirror_mode": {
        "name": "ipython",
        "version": 3
      },
      "file_extension": ".py",
      "mimetype": "text/x-python",
      "name": "python",
      "nbconvert_exporter": "python",
      "pygments_lexer": "ipython3"
    },
    "last_server_session_id": "ebaa978e-8b19-4646-82b1-2346b414e134",
    "last_kernel_id": "a7dc373d-e78c-4d7d-8c27-152bb76f4ffa",
    "last_base_url": "https://devvm1417.cln0.facebook.com:8090/",
    "last_msg_id": "eabd7652-13803001d0874c78597578c4_531",
    "outputWidgetContext": {}
  },
  "nbformat": 4,
  "nbformat_minor": 2,
  "cells": [
    {
      "cell_type": "code",
      "metadata": {
        "collapsed": false,
        "originalKey": "6261976e-dd71-4d17-8aa9-4d660a77f44a",
        "requestMsgId": "6261976e-dd71-4d17-8aa9-4d660a77f44a",
        "executionStartTime": 1639568165743,
        "executionStopTime": 1639568168975,
        "code_folding": [],
        "hidden_ranges": []
      },
      "source": [
        "%load_ext autoreload\n",
        "%autoreload 2\n",
        "import torch\n",
        "import yaml\n",
        "import sys\n",
        "from omegaconf import OmegaConf\n",
        "import matplotlib.pyplot as plt\n",
        "import matplotlib as mpl\n",
        "import numpy as np\n",
        "sys.path.append('fbsource/fbcode/scripts/psarlin/')\n",
        "from maploc.data.loader_mapillary import MapillaryDataModule\n",
        "from maploc.train import GenericModule\n",
        "from maploc.utils.viz_2d import plot_images, plot_keypoints, features_to_RGB, save_plot, add_text\n",
        "from maploc.utils.viz_localization import likelihood_overlay, plot_pose, plot_dense_rotations\n",
        "from maploc.osm.viz import Colormap, plot_nodes\n",
        "from maploc.data.collate import collate\n",
        "from maploc.utils.geo import BoundaryBox, Projection\n",
        "torch.set_grad_enabled(False);\n",
        "plt.rcParams.update({'figure.max_open_warning': 0})"
      ],
      "execution_count": 1,
      "outputs": []
    },
    {
      "cell_type": "markdown",
      "metadata": {
        "originalKey": "1ac4432d-8d4a-4971-ba30-324a26968d91",
        "showInput": false,
        "customInput": null,
        "code_folding": [],
        "hidden_ranges": [],
        "collapsed": false,
        "requestMsgId": "1ac4432d-8d4a-4971-ba30-324a26968d91",
        "executionStartTime": 1639602622459,
        "executionStopTime": 1639602622663
      },
      "source": [
        "# Load model"
      ],
      "attachments": {}
    },
    {
      "cell_type": "code",
      "metadata": {
        "originalKey": "dd5469b2-9f57-4556-94fc-ad08a86e670a",
        "showInput": true,
        "customInput": null,
        "collapsed": false,
        "requestMsgId": "dd5469b2-9f57-4556-94fc-ad08a86e670a",
        "executionStartTime": 1639568211607,
        "executionStopTime": 1639568225784,
        "code_folding": [],
        "hidden_ranges": []
      },
      "source": [
        "ckpt = 'manifold://psarlin/tree/maploc/experiments/{}/last.ckpt'\n",
        "exper = \"bev1-osm2-mly12-n100_vgg16-vgg13_bs9-resize256_norm-d8-nrot64\"\n",
        "exper = \"bev1-osm2-mly12-n100_vgg16-vgg13-plane_bs9-resize256_norm-d8-nrot64\"\n",
        "cfg = {}\n",
        "cfg = {'model': {\"num_rotations\": 128}}\n",
        "\n",
        "path = ckpt.format(exper)\n",
        "print(path)\n",
        "model = GenericModule.load_from_checkpoint(path, strict=True, find_best=True, cfg=cfg)\n",
        "model.eval();"
      ],
      "execution_count": 3,
      "outputs": []
    },
    {
      "cell_type": "markdown",
      "metadata": {
        "originalKey": "b0bc63af-a48c-4865-90d9-8218edbd3ec2",
        "showInput": false,
        "customInput": null,
        "code_folding": [],
        "hidden_ranges": []
      },
      "source": [
        "# Load dataset, parse sequences"
      ],
      "attachments": {}
    },
    {
      "cell_type": "code",
      "metadata": {
        "originalKey": "be6633c9-cc6c-40d5-b800-dcab34ceff3f",
        "showInput": true,
        "customInput": null,
        "code_folding": [],
        "hidden_ranges": []
      },
      "source": [
        "conf = OmegaConf.load('fbsource/fbcode/scripts/psarlin/maploc/conf/data_mapillary.yaml')\n",
        "conf = OmegaConf.merge(conf, OmegaConf.create(yaml.full_load(\"\"\"\n",
        "local_dir: \"./data/aria_dumps/\"\n",
        "dump_dir: ${.local_dir}\n",
        "scenes:\n",
        "    # - reloc_seattle_downtown\n",
        "    - reloc_detroit_greektown\n",
        "    # - reloc_detroit_gcp\n",
        "tiles_filename: tiles.pkl\n",
        "max_init_error: 0\n",
        "init_from_gps: true\n",
        "return_gps: true\n",
        "val: {batch_size: 1, num_workers: 1}\n",
        "train: ${.val}\n",
        "random: false\n",
        "augmentation: {rot90: false, flip: false}\n",
        "\"\"\")))\n",
        "OmegaConf.resolve(conf)\n",
        "datamodule = MapillaryDataModule(conf)\n",
        "datamodule.prepare_data()\n",
        "datamodule.setup()\n",
        "dataset = datamodule.dataset(\"val\")\n",
        "colormap = Colormap()\n",
        "name2idx = dict(zip(dataset.names, range(len(dataset.names))))\n",
        "is_gt_absolute = False"
      ],
      "execution_count": null,
      "outputs": []
    },
    {
      "cell_type": "code",
      "metadata": {
        "originalKey": "1fb88b9e-4c89-4e94-aa00-619879074b00",
        "showInput": true,
        "customInput": null,
        "code_folding": [],
        "hidden_ranges": [],
        "collapsed": false,
        "requestMsgId": "1fb88b9e-4c89-4e94-aa00-619879074b00",
        "executionStartTime": 1639568268902,
        "executionStopTime": 1639568269388
      },
      "source": [
        "from maploc.data.sequential import unpack_batches, extract_sequences\n",
        "scene = dataset.cfg.scenes[0]\n",
        "chunks = extract_sequences(dataset, scenes=[scene], min_length=1, split_cam=False)[scene]\n",
        "\n",
        "seq_key = list(chunks)[2]\n",
        "chunk_idx = 1\n",
        "seq = chunks[seq_key][chunk_idx]\n",
        "print(seq_key, len(seq))\n",
        "seq = seq[::2]\n",
        "plot_images([dataset[name2idx[(scene, seq_key, seq[0])]][\"image\"].permute(1, 2, 0)])"
      ],
      "execution_count": null,
      "outputs": []
    },
    {
      "cell_type": "markdown",
      "metadata": {
        "originalKey": "ecddb41a-a9c5-4828-a888-079e31e0e5ca",
        "showInput": false,
        "customInput": null,
        "code_folding": [],
        "hidden_ranges": []
      },
      "source": [
        "# Inference"
      ],
      "attachments": {}
    },
    {
      "cell_type": "code",
      "metadata": {
        "originalKey": "cc069bea-f977-4f1d-bbab-2eb5e8a02b22",
        "showInput": true,
        "customInput": null,
        "collapsed": false,
        "requestMsgId": "cc069bea-f977-4f1d-bbab-2eb5e8a02b22",
        "executionStartTime": 1639568288490,
        "executionStopTime": 1639568288492,
        "code_folding": [],
        "hidden_ranges": []
      },
      "source": [
        "%%time\n",
        "batches = [dataset[name2idx[(scene, seq_key, n)]] for n in seq]\n",
        "preds = [model(collate([b])) for b in batches]\n",
        "uvt_p = [p[\"xyr_max\"][0] for p in preds]\n",
        "logprobs = [p[\"log_probs\"][0] for p in preds]\n",
        "images, canvas, maps, yaws_gt, uv_gt, xy_gt, xy_gps = unpack_batches(batches)\n",
        "maps = list(map(colormap.apply, maps))\n",
        "\n",
        "plot_images(images, dpi=75)\n",
        "plot_images(maps, dpi=75, titles=[f'{y:.2f}' for y in yaws_gt])\n",
        "if is_gt_absolute:\n",
        "    [plot_pose([i], uv, t, s=1/45, c=\"green\", w=0.015) for i, (uv, t) in enumerate(zip(uv_gt, yaws_gt))];\n",
        "[plot_pose([i], c.to_uv(xy), s=1/45, c=\"b\", w=0.015) for i, (c, xy) in enumerate(zip(canvas, xy_gps))];\n",
        "[plot_pose([i], uvt[:2], uvt[2], s=1/45, c=\"k\", w=0.015) for i, uvt in enumerate(uvt_p)];\n",
        "plot_images([lp.max(-1).values for lp in logprobs], cmaps=\"jet\")\n",
        "[plot_dense_rotations(i, lp.exp(), s=1/15) for i, lp in enumerate(logprobs)];"
      ],
      "execution_count": 11,
      "outputs": []
    },
    {
      "cell_type": "code",
      "metadata": {
        "originalKey": "6119b000-3e7c-4add-8fe3-aa4eaae42bda",
        "showInput": true,
        "customInput": null,
        "collapsed": false,
        "requestMsgId": "6119b000-3e7c-4add-8fe3-aa4eaae42bda",
        "executionStartTime": 1639567447988,
        "executionStopTime": 1639582874846,
        "code_folding": [],
        "hidden_ranges": []
      },
      "source": [
        "%%time\n",
        "from maploc.models.sequential import rigid_alignment\n",
        "from maploc.models.hough_voting import log_softmax_spatial\n",
        "belief_align, uvt_seq, priors, _ = rigid_alignment(logprobs, canvas, xy_gt, yaws_gt, num_rotations=256, return_priors=True)\n",
        "beliefs = log_softmax_spatial(torch.stack(priors).cumsum(0))\n",
        "plot_images(beliefs.max(-1).values, cmaps=\"jet\")"
      ],
      "execution_count": 12,
      "outputs": []
    },
    {
      "cell_type": "code",
      "metadata": {
        "originalKey": "6ef65ae8-3907-4ddf-9637-51ed3b7a9d0c",
        "showInput": true,
        "customInput": null,
        "code_folding": [],
        "hidden_ranges": [],
        "collapsed": false,
        "requestMsgId": "6ef65ae8-3907-4ddf-9637-51ed3b7a9d0c",
        "executionStartTime": 1639582874855,
        "executionStopTime": 1639582875204
      },
      "source": [
        "%%time\n",
        "from maploc.models.sequential import gps_alignment\n",
        "accuracy_gps = torch.stack([b[\"accuracy_gps\"] for b in batches])\n",
        "belief_align_gps, xy_seq_gps, uvt_align_gps, xy_align_gps = gps_alignment(\n",
        "    xy_gps, accuracy_gps, canvas, xy_gt, yaws_gt, num_rotations=512)\n",
        "plot_images([belief_align_gps.max(-1).values, belief_align_gps.max(-1).values.exp()], cmaps=\"jet\")"
      ],
      "execution_count": null,
      "outputs": []
    },
    {
      "cell_type": "markdown",
      "metadata": {
        "originalKey": "05047034-af56-4e78-8f1f-73da1926bb1e",
        "showInput": false,
        "customInput": null,
        "code_folding": [],
        "hidden_ranges": []
      },
      "source": [
        "### Visualization"
      ],
      "attachments": {}
    },
    {
      "cell_type": "code",
      "metadata": {
        "originalKey": "73085385-b5e6-46f7-be60-ba5e007a6cf7",
        "showInput": true,
        "customInput": null,
        "collapsed": false,
        "requestMsgId": "73085385-b5e6-46f7-be60-ba5e007a6cf7",
        "executionStartTime": 1639582875210,
        "executionStopTime": 1639582890829,
        "code_folding": [],
        "hidden_ranges": []
      },
      "source": [
        "plot_images(images, dpi=75)\n",
        "\n",
        "plot_images([likelihood_overlay(b.max(-1).values.exp().numpy(), m) for m, b in zip(maps, beliefs)], cmaps=\"jet\")\n",
        "if is_gt_absolute:\n",
        "    [plot_pose([i], uv, y, s=1/35, c=\"g\", w=0.015) for i, (uv, y) in enumerate(zip(uv_gt, yaws_gt))];\n",
        "[plot_pose([i], uvt[:2], uvt[2], s=1/35, c=\"k\", w=0.015) for i, uvt in enumerate(uvt_p)];\n",
        "[plot_pose([i], uvt[:2], uvt[2], s=1/35, c=\"r\", w=0.015) for i, uvt in enumerate(uvt_seq)];\n",
        "\n",
        "plot_images([lp.max(-1).values for lp in logprobs], cmaps=\"jet\")\n",
        "[plot_dense_rotations(i, lp.exp(), s=1/15) for i, lp in enumerate(logprobs)];\n",
        "\n",
        "plot_images([b.max(-1).values for b in beliefs], cmaps=\"jet\")\n",
        "[plot_dense_rotations(i, b.exp(), s=1/15) for i, b in enumerate(beliefs)];"
      ],
      "execution_count": 14,
      "outputs": []
    },
    {
      "cell_type": "markdown",
      "metadata": {
        "originalKey": "e52d4e39-7be3-4559-a388-2c2d60c4ed9f",
        "showInput": false,
        "customInput": null,
        "code_folding": [],
        "hidden_ranges": []
      },
      "source": [
        "# Animation"
      ],
      "attachments": {}
    },
    {
      "cell_type": "code",
      "metadata": {
        "originalKey": "1f579dc6-30f1-4e84-b021-74da1428fa5b",
        "showInput": true,
        "customInput": null,
        "code_folding": [],
        "hidden_ranges": [],
        "collapsed": false,
        "requestMsgId": "1f579dc6-30f1-4e84-b021-74da1428fa5b",
        "executionStartTime": 1639583371209,
        "executionStopTime": 1639583408386
      },
      "source": [
        "from maploc.models.utils import make_grid\n",
        "\n",
        "if is_gt_absolute:\n",
        "    bounds = (xy_gt.numpy().min(0), xy_gt.numpy().max(0))\n",
        "else:\n",
        "    bounds = (xy_gps.numpy().min(0), xy_gps.numpy().max(0))\n",
        "bbox_total = BoundaryBox(*bounds) + dataset.cfg.crop_size_meters\n",
        "tile_total = dataset.tile_managers[scene].query(bbox_total)\n",
        "map_total = colormap.apply(tile_total.raster)\n",
        "uv_gt_total = tile_total.to_uv(xy_gt.numpy())\n",
        "uv_total = tile_total.to_uv([c.to_xy(uvt[:2].numpy()) for c, uvt in zip(canvas, uvt_p)])\n",
        "uv_seq_total = tile_total.to_uv([c.to_xy(uvt[:2].numpy()) for c, uvt in zip(canvas, uvt_seq)])\n",
        "uv_gps = tile_total.to_uv(xy_gps.numpy())\n",
        "uv_seq_gps = tile_total.to_uv(xy_seq_gps.numpy())\n",
        "xy_grid_total = tile_total.to_xy(make_grid(tile_total.w, tile_total.h))\n",
        "\n",
        "def remap_to_tile(xy_grid_total, canvas, log_probs):\n",
        "    uv_grid_i = canvas.bbox.normalize(xy_grid_total).float() * 2 - 1\n",
        "    uv_grid_i[..., 1] *= -1\n",
        "    lp_total = torch.nn.functional.grid_sample(log_probs[None, None], uv_grid_i[None])[0, 0]\n",
        "    valid = torch.nn.functional.grid_sample(torch.ones_like(lp_total)[None, None], uv_grid_i[None])[0, 0] == 1.\n",
        "    lp_total.masked_fill_(~valid | lp_total.isnan(), -np.inf);\n",
        "    return lp_total\n",
        "\n",
        "def get_log_probs(idx):\n",
        "    lp = logprobs[idx].max(-1).values\n",
        "    # lp = beliefs[idx].max(-1).values\n",
        "    return lp\n",
        "\n",
        "def get_overlay(idx):\n",
        "    lp = get_log_probs(idx)\n",
        "    lp_total = remap_to_tile(xy_grid_total, canvas[idx], lp)\n",
        "    p = lp_total.exp().numpy()**(1/3)\n",
        "    p = p / p.max()\n",
        "    ov = mpl.cm.jet(p)\n",
        "    ov[..., -1] = np.where(p > 0.01, p**0.3, 0)\n",
        "    return ov\n",
        "\n",
        "def get_text(idx):\n",
        "    return \"\"\n",
        "\n",
        "plot_images([images[0], map_total, map_total])\n",
        "plot_nodes(1, tile_total.raster[2])\n",
        "axes = plt.gcf().axes\n",
        "axes[2].plot(*uv_gps.T, marker='o', ms=4, lw=1, c=\"blue\", label=\"GPS\");\n",
        "axes[2].plot(*uv_seq_gps.T, marker='o', ms=4, lw=1, c=\"orange\", label=\"GPS seq\");\n",
        "if is_gt_absolute:\n",
        "    axes[2].plot(*uv_gt_total.T, marker='o', ms=4, lw=1, c=\"green\", label=\"GT\");\n",
        "axes[2].plot(*uv_total.T, marker='o', ms=4, lw=1, c=\"k\", label=\"single\", alpha=0.5);\n",
        "axes[2].plot(*uv_seq_total.T, marker='o', ms=4, lw=1, c=\"r\", label=\"sequential\");\n",
        "plt.legend(loc=\"lower right\")\n",
        "\n",
        "idx = 0\n",
        "axes[0].images[-1].set_data(images[idx])\n",
        "ax = axes[1]\n",
        "ax.scatter(*(uv_gt_total if is_gt_absolute else uv_seq_total)[idx], s=32, c=\"lime\", zorder=9, edgecolors=\"k\");\n",
        "ax.imshow(get_overlay(idx), zorder=10);\n",
        "# ax.text(0.01, 0.99, get_text(idx), ha=\"left\", va=\"top\", fontsize=20, c=\"k\", transform=ax.transAxes);\n",
        "add_text(1, get_text(idx), (0.01, 0.99), fs=16, zorder=11);\n",
        "\n",
        "def animate(idx):\n",
        "    if idx is None:\n",
        "        return\n",
        "    ax.images[-1].set_data(get_overlay(idx))\n",
        "    ax.collections[-1].set_offsets((uv_gt_total if is_gt_absolute else uv_seq_total)[idx])\n",
        "    axes[0].images[-1].set_data(images[idx])\n",
        "    ax.texts[-1].set_text(get_text(idx))\n",
        "\n",
        "from IPython.display import Image\n",
        "from matplotlib import animation\n",
        "anim = animation.FuncAnimation(plt.gcf(), animate, frames=list(range(len(seq)))+[None]*4, interval=500);\n",
        "path = f\"dumps/aria_sequence_loc/{seq_key}_{chunk_idx}.gif\"\n",
        "anim.save(path, fps=2)\n",
        "plt.close()\n",
        "display(Image(filename=path, format=\"png\"));"
      ],
      "execution_count": null,
      "outputs": []
    },
    {
      "cell_type": "code",
      "metadata": {
        "originalKey": "268567f4-bf99-4332-b6d9-fbd2666a3a3d",
        "showInput": true,
        "customInput": null
      },
      "source": [
        "# Check pointclo"
      ],
      "execution_count": null,
      "outputs": []
    }
  ]
}
